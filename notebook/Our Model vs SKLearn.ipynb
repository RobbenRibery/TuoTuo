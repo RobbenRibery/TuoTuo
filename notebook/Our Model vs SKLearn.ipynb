{
 "cells": [
  {
   "cell_type": "code",
   "execution_count": 210,
   "metadata": {},
   "outputs": [
    {
     "name": "stdout",
     "output_type": "stream",
     "text": [
      "The autoreload extension is already loaded. To reload it, use:\n",
      "  %reload_ext autoreload\n"
     ]
    }
   ],
   "source": [
    "%load_ext autoreload\n",
    "%autoreload 2\n",
    "import sys \n",
    "if '/Users/ericliu/Desktop/Latent-Dirichilet-Allocation' not in sys.path: \n",
    "    sys.path.append('/Users/ericliu/Desktop/Latent-Dirichilet-Allocation')\n",
    "import torch as tr \n",
    "import numpy as np \n",
    "from pprint import pprint \n",
    "import pandas as pd \n",
    "from collections import defaultdict\n",
    "from pprint import pprint\n",
    "import matplotlib.pyplot as plt \n",
    "import copy \n",
    "\n",
    "from sklearn.decomposition import LatentDirichletAllocation \n",
    "from tuotuo.lda_model import LDASmoothed \n",
    "from tuotuo.generator import doc_generator \n",
    "from tuotuo.document import Document \n",
    "from tuotuo.utils import (\n",
    "    get_vocab_from_docs, \n",
    "    get_np_wct, \n",
    "    data_loader,\n",
    "    text_pipeline, \n",
    "    process_documents,\n",
    ")\n",
    "from tuotuo.text_pre_processor import (\n",
    "    remove_accented_chars, \n",
    "    remove_special_characters, \n",
    "    remove_punctuation,\n",
    "    remove_extra_whitespace_tabs,\n",
    "    remove_stopwords,\n",
    ") \n",
    "from tuotuo.lda_model import _update \n",
    "from tuotuo.cutils import (\n",
    "    _dirichlet_expectation_1d, \n",
    "    _dirichlet_expectation_2d,\n",
    ")"
   ]
  },
  {
   "attachments": {},
   "cell_type": "markdown",
   "metadata": {},
   "source": [
    "# Document Generation"
   ]
  },
  {
   "cell_type": "code",
   "execution_count": 3,
   "metadata": {},
   "outputs": [],
   "source": [
    "gen = doc_generator(\n",
    "    M = 100,\n",
    "    L = 20, \n",
    "    topic_prior = \\\n",
    "        tr.tensor(\n",
    "        [1,1,1,1,1], \n",
    "        dtype=tr.double\n",
    "    )\n",
    ")"
   ]
  },
  {
   "cell_type": "code",
   "execution_count": 4,
   "metadata": {},
   "outputs": [
    {
     "data": {
      "text/plain": [
       "Dirichlet(concentration: torch.Size([5]))"
      ]
     },
     "execution_count": 4,
     "metadata": {},
     "output_type": "execute_result"
    }
   ],
   "source": [
    "gen.alpha"
   ]
  },
  {
   "cell_type": "code",
   "execution_count": 5,
   "metadata": {},
   "outputs": [
    {
     "data": {
      "text/plain": [
       "torch.Size([100, 5])"
      ]
     },
     "execution_count": 5,
     "metadata": {},
     "output_type": "execute_result"
    }
   ],
   "source": [
    "gen.theta.shape"
   ]
  },
  {
   "cell_type": "code",
   "execution_count": 6,
   "metadata": {},
   "outputs": [],
   "source": [
    "#gen.theta"
   ]
  },
  {
   "cell_type": "code",
   "execution_count": 7,
   "metadata": {},
   "outputs": [],
   "source": [
    "docs = gen.generate_doc()"
   ]
  },
  {
   "cell_type": "code",
   "execution_count": 8,
   "metadata": {},
   "outputs": [
    {
     "name": "stdout",
     "output_type": "stream",
     "text": [
      "<class 'dict'>\n"
     ]
    }
   ],
   "source": [
    "print(type(docs)) "
   ]
  },
  {
   "cell_type": "code",
   "execution_count": 9,
   "metadata": {},
   "outputs": [],
   "source": [
    "#docs_raw_dict, raw_word_2_idx, raw_idx_2_word = data_loader('ap')"
   ]
  },
  {
   "cell_type": "code",
   "execution_count": 10,
   "metadata": {},
   "outputs": [
    {
     "name": "stdout",
     "output_type": "stream",
     "text": [
      "There are 100 documents in the dataset after processing\n",
      "On average estimated document length is 10.0 words per document after processing\n",
      "There are 40 unique vocab in the corpus after processing\n"
     ]
    }
   ],
   "source": [
    "result = process_documents(docs, sample=True)"
   ]
  },
  {
   "cell_type": "code",
   "execution_count": 11,
   "metadata": {},
   "outputs": [
    {
     "name": "stdout",
     "output_type": "stream",
     "text": [
      "dict_keys(['documents', 'vocab_doc_count_dict', 'vocab_doc_count_array', 'vocab_to_idx', 'idx_to_vocab'])\n"
     ]
    }
   ],
   "source": [
    "print(result.keys())"
   ]
  },
  {
   "cell_type": "code",
   "execution_count": 12,
   "metadata": {},
   "outputs": [
    {
     "name": "stdout",
     "output_type": "stream",
     "text": [
      "dict_keys(['documents', 'vocab_doc_count_dict', 'vocab_doc_count_array', 'vocab_to_idx', 'idx_to_vocab'])\n"
     ]
    }
   ],
   "source": [
    "print(result.keys())"
   ]
  },
  {
   "cell_type": "code",
   "execution_count": 13,
   "metadata": {},
   "outputs": [
    {
     "name": "stdout",
     "output_type": "stream",
     "text": [
      "['immunology', 'electricity', 'form', 'bankrupt', 'contract', 'content', 'injection', 'allergy', 'court', 'Craftsmanship', 'copyright', 'physical', 'recreation', 'contagious', 'Symmetrical', 'exercise', 'appetite', 'FIFA', 'astrophysics', 'quantum', 'decongestant', 'Olympic', 'research', 'scientst', 'attorney', 'game', 'evidence', 'divorce', 'football', 'accuse', 'infection', 'Technique', 'athletics', 'genetics', 'asymmetrical', 'bruise', 'fever', 'picture', 'energy', 'concert']\n"
     ]
    }
   ],
   "source": [
    "print(list(result['vocab_doc_count_dict'].keys()))"
   ]
  },
  {
   "cell_type": "code",
   "execution_count": 14,
   "metadata": {},
   "outputs": [],
   "source": [
    "list1 = list(result['vocab_doc_count_dict'].keys()) \n",
    "list2 = list(result['vocab_to_idx'].keys())\n",
    "\n",
    "for l1, l2 in zip(list1, list2): \n",
    "    assert l1 == l2 "
   ]
  },
  {
   "cell_type": "code",
   "execution_count": 15,
   "metadata": {},
   "outputs": [
    {
     "data": {
      "text/plain": [
       "array([[2., 1., 1., ..., 0., 0., 0.],\n",
       "       [0., 0., 1., ..., 0., 0., 0.],\n",
       "       [0., 0., 0., ..., 0., 0., 0.],\n",
       "       ...,\n",
       "       [0., 0., 1., ..., 0., 0., 1.],\n",
       "       [1., 1., 0., ..., 0., 2., 0.],\n",
       "       [0., 0., 0., ..., 1., 0., 0.]])"
      ]
     },
     "execution_count": 15,
     "metadata": {},
     "output_type": "execute_result"
    }
   ],
   "source": [
    "result['vocab_doc_count_array'].T"
   ]
  },
  {
   "cell_type": "code",
   "execution_count": 16,
   "metadata": {},
   "outputs": [
    {
     "name": "stdout",
     "output_type": "stream",
     "text": [
      "(100, 40)\n"
     ]
    }
   ],
   "source": [
    "doc_vocab_count = np.zeros(\n",
    "    (\n",
    "        len(docs), len(result['vocab_to_idx'])\n",
    "    ),\n",
    "    dtype = float,\n",
    ")\n",
    "\n",
    "for doc_idx, doc in enumerate(result['documents']): \n",
    "    for word in doc: \n",
    "        vocab_idx = result['vocab_to_idx'][word]\n",
    "        doc_vocab_count[doc_idx, vocab_idx] += 1 \n",
    "\n",
    "print(doc_vocab_count.shape)"
   ]
  },
  {
   "cell_type": "code",
   "execution_count": 17,
   "metadata": {},
   "outputs": [
    {
     "data": {
      "text/plain": [
       "array([[2., 1., 1., ..., 0., 0., 0.],\n",
       "       [0., 0., 1., ..., 0., 0., 0.],\n",
       "       [0., 0., 0., ..., 0., 0., 0.],\n",
       "       ...,\n",
       "       [0., 0., 1., ..., 0., 0., 1.],\n",
       "       [1., 1., 0., ..., 0., 2., 0.],\n",
       "       [0., 0., 0., ..., 1., 0., 0.]])"
      ]
     },
     "execution_count": 17,
     "metadata": {},
     "output_type": "execute_result"
    }
   ],
   "source": [
    "doc_vocab_count "
   ]
  },
  {
   "cell_type": "code",
   "execution_count": 18,
   "metadata": {},
   "outputs": [
    {
     "data": {
      "text/plain": [
       "True"
      ]
     },
     "execution_count": 18,
     "metadata": {},
     "output_type": "execute_result"
    }
   ],
   "source": [
    "(result['vocab_doc_count_array'].T == doc_vocab_count).all()"
   ]
  },
  {
   "cell_type": "code",
   "execution_count": 19,
   "metadata": {},
   "outputs": [
    {
     "data": {
      "text/plain": [
       "array([[2., 1., 1., ..., 0., 0., 0.],\n",
       "       [0., 0., 1., ..., 0., 0., 0.],\n",
       "       [0., 0., 0., ..., 0., 0., 0.],\n",
       "       ...,\n",
       "       [0., 0., 1., ..., 0., 0., 1.],\n",
       "       [1., 1., 0., ..., 0., 2., 0.],\n",
       "       [0., 0., 0., ..., 1., 0., 0.]])"
      ]
     },
     "execution_count": 19,
     "metadata": {},
     "output_type": "execute_result"
    }
   ],
   "source": [
    "doc_vocab_count"
   ]
  },
  {
   "cell_type": "code",
   "execution_count": 20,
   "metadata": {},
   "outputs": [
    {
     "data": {
      "text/html": [
       "<div>\n",
       "<style scoped>\n",
       "    .dataframe tbody tr th:only-of-type {\n",
       "        vertical-align: middle;\n",
       "    }\n",
       "\n",
       "    .dataframe tbody tr th {\n",
       "        vertical-align: top;\n",
       "    }\n",
       "\n",
       "    .dataframe thead th {\n",
       "        text-align: right;\n",
       "    }\n",
       "</style>\n",
       "<table border=\"1\" class=\"dataframe\">\n",
       "  <thead>\n",
       "    <tr style=\"text-align: right;\">\n",
       "      <th></th>\n",
       "      <th>immunology</th>\n",
       "      <th>electricity</th>\n",
       "      <th>form</th>\n",
       "      <th>bankrupt</th>\n",
       "      <th>contract</th>\n",
       "      <th>content</th>\n",
       "      <th>injection</th>\n",
       "      <th>allergy</th>\n",
       "      <th>court</th>\n",
       "      <th>Craftsmanship</th>\n",
       "      <th>...</th>\n",
       "      <th>infection</th>\n",
       "      <th>Technique</th>\n",
       "      <th>athletics</th>\n",
       "      <th>genetics</th>\n",
       "      <th>asymmetrical</th>\n",
       "      <th>bruise</th>\n",
       "      <th>fever</th>\n",
       "      <th>picture</th>\n",
       "      <th>energy</th>\n",
       "      <th>concert</th>\n",
       "    </tr>\n",
       "  </thead>\n",
       "  <tbody>\n",
       "    <tr>\n",
       "      <th>0</th>\n",
       "      <td>2.0</td>\n",
       "      <td>1.0</td>\n",
       "      <td>1.0</td>\n",
       "      <td>1.0</td>\n",
       "      <td>1.0</td>\n",
       "      <td>1.0</td>\n",
       "      <td>1.0</td>\n",
       "      <td>1.0</td>\n",
       "      <td>1.0</td>\n",
       "      <td>0.0</td>\n",
       "      <td>...</td>\n",
       "      <td>0.0</td>\n",
       "      <td>0.0</td>\n",
       "      <td>0.0</td>\n",
       "      <td>0.0</td>\n",
       "      <td>0.0</td>\n",
       "      <td>0.0</td>\n",
       "      <td>0.0</td>\n",
       "      <td>0.0</td>\n",
       "      <td>0.0</td>\n",
       "      <td>0.0</td>\n",
       "    </tr>\n",
       "    <tr>\n",
       "      <th>1</th>\n",
       "      <td>0.0</td>\n",
       "      <td>0.0</td>\n",
       "      <td>1.0</td>\n",
       "      <td>0.0</td>\n",
       "      <td>0.0</td>\n",
       "      <td>0.0</td>\n",
       "      <td>0.0</td>\n",
       "      <td>0.0</td>\n",
       "      <td>0.0</td>\n",
       "      <td>1.0</td>\n",
       "      <td>...</td>\n",
       "      <td>0.0</td>\n",
       "      <td>0.0</td>\n",
       "      <td>0.0</td>\n",
       "      <td>0.0</td>\n",
       "      <td>0.0</td>\n",
       "      <td>0.0</td>\n",
       "      <td>0.0</td>\n",
       "      <td>0.0</td>\n",
       "      <td>0.0</td>\n",
       "      <td>0.0</td>\n",
       "    </tr>\n",
       "    <tr>\n",
       "      <th>2</th>\n",
       "      <td>0.0</td>\n",
       "      <td>0.0</td>\n",
       "      <td>0.0</td>\n",
       "      <td>0.0</td>\n",
       "      <td>0.0</td>\n",
       "      <td>0.0</td>\n",
       "      <td>0.0</td>\n",
       "      <td>1.0</td>\n",
       "      <td>1.0</td>\n",
       "      <td>0.0</td>\n",
       "      <td>...</td>\n",
       "      <td>0.0</td>\n",
       "      <td>0.0</td>\n",
       "      <td>0.0</td>\n",
       "      <td>0.0</td>\n",
       "      <td>0.0</td>\n",
       "      <td>0.0</td>\n",
       "      <td>0.0</td>\n",
       "      <td>0.0</td>\n",
       "      <td>0.0</td>\n",
       "      <td>0.0</td>\n",
       "    </tr>\n",
       "    <tr>\n",
       "      <th>3</th>\n",
       "      <td>0.0</td>\n",
       "      <td>1.0</td>\n",
       "      <td>0.0</td>\n",
       "      <td>0.0</td>\n",
       "      <td>0.0</td>\n",
       "      <td>0.0</td>\n",
       "      <td>1.0</td>\n",
       "      <td>0.0</td>\n",
       "      <td>0.0</td>\n",
       "      <td>0.0</td>\n",
       "      <td>...</td>\n",
       "      <td>0.0</td>\n",
       "      <td>0.0</td>\n",
       "      <td>0.0</td>\n",
       "      <td>0.0</td>\n",
       "      <td>0.0</td>\n",
       "      <td>0.0</td>\n",
       "      <td>0.0</td>\n",
       "      <td>0.0</td>\n",
       "      <td>0.0</td>\n",
       "      <td>0.0</td>\n",
       "    </tr>\n",
       "    <tr>\n",
       "      <th>4</th>\n",
       "      <td>1.0</td>\n",
       "      <td>0.0</td>\n",
       "      <td>0.0</td>\n",
       "      <td>1.0</td>\n",
       "      <td>1.0</td>\n",
       "      <td>0.0</td>\n",
       "      <td>0.0</td>\n",
       "      <td>0.0</td>\n",
       "      <td>2.0</td>\n",
       "      <td>0.0</td>\n",
       "      <td>...</td>\n",
       "      <td>1.0</td>\n",
       "      <td>0.0</td>\n",
       "      <td>0.0</td>\n",
       "      <td>0.0</td>\n",
       "      <td>0.0</td>\n",
       "      <td>0.0</td>\n",
       "      <td>0.0</td>\n",
       "      <td>0.0</td>\n",
       "      <td>0.0</td>\n",
       "      <td>0.0</td>\n",
       "    </tr>\n",
       "    <tr>\n",
       "      <th>...</th>\n",
       "      <td>...</td>\n",
       "      <td>...</td>\n",
       "      <td>...</td>\n",
       "      <td>...</td>\n",
       "      <td>...</td>\n",
       "      <td>...</td>\n",
       "      <td>...</td>\n",
       "      <td>...</td>\n",
       "      <td>...</td>\n",
       "      <td>...</td>\n",
       "      <td>...</td>\n",
       "      <td>...</td>\n",
       "      <td>...</td>\n",
       "      <td>...</td>\n",
       "      <td>...</td>\n",
       "      <td>...</td>\n",
       "      <td>...</td>\n",
       "      <td>...</td>\n",
       "      <td>...</td>\n",
       "      <td>...</td>\n",
       "      <td>...</td>\n",
       "    </tr>\n",
       "    <tr>\n",
       "      <th>95</th>\n",
       "      <td>1.0</td>\n",
       "      <td>0.0</td>\n",
       "      <td>0.0</td>\n",
       "      <td>0.0</td>\n",
       "      <td>0.0</td>\n",
       "      <td>0.0</td>\n",
       "      <td>0.0</td>\n",
       "      <td>0.0</td>\n",
       "      <td>0.0</td>\n",
       "      <td>0.0</td>\n",
       "      <td>...</td>\n",
       "      <td>0.0</td>\n",
       "      <td>0.0</td>\n",
       "      <td>0.0</td>\n",
       "      <td>1.0</td>\n",
       "      <td>1.0</td>\n",
       "      <td>0.0</td>\n",
       "      <td>0.0</td>\n",
       "      <td>0.0</td>\n",
       "      <td>1.0</td>\n",
       "      <td>1.0</td>\n",
       "    </tr>\n",
       "    <tr>\n",
       "      <th>96</th>\n",
       "      <td>0.0</td>\n",
       "      <td>1.0</td>\n",
       "      <td>0.0</td>\n",
       "      <td>0.0</td>\n",
       "      <td>1.0</td>\n",
       "      <td>0.0</td>\n",
       "      <td>0.0</td>\n",
       "      <td>1.0</td>\n",
       "      <td>0.0</td>\n",
       "      <td>1.0</td>\n",
       "      <td>...</td>\n",
       "      <td>0.0</td>\n",
       "      <td>0.0</td>\n",
       "      <td>0.0</td>\n",
       "      <td>1.0</td>\n",
       "      <td>1.0</td>\n",
       "      <td>1.0</td>\n",
       "      <td>0.0</td>\n",
       "      <td>0.0</td>\n",
       "      <td>0.0</td>\n",
       "      <td>0.0</td>\n",
       "    </tr>\n",
       "    <tr>\n",
       "      <th>97</th>\n",
       "      <td>0.0</td>\n",
       "      <td>0.0</td>\n",
       "      <td>1.0</td>\n",
       "      <td>0.0</td>\n",
       "      <td>0.0</td>\n",
       "      <td>0.0</td>\n",
       "      <td>0.0</td>\n",
       "      <td>0.0</td>\n",
       "      <td>0.0</td>\n",
       "      <td>0.0</td>\n",
       "      <td>...</td>\n",
       "      <td>0.0</td>\n",
       "      <td>0.0</td>\n",
       "      <td>0.0</td>\n",
       "      <td>0.0</td>\n",
       "      <td>0.0</td>\n",
       "      <td>0.0</td>\n",
       "      <td>1.0</td>\n",
       "      <td>0.0</td>\n",
       "      <td>0.0</td>\n",
       "      <td>1.0</td>\n",
       "    </tr>\n",
       "    <tr>\n",
       "      <th>98</th>\n",
       "      <td>1.0</td>\n",
       "      <td>1.0</td>\n",
       "      <td>0.0</td>\n",
       "      <td>0.0</td>\n",
       "      <td>0.0</td>\n",
       "      <td>0.0</td>\n",
       "      <td>0.0</td>\n",
       "      <td>0.0</td>\n",
       "      <td>0.0</td>\n",
       "      <td>0.0</td>\n",
       "      <td>...</td>\n",
       "      <td>0.0</td>\n",
       "      <td>0.0</td>\n",
       "      <td>0.0</td>\n",
       "      <td>0.0</td>\n",
       "      <td>0.0</td>\n",
       "      <td>1.0</td>\n",
       "      <td>0.0</td>\n",
       "      <td>0.0</td>\n",
       "      <td>2.0</td>\n",
       "      <td>0.0</td>\n",
       "    </tr>\n",
       "    <tr>\n",
       "      <th>99</th>\n",
       "      <td>0.0</td>\n",
       "      <td>0.0</td>\n",
       "      <td>0.0</td>\n",
       "      <td>0.0</td>\n",
       "      <td>0.0</td>\n",
       "      <td>0.0</td>\n",
       "      <td>0.0</td>\n",
       "      <td>0.0</td>\n",
       "      <td>0.0</td>\n",
       "      <td>0.0</td>\n",
       "      <td>...</td>\n",
       "      <td>0.0</td>\n",
       "      <td>0.0</td>\n",
       "      <td>0.0</td>\n",
       "      <td>1.0</td>\n",
       "      <td>0.0</td>\n",
       "      <td>0.0</td>\n",
       "      <td>0.0</td>\n",
       "      <td>1.0</td>\n",
       "      <td>0.0</td>\n",
       "      <td>0.0</td>\n",
       "    </tr>\n",
       "  </tbody>\n",
       "</table>\n",
       "<p>100 rows × 40 columns</p>\n",
       "</div>"
      ],
      "text/plain": [
       "    immunology  electricity  form  bankrupt  contract  content  injection  \\\n",
       "0          2.0          1.0   1.0       1.0       1.0      1.0        1.0   \n",
       "1          0.0          0.0   1.0       0.0       0.0      0.0        0.0   \n",
       "2          0.0          0.0   0.0       0.0       0.0      0.0        0.0   \n",
       "3          0.0          1.0   0.0       0.0       0.0      0.0        1.0   \n",
       "4          1.0          0.0   0.0       1.0       1.0      0.0        0.0   \n",
       "..         ...          ...   ...       ...       ...      ...        ...   \n",
       "95         1.0          0.0   0.0       0.0       0.0      0.0        0.0   \n",
       "96         0.0          1.0   0.0       0.0       1.0      0.0        0.0   \n",
       "97         0.0          0.0   1.0       0.0       0.0      0.0        0.0   \n",
       "98         1.0          1.0   0.0       0.0       0.0      0.0        0.0   \n",
       "99         0.0          0.0   0.0       0.0       0.0      0.0        0.0   \n",
       "\n",
       "    allergy  court  Craftsmanship  ...  infection  Technique  athletics  \\\n",
       "0       1.0    1.0            0.0  ...        0.0        0.0        0.0   \n",
       "1       0.0    0.0            1.0  ...        0.0        0.0        0.0   \n",
       "2       1.0    1.0            0.0  ...        0.0        0.0        0.0   \n",
       "3       0.0    0.0            0.0  ...        0.0        0.0        0.0   \n",
       "4       0.0    2.0            0.0  ...        1.0        0.0        0.0   \n",
       "..      ...    ...            ...  ...        ...        ...        ...   \n",
       "95      0.0    0.0            0.0  ...        0.0        0.0        0.0   \n",
       "96      1.0    0.0            1.0  ...        0.0        0.0        0.0   \n",
       "97      0.0    0.0            0.0  ...        0.0        0.0        0.0   \n",
       "98      0.0    0.0            0.0  ...        0.0        0.0        0.0   \n",
       "99      0.0    0.0            0.0  ...        0.0        0.0        0.0   \n",
       "\n",
       "    genetics  asymmetrical  bruise  fever  picture  energy  concert  \n",
       "0        0.0           0.0     0.0    0.0      0.0     0.0      0.0  \n",
       "1        0.0           0.0     0.0    0.0      0.0     0.0      0.0  \n",
       "2        0.0           0.0     0.0    0.0      0.0     0.0      0.0  \n",
       "3        0.0           0.0     0.0    0.0      0.0     0.0      0.0  \n",
       "4        0.0           0.0     0.0    0.0      0.0     0.0      0.0  \n",
       "..       ...           ...     ...    ...      ...     ...      ...  \n",
       "95       1.0           1.0     0.0    0.0      0.0     1.0      1.0  \n",
       "96       1.0           1.0     1.0    0.0      0.0     0.0      0.0  \n",
       "97       0.0           0.0     0.0    1.0      0.0     0.0      1.0  \n",
       "98       0.0           0.0     1.0    0.0      0.0     2.0      0.0  \n",
       "99       1.0           0.0     0.0    0.0      1.0     0.0      0.0  \n",
       "\n",
       "[100 rows x 40 columns]"
      ]
     },
     "execution_count": 20,
     "metadata": {},
     "output_type": "execute_result"
    }
   ],
   "source": [
    "doc_vocab_count_df = pd.DataFrame(\n",
    "    data = doc_vocab_count,\n",
    "    columns = list(result['vocab_to_idx'].keys())\n",
    ")\n",
    "doc_vocab_count_df"
   ]
  },
  {
   "cell_type": "code",
   "execution_count": 21,
   "metadata": {},
   "outputs": [
    {
     "name": "stdout",
     "output_type": "stream",
     "text": [
      "There are 100 documents in the dataset after processing\n",
      "On average estimated document length is 20.0 words per document after processing\n",
      "There are 40 unique vocab in the corpus after processing\n"
     ]
    }
   ],
   "source": [
    "train_docs = Document(docs)\n"
   ]
  },
  {
   "attachments": {},
   "cell_type": "markdown",
   "metadata": {},
   "source": [
    "# Our Model"
   ]
  },
  {
   "cell_type": "code",
   "execution_count": 274,
   "metadata": {},
   "outputs": [
    {
     "name": "stdout",
     "output_type": "stream",
     "text": [
      "Topic Dirichlet Prior, α\n",
      "[[1.04708219 0.98292693 0.97347267 0.97347428 1.16278368]]\n",
      "\n",
      "Exchangeable Word Dirichlet Prior, Eta \n",
      "1\n",
      "\n",
      "Var Inf - Word Dirichlet prior, Lambda\n",
      "(5, 40)\n",
      "\n",
      "Var Inf - Topic Dirichlet prior, Gamma\n",
      "(100, 5)\n",
      "\n",
      "Init perplexity = 85.05043007230731\n",
      "End perplexity = 47.02075175995182\n",
      "Alpha -> [[1.04708219 0.98292693 0.97347267 0.97347428 1.16278368]]\n",
      "Gamma -> \n",
      "Gradient -> [[ 7.82534007  5.38270751 -5.40704078 12.27397335 16.23739257]]\n",
      "Alpha -> [[1.20495454 1.11243024 1.03809162 1.1414265  1.40963694]]\n",
      "Gamma -> \n",
      "Gradient -> [[ 1.11549043  0.67004398 -0.70965836  1.93964376  2.91114328]]\n",
      "Alpha -> [[1.24028282 1.14083319 1.05495169 1.1802229  1.47113214]]\n",
      "Gamma -> \n",
      "Gradient -> [[ 0.03465675  0.01695829 -0.02384606  0.06897264  0.12284423]]\n",
      "Alpha -> [[1.24165599 1.14192443 1.05565932 1.18176861 1.4737839 ]]\n",
      "Gamma -> \n",
      "Gradient -> [[ 4.14197506e-05  1.42829655e-05 -3.41328701e-05  9.80465720e-05\n",
      "   2.19532080e-04]]\n",
      "Alpha -> [[1.24165805 1.14192607 1.05566047 1.18177098 1.47378837]]\n",
      "Gamma -> \n",
      "Gradient -> [[ 7.21342985e-11  9.60653779e-12 -8.00923772e-11  2.14328111e-10\n",
      "   6.50089760e-10]]\n",
      "46.91695075613672\n"
     ]
    },
    {
     "data": {
      "image/png": "[encoded data removed]",
      "text/plain": [
       "<Figure size 640x480 with 1 Axes>"
      ]
     },
     "metadata": {},
     "output_type": "display_data"
    }
   ],
   "source": [
    "lda = LDASmoothed(\n",
    "    num_topics = 5, \n",
    "    exchangeable_prior = False,\n",
    ")\n",
    "\n",
    "expec_logs, perplexes = lda.fit(\n",
    "    train_doc= train_docs,\n",
    "    sampling= False,\n",
    "    verbose=True,\n",
    "    return_perplexities=True,\n",
    ")\n",
    "\n",
    "vars = _update(\n",
    "    lda._alpha_,\n",
    "    lda._gamma_,\n",
    "    lda.M, \n",
    ")\n",
    "\n",
    "perplexes.append(\n",
    "    lda.approx_perplexity(\n",
    "        train_docs.doc_vocab_count_array\n",
    "    )[0]\n",
    ")\n",
    "\n",
    "plt.plot(perplexes)\n",
    "print(perplexes[-1])\n",
    "#print(lda._alpha_)\n",
    "#print(lda._eta_)"
   ]
  },
  {
   "cell_type": "code",
   "execution_count": 298,
   "metadata": {},
   "outputs": [
    {
     "name": "stdout",
     "output_type": "stream",
     "text": [
      "Topic Dirichlet Prior, α\n",
      "[[1.04708219 0.98292693 0.97347267 0.97347428 1.16278368]]\n",
      "\n",
      "Exchangeable Word Dirichlet Prior, Eta \n",
      "1\n",
      "\n",
      "Var Inf - Word Dirichlet prior, Lambda\n",
      "(5, 40)\n",
      "\n",
      "Var Inf - Topic Dirichlet prior, Gamma\n",
      "(100, 5)\n",
      "\n",
      "Init perplexity = 85.05043007230731\n"
     ]
    },
    {
     "name": "stderr",
     "output_type": "stream",
     "text": [
      "/Users/ericliu/Desktop/Latent-Dirichilet-Allocation/tuotuo/lda_model.py:541: UserWarning: Update Eta: Maximum iteration reached at step 10001\n",
      "  \n"
     ]
    },
    {
     "name": "stdout",
     "output_type": "stream",
     "text": [
      "End perplexity = 40.05947782825555\n",
      "40.05947782825555\n"
     ]
    },
    {
     "data": {
      "image/png": "[encoded data removed]",
      "text/plain": [
       "<Figure size 640x480 with 1 Axes>"
      ]
     },
     "metadata": {},
     "output_type": "display_data"
    }
   ],
   "source": [
    "lda = LDASmoothed(\n",
    "    num_topics = 5, \n",
    "    exchangeable_prior = False,\n",
    ")\n",
    "expec_logs, perplexities = \\\n",
    "    lda.fit(\n",
    "    train_doc= train_docs,\n",
    "    sampling= False,\n",
    "    verbose=True,\n",
    "    return_perplexities=True,\n",
    ")\n",
    "plt.plot(perplexities)\n",
    "print(perplexities[-1])"
   ]
  },
  {
   "cell_type": "code",
   "execution_count": 299,
   "metadata": {},
   "outputs": [
    {
     "name": "stdout",
     "output_type": "stream",
     "text": [
      "M Step: Iteration 0, Delta Alpha = 8.640199666842818e-12\n",
      "Alpha Old:[[402.18557603 394.56256017 392.23090426 393.07064214 422.37086408]] -> Alpha New:[[402.18557603 394.56256017 392.23090426 393.07064214 422.37086408]]\n",
      "40.059477828259254\n"
     ]
    },
    {
     "data": {
      "image/png": "[encoded data removed]",
      "text/plain": [
       "<Figure size 640x480 with 1 Axes>"
      ]
     },
     "metadata": {},
     "output_type": "display_data"
    }
   ],
   "source": [
    "lda.update_alpha(verbose=True)\n",
    "\n",
    "perplexities.append(\n",
    "    lda.approx_perplexity(\n",
    "        train_docs.doc_vocab_count_array\n",
    "    )[0]\n",
    ")\n",
    "\n",
    "plt.plot(perplexities)\n",
    "print(perplexities[-1])"
   ]
  },
  {
   "cell_type": "code",
   "execution_count": 301,
   "metadata": {},
   "outputs": [
    {
     "name": "stdout",
     "output_type": "stream",
     "text": [
      "M Step: delta eta is 6.62339516566135e-10\n",
      "Eta Old 753.850523450796 -> Eta New 753.8505234501337\n",
      "40.059477828259254\n"
     ]
    },
    {
     "data": {
      "image/png": "[encoded data removed]",
      "text/plain": [
       "<Figure size 640x480 with 1 Axes>"
      ]
     },
     "metadata": {},
     "output_type": "display_data"
    }
   ],
   "source": [
    "lda.update_eta(verbose=True)\n",
    "\n",
    "\n",
    "perplexities.append(\n",
    "    lda.approx_perplexity(\n",
    "        train_docs.doc_vocab_count_array\n",
    "    )[0]\n",
    ")\n",
    "\n",
    "plt.plot(perplexities)\n",
    "print(perplexities[-1])"
   ]
  },
  {
   "cell_type": "code",
   "execution_count": 302,
   "metadata": {},
   "outputs": [
    {
     "name": "stdout",
     "output_type": "stream",
     "text": [
      "[[402.18557603 394.56256017 392.23090426 393.07064214 422.37086408]]\n"
     ]
    }
   ],
   "source": [
    "print(lda._alpha_)"
   ]
  },
  {
   "cell_type": "code",
   "execution_count": 303,
   "metadata": {},
   "outputs": [
    {
     "name": "stdout",
     "output_type": "stream",
     "text": [
      "753.8505234501337\n"
     ]
    }
   ],
   "source": [
    "print(lda._eta_)"
   ]
  },
  {
   "attachments": {},
   "cell_type": "markdown",
   "metadata": {},
   "source": [
    "- As we can see, without update the hyper-parameter $\\alpha$ and $\\eta$, we extract keywords from topics almost correctly. \n",
    "\n",
    "Although we still can see that some are not perfect, i.e. electricity ranked higher than scientist "
   ]
  },
  {
   "cell_type": "code",
   "execution_count": 304,
   "metadata": {},
   "outputs": [
    {
     "name": "stdout",
     "output_type": "stream",
     "text": [
      "Topic 0\n",
      "Top 1 -> picture\n",
      "Top 2 -> copyright\n",
      "Top 3 -> allergy\n",
      "Top 4 -> Symmetrical\n",
      "Top 5 -> fever\n",
      "\n",
      "Topic 1\n",
      "Top 1 -> picture\n",
      "Top 2 -> allergy\n",
      "Top 3 -> copyright\n",
      "Top 4 -> Symmetrical\n",
      "Top 5 -> fever\n",
      "\n",
      "Topic 2\n",
      "Top 1 -> picture\n",
      "Top 2 -> allergy\n",
      "Top 3 -> copyright\n",
      "Top 4 -> Symmetrical\n",
      "Top 5 -> fever\n",
      "\n",
      "Topic 3\n",
      "Top 1 -> picture\n",
      "Top 2 -> allergy\n",
      "Top 3 -> copyright\n",
      "Top 4 -> Symmetrical\n",
      "Top 5 -> fever\n",
      "\n",
      "Topic 4\n",
      "Top 1 -> picture\n",
      "Top 2 -> copyright\n",
      "Top 3 -> allergy\n",
      "Top 4 -> Symmetrical\n",
      "Top 5 -> fever\n",
      "\n"
     ]
    }
   ],
   "source": [
    "lda.get_top_k_words(5)"
   ]
  },
  {
   "attachments": {},
   "cell_type": "markdown",
   "metadata": {},
   "source": [
    "# Target model"
   ]
  },
  {
   "cell_type": "code",
   "execution_count": 84,
   "metadata": {},
   "outputs": [
    {
     "name": "stdout",
     "output_type": "stream",
     "text": [
      "alpha -> 1\n",
      "eta -> 1\n",
      "lambda\n",
      "(5, 40)\n",
      "Init perplexity = 100.09491669750783\n",
      "End perplexity = 51.81904206040911\n"
     ]
    },
    {
     "data": {
      "text/plain": [
       "[<matplotlib.lines.Line2D at 0x111560dc0>]"
      ]
     },
     "execution_count": 84,
     "metadata": {},
     "output_type": "execute_result"
    },
    {
     "data": {
      "image/png": "[encoded data removed]",
      "text/plain": [
       "<Figure size 640x480 with 1 Axes>"
      ]
     },
     "metadata": {},
     "output_type": "display_data"
    }
   ],
   "source": [
    "sklearn_lda = LatentDirichletAllocation(\n",
    "    n_components=5,\n",
    "    random_state=42,\n",
    "    doc_topic_prior= 1,\n",
    "    topic_word_prior= 1,\n",
    ")\n",
    "sklearn_lda._init_latent_vars(n_features = lda.V)\n",
    "\n",
    "print(f\"alpha -> {sklearn_lda.doc_topic_prior}\")\n",
    "print(f\"eta -> {sklearn_lda.topic_word_prior}\")\n",
    "\n",
    "print('lambda')\n",
    "print(sklearn_lda.components_.shape)\n",
    "#assert (sklearn_lda.components_ == lambda_init).all()\n",
    "\n",
    "perplxities_sklearn = []\n",
    "init_perplexity = sklearn_lda._perplexity_precomp_distr(\n",
    "    doc_vocab_count, \n",
    "    doc_topic_distr = lda._gamma_,\n",
    "    sub_sampling=False\n",
    ")\n",
    "print(f\"Init perplexity = {init_perplexity}\")\n",
    "perplxities_sklearn.append(init_perplexity)\n",
    "\n",
    "for i in range(100):\n",
    "    sklearn_lda._em_step(doc_vocab_count, doc_vocab_count.shape[0], True, )\n",
    "    em_step_perplexity = sklearn_lda.perplexity(doc_vocab_count)\n",
    "    #print(f\"{i+1} EM step perplexity is {em_step_perplexity}\")\n",
    "    perplxities_sklearn.append(em_step_perplexity)\n",
    "print(f\"End perplexity = {perplxities_sklearn[-1]}\")\n",
    "plt.plot(perplxities_sklearn)"
   ]
  },
  {
   "cell_type": "code",
   "execution_count": null,
   "metadata": {},
   "outputs": [],
   "source": []
  }
 ],
 "metadata": {
  "kernelspec": {
   "display_name": ".venv",
   "language": "python",
   "name": "python3"
  },
  "language_info": {
   "codemirror_mode": {
    "name": "ipython",
    "version": 3
   },
   "file_extension": ".py",
   "mimetype": "text/x-python",
   "name": "python",
   "nbconvert_exporter": "python",
   "pygments_lexer": "ipython3",
   "version": "3.8.9"
  },
  "orig_nbformat": 4
 },
 "nbformat": 4,
 "nbformat_minor": 2
}
