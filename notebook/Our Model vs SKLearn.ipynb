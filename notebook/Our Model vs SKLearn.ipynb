{
 "cells": [
  {
   "cell_type": "code",
   "execution_count": 2,
   "metadata": {},
   "outputs": [
    {
     "name": "stdout",
     "output_type": "stream",
     "text": [
      "The autoreload extension is already loaded. To reload it, use:\n",
      "  %reload_ext autoreload\n"
     ]
    }
   ],
   "source": [
    "%load_ext autoreload\n",
    "%autoreload 2\n",
    "import sys \n",
    "if '/Users/ericliu/Desktop/Latent-Dirichilet-Allocation' not in sys.path: \n",
    "    sys.path.append('/Users/ericliu/Desktop/Latent-Dirichilet-Allocation')\n",
    "import torch as tr \n",
    "import numpy as np \n",
    "import pandas as pd \n",
    "from collections import defaultdict\n",
    "from pprint import pprint\n",
    "import matplotlib.pyplot as plt \n",
    "\n",
    "from sklearn.decomposition import LatentDirichletAllocation \n",
    "from tuotuo.lda_model import LDASmoothed \n",
    "from tuotuo.generator import doc_generator \n",
    "\n",
    "from tuotuo.document import Document \n",
    "\n",
    "from tuotuo.utils import (\n",
    "    get_vocab_from_docs, \n",
    "    get_np_wct, \n",
    "    data_loader,\n",
    "    text_pipeline, \n",
    "    process_documents,\n",
    ") \n",
    "from tuotuo.text_pre_processor import (\n",
    "    remove_accented_chars, \n",
    "    remove_special_characters, \n",
    "    remove_punctuation,\n",
    "    remove_extra_whitespace_tabs,\n",
    "    remove_stopwords,\n",
    ")\n",
    "from pprint import pprint \n",
    "import copy  \n",
    "\n",
    "from tuotuo.cutils import (\n",
    "    _dirichlet_expectation_1d, \n",
    "    _dirichlet_expectation_2d,\n",
    ")"
   ]
  },
  {
   "attachments": {},
   "cell_type": "markdown",
   "metadata": {},
   "source": [
    "# Document Generation"
   ]
  },
  {
   "cell_type": "code",
   "execution_count": 3,
   "metadata": {},
   "outputs": [],
   "source": [
    "gen = doc_generator(\n",
    "    M = 100,\n",
    "    L = 20, \n",
    "    topic_prior = tr.tensor([1,1,1,1,1], dtype=tr.double)\n",
    ")"
   ]
  },
  {
   "cell_type": "code",
   "execution_count": 4,
   "metadata": {},
   "outputs": [
    {
     "data": {
      "text/plain": [
       "Dirichlet(concentration: torch.Size([5]))"
      ]
     },
     "execution_count": 4,
     "metadata": {},
     "output_type": "execute_result"
    }
   ],
   "source": [
    "gen.alpha"
   ]
  },
  {
   "cell_type": "code",
   "execution_count": 5,
   "metadata": {},
   "outputs": [
    {
     "data": {
      "text/plain": [
       "torch.Size([100, 5])"
      ]
     },
     "execution_count": 5,
     "metadata": {},
     "output_type": "execute_result"
    }
   ],
   "source": [
    "gen.theta.shape"
   ]
  },
  {
   "cell_type": "code",
   "execution_count": 6,
   "metadata": {},
   "outputs": [],
   "source": [
    "#gen.theta"
   ]
  },
  {
   "cell_type": "code",
   "execution_count": 7,
   "metadata": {},
   "outputs": [],
   "source": [
    "docs = gen.generate_doc()"
   ]
  },
  {
   "cell_type": "code",
   "execution_count": 8,
   "metadata": {},
   "outputs": [
    {
     "name": "stdout",
     "output_type": "stream",
     "text": [
      "<class 'dict'>\n"
     ]
    }
   ],
   "source": [
    "print(type(docs)) "
   ]
  },
  {
   "cell_type": "code",
   "execution_count": 9,
   "metadata": {},
   "outputs": [],
   "source": [
    "#docs_raw_dict, raw_word_2_idx, raw_idx_2_word = data_loader('ap')"
   ]
  },
  {
   "cell_type": "code",
   "execution_count": 10,
   "metadata": {},
   "outputs": [
    {
     "name": "stdout",
     "output_type": "stream",
     "text": [
      "There are 100 documents in the dataset after processing\n",
      "On average estimated document length is 10.0 words per document after processing\n",
      "There are 40 unique vocab in the corpus after processing\n"
     ]
    }
   ],
   "source": [
    "result = process_documents(docs, sample=True)"
   ]
  },
  {
   "cell_type": "code",
   "execution_count": 11,
   "metadata": {},
   "outputs": [
    {
     "name": "stdout",
     "output_type": "stream",
     "text": [
      "dict_keys(['documents', 'vocab_doc_count_dict', 'vocab_doc_count_array', 'vocab_to_idx', 'idx_to_vocab'])\n"
     ]
    }
   ],
   "source": [
    "print(result.keys())"
   ]
  },
  {
   "cell_type": "code",
   "execution_count": 12,
   "metadata": {},
   "outputs": [
    {
     "name": "stdout",
     "output_type": "stream",
     "text": [
      "dict_keys(['documents', 'vocab_doc_count_dict', 'vocab_doc_count_array', 'vocab_to_idx', 'idx_to_vocab'])\n"
     ]
    }
   ],
   "source": [
    "print(result.keys())"
   ]
  },
  {
   "cell_type": "code",
   "execution_count": 13,
   "metadata": {},
   "outputs": [
    {
     "name": "stdout",
     "output_type": "stream",
     "text": [
      "['immunology', 'electricity', 'form', 'bankrupt', 'contract', 'content', 'injection', 'allergy', 'court', 'Craftsmanship', 'copyright', 'physical', 'recreation', 'contagious', 'Symmetrical', 'exercise', 'appetite', 'FIFA', 'astrophysics', 'quantum', 'decongestant', 'Olympic', 'research', 'scientst', 'attorney', 'game', 'evidence', 'divorce', 'football', 'accuse', 'infection', 'Technique', 'athletics', 'genetics', 'asymmetrical', 'bruise', 'fever', 'picture', 'energy', 'concert']\n"
     ]
    }
   ],
   "source": [
    "print(list(result['vocab_doc_count_dict'].keys()))"
   ]
  },
  {
   "cell_type": "code",
   "execution_count": 14,
   "metadata": {},
   "outputs": [],
   "source": [
    "list1 = list(result['vocab_doc_count_dict'].keys()) \n",
    "list2 = list(result['vocab_to_idx'].keys())\n",
    "\n",
    "for l1, l2 in zip(list1, list2): \n",
    "    assert l1 == l2 "
   ]
  },
  {
   "cell_type": "code",
   "execution_count": 15,
   "metadata": {},
   "outputs": [
    {
     "data": {
      "text/plain": [
       "array([[2., 1., 1., ..., 0., 0., 0.],\n",
       "       [0., 0., 1., ..., 0., 0., 0.],\n",
       "       [0., 0., 0., ..., 0., 0., 0.],\n",
       "       ...,\n",
       "       [0., 0., 1., ..., 0., 0., 1.],\n",
       "       [1., 1., 0., ..., 0., 2., 0.],\n",
       "       [0., 0., 0., ..., 1., 0., 0.]])"
      ]
     },
     "execution_count": 15,
     "metadata": {},
     "output_type": "execute_result"
    }
   ],
   "source": [
    "result['vocab_doc_count_array'].T"
   ]
  },
  {
   "cell_type": "code",
   "execution_count": 16,
   "metadata": {},
   "outputs": [
    {
     "name": "stdout",
     "output_type": "stream",
     "text": [
      "(100, 40)\n"
     ]
    }
   ],
   "source": [
    "doc_vocab_count = np.zeros(\n",
    "    (\n",
    "        len(docs), len(result['vocab_to_idx'])\n",
    "    ),\n",
    "    dtype = float,\n",
    ")\n",
    "\n",
    "for doc_idx, doc in enumerate(result['documents']): \n",
    "    for word in doc: \n",
    "        vocab_idx = result['vocab_to_idx'][word]\n",
    "        doc_vocab_count[doc_idx, vocab_idx] += 1 \n",
    "\n",
    "print(doc_vocab_count.shape)"
   ]
  },
  {
   "cell_type": "code",
   "execution_count": 17,
   "metadata": {},
   "outputs": [
    {
     "data": {
      "text/plain": [
       "array([[2., 1., 1., ..., 0., 0., 0.],\n",
       "       [0., 0., 1., ..., 0., 0., 0.],\n",
       "       [0., 0., 0., ..., 0., 0., 0.],\n",
       "       ...,\n",
       "       [0., 0., 1., ..., 0., 0., 1.],\n",
       "       [1., 1., 0., ..., 0., 2., 0.],\n",
       "       [0., 0., 0., ..., 1., 0., 0.]])"
      ]
     },
     "execution_count": 17,
     "metadata": {},
     "output_type": "execute_result"
    }
   ],
   "source": [
    "doc_vocab_count "
   ]
  },
  {
   "cell_type": "code",
   "execution_count": 18,
   "metadata": {},
   "outputs": [
    {
     "data": {
      "text/plain": [
       "True"
      ]
     },
     "execution_count": 18,
     "metadata": {},
     "output_type": "execute_result"
    }
   ],
   "source": [
    "(result['vocab_doc_count_array'].T == doc_vocab_count).all()"
   ]
  },
  {
   "cell_type": "code",
   "execution_count": 19,
   "metadata": {},
   "outputs": [
    {
     "data": {
      "text/plain": [
       "array([[2., 1., 1., ..., 0., 0., 0.],\n",
       "       [0., 0., 1., ..., 0., 0., 0.],\n",
       "       [0., 0., 0., ..., 0., 0., 0.],\n",
       "       ...,\n",
       "       [0., 0., 1., ..., 0., 0., 1.],\n",
       "       [1., 1., 0., ..., 0., 2., 0.],\n",
       "       [0., 0., 0., ..., 1., 0., 0.]])"
      ]
     },
     "execution_count": 19,
     "metadata": {},
     "output_type": "execute_result"
    }
   ],
   "source": [
    "doc_vocab_count"
   ]
  },
  {
   "cell_type": "code",
   "execution_count": 20,
   "metadata": {},
   "outputs": [
    {
     "data": {
      "text/html": [
       "<div>\n",
       "<style scoped>\n",
       "    .dataframe tbody tr th:only-of-type {\n",
       "        vertical-align: middle;\n",
       "    }\n",
       "\n",
       "    .dataframe tbody tr th {\n",
       "        vertical-align: top;\n",
       "    }\n",
       "\n",
       "    .dataframe thead th {\n",
       "        text-align: right;\n",
       "    }\n",
       "</style>\n",
       "<table border=\"1\" class=\"dataframe\">\n",
       "  <thead>\n",
       "    <tr style=\"text-align: right;\">\n",
       "      <th></th>\n",
       "      <th>immunology</th>\n",
       "      <th>electricity</th>\n",
       "      <th>form</th>\n",
       "      <th>bankrupt</th>\n",
       "      <th>contract</th>\n",
       "      <th>content</th>\n",
       "      <th>injection</th>\n",
       "      <th>allergy</th>\n",
       "      <th>court</th>\n",
       "      <th>Craftsmanship</th>\n",
       "      <th>...</th>\n",
       "      <th>infection</th>\n",
       "      <th>Technique</th>\n",
       "      <th>athletics</th>\n",
       "      <th>genetics</th>\n",
       "      <th>asymmetrical</th>\n",
       "      <th>bruise</th>\n",
       "      <th>fever</th>\n",
       "      <th>picture</th>\n",
       "      <th>energy</th>\n",
       "      <th>concert</th>\n",
       "    </tr>\n",
       "  </thead>\n",
       "  <tbody>\n",
       "    <tr>\n",
       "      <th>0</th>\n",
       "      <td>2.0</td>\n",
       "      <td>1.0</td>\n",
       "      <td>1.0</td>\n",
       "      <td>1.0</td>\n",
       "      <td>1.0</td>\n",
       "      <td>1.0</td>\n",
       "      <td>1.0</td>\n",
       "      <td>1.0</td>\n",
       "      <td>1.0</td>\n",
       "      <td>0.0</td>\n",
       "      <td>...</td>\n",
       "      <td>0.0</td>\n",
       "      <td>0.0</td>\n",
       "      <td>0.0</td>\n",
       "      <td>0.0</td>\n",
       "      <td>0.0</td>\n",
       "      <td>0.0</td>\n",
       "      <td>0.0</td>\n",
       "      <td>0.0</td>\n",
       "      <td>0.0</td>\n",
       "      <td>0.0</td>\n",
       "    </tr>\n",
       "    <tr>\n",
       "      <th>1</th>\n",
       "      <td>0.0</td>\n",
       "      <td>0.0</td>\n",
       "      <td>1.0</td>\n",
       "      <td>0.0</td>\n",
       "      <td>0.0</td>\n",
       "      <td>0.0</td>\n",
       "      <td>0.0</td>\n",
       "      <td>0.0</td>\n",
       "      <td>0.0</td>\n",
       "      <td>1.0</td>\n",
       "      <td>...</td>\n",
       "      <td>0.0</td>\n",
       "      <td>0.0</td>\n",
       "      <td>0.0</td>\n",
       "      <td>0.0</td>\n",
       "      <td>0.0</td>\n",
       "      <td>0.0</td>\n",
       "      <td>0.0</td>\n",
       "      <td>0.0</td>\n",
       "      <td>0.0</td>\n",
       "      <td>0.0</td>\n",
       "    </tr>\n",
       "    <tr>\n",
       "      <th>2</th>\n",
       "      <td>0.0</td>\n",
       "      <td>0.0</td>\n",
       "      <td>0.0</td>\n",
       "      <td>0.0</td>\n",
       "      <td>0.0</td>\n",
       "      <td>0.0</td>\n",
       "      <td>0.0</td>\n",
       "      <td>1.0</td>\n",
       "      <td>1.0</td>\n",
       "      <td>0.0</td>\n",
       "      <td>...</td>\n",
       "      <td>0.0</td>\n",
       "      <td>0.0</td>\n",
       "      <td>0.0</td>\n",
       "      <td>0.0</td>\n",
       "      <td>0.0</td>\n",
       "      <td>0.0</td>\n",
       "      <td>0.0</td>\n",
       "      <td>0.0</td>\n",
       "      <td>0.0</td>\n",
       "      <td>0.0</td>\n",
       "    </tr>\n",
       "    <tr>\n",
       "      <th>3</th>\n",
       "      <td>0.0</td>\n",
       "      <td>1.0</td>\n",
       "      <td>0.0</td>\n",
       "      <td>0.0</td>\n",
       "      <td>0.0</td>\n",
       "      <td>0.0</td>\n",
       "      <td>1.0</td>\n",
       "      <td>0.0</td>\n",
       "      <td>0.0</td>\n",
       "      <td>0.0</td>\n",
       "      <td>...</td>\n",
       "      <td>0.0</td>\n",
       "      <td>0.0</td>\n",
       "      <td>0.0</td>\n",
       "      <td>0.0</td>\n",
       "      <td>0.0</td>\n",
       "      <td>0.0</td>\n",
       "      <td>0.0</td>\n",
       "      <td>0.0</td>\n",
       "      <td>0.0</td>\n",
       "      <td>0.0</td>\n",
       "    </tr>\n",
       "    <tr>\n",
       "      <th>4</th>\n",
       "      <td>1.0</td>\n",
       "      <td>0.0</td>\n",
       "      <td>0.0</td>\n",
       "      <td>1.0</td>\n",
       "      <td>1.0</td>\n",
       "      <td>0.0</td>\n",
       "      <td>0.0</td>\n",
       "      <td>0.0</td>\n",
       "      <td>2.0</td>\n",
       "      <td>0.0</td>\n",
       "      <td>...</td>\n",
       "      <td>1.0</td>\n",
       "      <td>0.0</td>\n",
       "      <td>0.0</td>\n",
       "      <td>0.0</td>\n",
       "      <td>0.0</td>\n",
       "      <td>0.0</td>\n",
       "      <td>0.0</td>\n",
       "      <td>0.0</td>\n",
       "      <td>0.0</td>\n",
       "      <td>0.0</td>\n",
       "    </tr>\n",
       "    <tr>\n",
       "      <th>...</th>\n",
       "      <td>...</td>\n",
       "      <td>...</td>\n",
       "      <td>...</td>\n",
       "      <td>...</td>\n",
       "      <td>...</td>\n",
       "      <td>...</td>\n",
       "      <td>...</td>\n",
       "      <td>...</td>\n",
       "      <td>...</td>\n",
       "      <td>...</td>\n",
       "      <td>...</td>\n",
       "      <td>...</td>\n",
       "      <td>...</td>\n",
       "      <td>...</td>\n",
       "      <td>...</td>\n",
       "      <td>...</td>\n",
       "      <td>...</td>\n",
       "      <td>...</td>\n",
       "      <td>...</td>\n",
       "      <td>...</td>\n",
       "      <td>...</td>\n",
       "    </tr>\n",
       "    <tr>\n",
       "      <th>95</th>\n",
       "      <td>1.0</td>\n",
       "      <td>0.0</td>\n",
       "      <td>0.0</td>\n",
       "      <td>0.0</td>\n",
       "      <td>0.0</td>\n",
       "      <td>0.0</td>\n",
       "      <td>0.0</td>\n",
       "      <td>0.0</td>\n",
       "      <td>0.0</td>\n",
       "      <td>0.0</td>\n",
       "      <td>...</td>\n",
       "      <td>0.0</td>\n",
       "      <td>0.0</td>\n",
       "      <td>0.0</td>\n",
       "      <td>1.0</td>\n",
       "      <td>1.0</td>\n",
       "      <td>0.0</td>\n",
       "      <td>0.0</td>\n",
       "      <td>0.0</td>\n",
       "      <td>1.0</td>\n",
       "      <td>1.0</td>\n",
       "    </tr>\n",
       "    <tr>\n",
       "      <th>96</th>\n",
       "      <td>0.0</td>\n",
       "      <td>1.0</td>\n",
       "      <td>0.0</td>\n",
       "      <td>0.0</td>\n",
       "      <td>1.0</td>\n",
       "      <td>0.0</td>\n",
       "      <td>0.0</td>\n",
       "      <td>1.0</td>\n",
       "      <td>0.0</td>\n",
       "      <td>1.0</td>\n",
       "      <td>...</td>\n",
       "      <td>0.0</td>\n",
       "      <td>0.0</td>\n",
       "      <td>0.0</td>\n",
       "      <td>1.0</td>\n",
       "      <td>1.0</td>\n",
       "      <td>1.0</td>\n",
       "      <td>0.0</td>\n",
       "      <td>0.0</td>\n",
       "      <td>0.0</td>\n",
       "      <td>0.0</td>\n",
       "    </tr>\n",
       "    <tr>\n",
       "      <th>97</th>\n",
       "      <td>0.0</td>\n",
       "      <td>0.0</td>\n",
       "      <td>1.0</td>\n",
       "      <td>0.0</td>\n",
       "      <td>0.0</td>\n",
       "      <td>0.0</td>\n",
       "      <td>0.0</td>\n",
       "      <td>0.0</td>\n",
       "      <td>0.0</td>\n",
       "      <td>0.0</td>\n",
       "      <td>...</td>\n",
       "      <td>0.0</td>\n",
       "      <td>0.0</td>\n",
       "      <td>0.0</td>\n",
       "      <td>0.0</td>\n",
       "      <td>0.0</td>\n",
       "      <td>0.0</td>\n",
       "      <td>1.0</td>\n",
       "      <td>0.0</td>\n",
       "      <td>0.0</td>\n",
       "      <td>1.0</td>\n",
       "    </tr>\n",
       "    <tr>\n",
       "      <th>98</th>\n",
       "      <td>1.0</td>\n",
       "      <td>1.0</td>\n",
       "      <td>0.0</td>\n",
       "      <td>0.0</td>\n",
       "      <td>0.0</td>\n",
       "      <td>0.0</td>\n",
       "      <td>0.0</td>\n",
       "      <td>0.0</td>\n",
       "      <td>0.0</td>\n",
       "      <td>0.0</td>\n",
       "      <td>...</td>\n",
       "      <td>0.0</td>\n",
       "      <td>0.0</td>\n",
       "      <td>0.0</td>\n",
       "      <td>0.0</td>\n",
       "      <td>0.0</td>\n",
       "      <td>1.0</td>\n",
       "      <td>0.0</td>\n",
       "      <td>0.0</td>\n",
       "      <td>2.0</td>\n",
       "      <td>0.0</td>\n",
       "    </tr>\n",
       "    <tr>\n",
       "      <th>99</th>\n",
       "      <td>0.0</td>\n",
       "      <td>0.0</td>\n",
       "      <td>0.0</td>\n",
       "      <td>0.0</td>\n",
       "      <td>0.0</td>\n",
       "      <td>0.0</td>\n",
       "      <td>0.0</td>\n",
       "      <td>0.0</td>\n",
       "      <td>0.0</td>\n",
       "      <td>0.0</td>\n",
       "      <td>...</td>\n",
       "      <td>0.0</td>\n",
       "      <td>0.0</td>\n",
       "      <td>0.0</td>\n",
       "      <td>1.0</td>\n",
       "      <td>0.0</td>\n",
       "      <td>0.0</td>\n",
       "      <td>0.0</td>\n",
       "      <td>1.0</td>\n",
       "      <td>0.0</td>\n",
       "      <td>0.0</td>\n",
       "    </tr>\n",
       "  </tbody>\n",
       "</table>\n",
       "<p>100 rows × 40 columns</p>\n",
       "</div>"
      ],
      "text/plain": [
       "    immunology  electricity  form  bankrupt  contract  content  injection  \\\n",
       "0          2.0          1.0   1.0       1.0       1.0      1.0        1.0   \n",
       "1          0.0          0.0   1.0       0.0       0.0      0.0        0.0   \n",
       "2          0.0          0.0   0.0       0.0       0.0      0.0        0.0   \n",
       "3          0.0          1.0   0.0       0.0       0.0      0.0        1.0   \n",
       "4          1.0          0.0   0.0       1.0       1.0      0.0        0.0   \n",
       "..         ...          ...   ...       ...       ...      ...        ...   \n",
       "95         1.0          0.0   0.0       0.0       0.0      0.0        0.0   \n",
       "96         0.0          1.0   0.0       0.0       1.0      0.0        0.0   \n",
       "97         0.0          0.0   1.0       0.0       0.0      0.0        0.0   \n",
       "98         1.0          1.0   0.0       0.0       0.0      0.0        0.0   \n",
       "99         0.0          0.0   0.0       0.0       0.0      0.0        0.0   \n",
       "\n",
       "    allergy  court  Craftsmanship  ...  infection  Technique  athletics  \\\n",
       "0       1.0    1.0            0.0  ...        0.0        0.0        0.0   \n",
       "1       0.0    0.0            1.0  ...        0.0        0.0        0.0   \n",
       "2       1.0    1.0            0.0  ...        0.0        0.0        0.0   \n",
       "3       0.0    0.0            0.0  ...        0.0        0.0        0.0   \n",
       "4       0.0    2.0            0.0  ...        1.0        0.0        0.0   \n",
       "..      ...    ...            ...  ...        ...        ...        ...   \n",
       "95      0.0    0.0            0.0  ...        0.0        0.0        0.0   \n",
       "96      1.0    0.0            1.0  ...        0.0        0.0        0.0   \n",
       "97      0.0    0.0            0.0  ...        0.0        0.0        0.0   \n",
       "98      0.0    0.0            0.0  ...        0.0        0.0        0.0   \n",
       "99      0.0    0.0            0.0  ...        0.0        0.0        0.0   \n",
       "\n",
       "    genetics  asymmetrical  bruise  fever  picture  energy  concert  \n",
       "0        0.0           0.0     0.0    0.0      0.0     0.0      0.0  \n",
       "1        0.0           0.0     0.0    0.0      0.0     0.0      0.0  \n",
       "2        0.0           0.0     0.0    0.0      0.0     0.0      0.0  \n",
       "3        0.0           0.0     0.0    0.0      0.0     0.0      0.0  \n",
       "4        0.0           0.0     0.0    0.0      0.0     0.0      0.0  \n",
       "..       ...           ...     ...    ...      ...     ...      ...  \n",
       "95       1.0           1.0     0.0    0.0      0.0     1.0      1.0  \n",
       "96       1.0           1.0     1.0    0.0      0.0     0.0      0.0  \n",
       "97       0.0           0.0     0.0    1.0      0.0     0.0      1.0  \n",
       "98       0.0           0.0     1.0    0.0      0.0     2.0      0.0  \n",
       "99       1.0           0.0     0.0    0.0      1.0     0.0      0.0  \n",
       "\n",
       "[100 rows x 40 columns]"
      ]
     },
     "execution_count": 20,
     "metadata": {},
     "output_type": "execute_result"
    }
   ],
   "source": [
    "doc_vocab_count_df = pd.DataFrame(\n",
    "    data = doc_vocab_count,\n",
    "    columns = list(result['vocab_to_idx'].keys())\n",
    ")\n",
    "doc_vocab_count_df"
   ]
  },
  {
   "cell_type": "code",
   "execution_count": 21,
   "metadata": {},
   "outputs": [
    {
     "name": "stdout",
     "output_type": "stream",
     "text": [
      "There are 100 documents in the dataset after processing\n",
      "On average estimated document length is 20.0 words per document after processing\n",
      "There are 40 unique vocab in the corpus after processing\n"
     ]
    }
   ],
   "source": [
    "train_docs = Document(docs)\n"
   ]
  },
  {
   "attachments": {},
   "cell_type": "markdown",
   "metadata": {},
   "source": [
    "# Our Model"
   ]
  },
  {
   "cell_type": "code",
   "execution_count": 48,
   "metadata": {},
   "outputs": [
    {
     "name": "stdout",
     "output_type": "stream",
     "text": [
      "Topic Dirichlet Prior, Alpha\n",
      "1\n",
      "\n",
      "Exchangeable Word Dirichlet Prior, Eta \n",
      "1\n",
      "\n",
      "Var Inf - Word Dirichlet prior, Lambda\n",
      "(5, 40)\n",
      "\n",
      "Var Inf - Topic Dirichlet prior, Gamma\n",
      "(100, 5)\n",
      "\n",
      "Init perplexity = 85.21826660620073\n",
      "End perplexity = 46.74749840140342\n"
     ]
    },
    {
     "data": {
      "text/plain": [
       "[<matplotlib.lines.Line2D at 0x2af620340>]"
      ]
     },
     "execution_count": 48,
     "metadata": {},
     "output_type": "execute_result"
    },
    {
     "data": {
      "image/png": "[encoded data removed]",
      "text/plain": [
       "<Figure size 640x480 with 1 Axes>"
      ]
     },
     "metadata": {},
     "output_type": "display_data"
    }
   ],
   "source": [
    "lda = LDASmoothed(\n",
    "    num_topics = 5, \n",
    ")\n",
    "\n",
    "perplexes = lda.fit(\n",
    "    train_doc= train_docs,\n",
    "    sampling= False,\n",
    "    verbose=True, \n",
    "    return_perplexities=True,\n",
    ")\n",
    "\n",
    "plt.plot(perplexes)"
   ]
  },
  {
   "cell_type": "code",
   "execution_count": 49,
   "metadata": {},
   "outputs": [
    {
     "data": {
      "text/plain": [
       "21.668797290656705"
      ]
     },
     "execution_count": 49,
     "metadata": {},
     "output_type": "execute_result"
    }
   ],
   "source": [
    "lda._lambda_[0,30]"
   ]
  },
  {
   "attachments": {},
   "cell_type": "markdown",
   "metadata": {},
   "source": [
    "- As we can see, without update the hyper-parameter $\\alpha$ and $\\eta$, we extract keywords from topics almost correctly. \n",
    "\n",
    "Although we still can see that some are not perfect, i.e. electricity ranked higher than scientist "
   ]
  },
  {
   "cell_type": "code",
   "execution_count": 50,
   "metadata": {},
   "outputs": [
    {
     "name": "stdout",
     "output_type": "stream",
     "text": [
      "Topic 0\n",
      "Top 1 -> decongestant\n",
      "Top 2 -> injection\n",
      "Top 3 -> contagious\n",
      "Top 4 -> allergy\n",
      "Top 5 -> fever\n",
      "\n",
      "Topic 1\n",
      "Top 1 -> electricity\n",
      "Top 2 -> copyright\n",
      "Top 3 -> research\n",
      "Top 4 -> astrophysics\n",
      "Top 5 -> scientst\n",
      "\n",
      "Topic 2\n",
      "Top 1 -> physical\n",
      "Top 2 -> FIFA\n",
      "Top 3 -> Olympic\n",
      "Top 4 -> exercise\n",
      "Top 5 -> football\n",
      "\n",
      "Topic 3\n",
      "Top 1 -> bankrupt\n",
      "Top 2 -> accuse\n",
      "Top 3 -> divorce\n",
      "Top 4 -> attorney\n",
      "Top 5 -> Technique\n",
      "\n",
      "Topic 4\n",
      "Top 1 -> form\n",
      "Top 2 -> content\n",
      "Top 3 -> game\n",
      "Top 4 -> picture\n",
      "Top 5 -> concert\n",
      "\n"
     ]
    }
   ],
   "source": [
    "for topic_index in range(lda._lambda_.shape[0]):\n",
    "\n",
    "    top5 = np.argsort(lda._lambda_[topic_index,:],)[-5:]\n",
    "    print(f\"Topic {topic_index}\")\n",
    "    for i, idx in enumerate(top5):\n",
    "        print(f\"Top {i+1} -> {lda.train_doc.idx_to_vocab[idx]}\")\n",
    "    print()"
   ]
  },
  {
   "cell_type": "code",
   "execution_count": 51,
   "metadata": {},
   "outputs": [
    {
     "name": "stdout",
     "output_type": "stream",
     "text": [
      "M Step: Iteration 0, Delta Alpha = 0.13697892722148586\n",
      "Alpha Old:1 -> Alpha New:1.1369789272214859\n",
      "M Step: Iteration 1, Delta Alpha = 0.023849009258976928\n",
      "Alpha Old:1.1369789272214859 -> Alpha New:1.1608279364804628\n",
      "M Step: Iteration 2, Delta Alpha = 0.0005614532381987836\n",
      "Alpha Old:1.1608279364804628 -> Alpha New:1.1613893897186616\n",
      "M Step: Iteration 3, Delta Alpha = 2.9776402721282125e-07\n",
      "Alpha Old:1.1613893897186616 -> Alpha New:1.1613896874826888\n",
      "M Step: Iteration 4, Delta Alpha = 8.43769498715119e-14\n",
      "Alpha Old:1.1613896874826888 -> Alpha New:1.1613896874827732\n"
     ]
    }
   ],
   "source": [
    "lda.update_alpha(verbose=True)"
   ]
  },
  {
   "cell_type": "code",
   "execution_count": 55,
   "metadata": {},
   "outputs": [
    {
     "name": "stdout",
     "output_type": "stream",
     "text": [
      "46.681809094220604\n"
     ]
    }
   ],
   "source": [
    "perplexity, suff_stats = lda.approx_perplexity(X=train_docs.doc_vocab_count_array, sampling=False)\n",
    "print(perplexity)"
   ]
  },
  {
   "attachments": {},
   "cell_type": "markdown",
   "metadata": {},
   "source": [
    "# Target model"
   ]
  },
  {
   "cell_type": "code",
   "execution_count": 84,
   "metadata": {},
   "outputs": [
    {
     "name": "stdout",
     "output_type": "stream",
     "text": [
      "alpha -> 1\n",
      "eta -> 1\n",
      "lambda\n",
      "(5, 40)\n",
      "Init perplexity = 100.09491669750783\n",
      "End perplexity = 51.81904206040911\n"
     ]
    },
    {
     "data": {
      "text/plain": [
       "[<matplotlib.lines.Line2D at 0x111560dc0>]"
      ]
     },
     "execution_count": 84,
     "metadata": {},
     "output_type": "execute_result"
    },
    {
     "data": {
      "image/png": "[encoded data removed]",
      "text/plain": [
       "<Figure size 640x480 with 1 Axes>"
      ]
     },
     "metadata": {},
     "output_type": "display_data"
    }
   ],
   "source": [
    "sklearn_lda = LatentDirichletAllocation(\n",
    "    n_components=5,\n",
    "    random_state=42,\n",
    "    doc_topic_prior= 1,\n",
    "    topic_word_prior= 1,\n",
    ")\n",
    "sklearn_lda._init_latent_vars(n_features = lda.V)\n",
    "\n",
    "print(f\"alpha -> {sklearn_lda.doc_topic_prior}\")\n",
    "print(f\"eta -> {sklearn_lda.topic_word_prior}\")\n",
    "\n",
    "print('lambda')\n",
    "print(sklearn_lda.components_.shape)\n",
    "#assert (sklearn_lda.components_ == lambda_init).all()\n",
    "\n",
    "perplxities_sklearn = []\n",
    "init_perplexity = sklearn_lda._perplexity_precomp_distr(\n",
    "    doc_vocab_count, \n",
    "    doc_topic_distr = lda._gamma_,\n",
    "    sub_sampling=False\n",
    ")\n",
    "print(f\"Init perplexity = {init_perplexity}\")\n",
    "perplxities_sklearn.append(init_perplexity)\n",
    "\n",
    "for i in range(100):\n",
    "    \n",
    "    sklearn_lda._em_step(doc_vocab_count, doc_vocab_count.shape[0], True, )\n",
    "\n",
    "    em_step_perplexity = sklearn_lda.perplexity(doc_vocab_count)\n",
    "    #print(f\"{i+1} EM step perplexity is {em_step_perplexity}\")\n",
    "    perplxities_sklearn.append(em_step_perplexity)\n",
    "print(f\"End perplexity = {perplxities_sklearn[-1]}\")\n",
    "plt.plot(perplxities_sklearn)"
   ]
  },
  {
   "cell_type": "code",
   "execution_count": null,
   "metadata": {},
   "outputs": [],
   "source": []
  }
 ],
 "metadata": {
  "kernelspec": {
   "display_name": ".venv",
   "language": "python",
   "name": "python3"
  },
  "language_info": {
   "codemirror_mode": {
    "name": "ipython",
    "version": 3
   },
   "file_extension": ".py",
   "mimetype": "text/x-python",
   "name": "python",
   "nbconvert_exporter": "python",
   "pygments_lexer": "ipython3",
   "version": "3.8.9"
  },
  "orig_nbformat": 4
 },
 "nbformat": 4,
 "nbformat_minor": 2
}
