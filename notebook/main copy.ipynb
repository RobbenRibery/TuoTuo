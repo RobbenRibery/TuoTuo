{
 "cells": [
  {
   "cell_type": "code",
   "execution_count": 94,
   "metadata": {},
   "outputs": [
    {
     "name": "stdout",
     "output_type": "stream",
     "text": [
      "The autoreload extension is already loaded. To reload it, use:\n",
      "  %reload_ext autoreload\n"
     ]
    }
   ],
   "source": [
    "%load_ext autoreload\n",
    "%autoreload 2\n",
    "import sys \n",
    "if '/Users/ericliu/Desktop/Latent-Dirichilet-Allocation' not in sys.path: \n",
    "    sys.path.append('/Users/ericliu/Desktop/Latent-Dirichilet-Allocation')\n",
    "import torch as tr \n",
    "import numpy as np \n",
    "import pandas as pd \n",
    "from collections import defaultdict\n",
    "from pprint import pprint\n",
    "import matplotlib.pyplot as plt \n",
    "\n",
    "from sklearn.decomposition import LatentDirichletAllocation \n",
    "from src.lda_model import LDASmoothed \n",
    "from src.generator import doc_generator \n",
    "from src.utils import (\n",
    "    get_vocab_from_docs, \n",
    "    get_np_wct, \n",
    "    data_loader,\n",
    "    text_pipeline, \n",
    "    process_documents,\n",
    "    compute_elbo,\n",
    ") \n",
    "from src.text_pre_processor import (\n",
    "    remove_accented_chars, \n",
    "    remove_special_characters, \n",
    "    remove_punctuation,\n",
    "    remove_extra_whitespace_tabs,\n",
    "    remove_stopwords,\n",
    ")\n",
    "from pprint import pprint \n",
    "import copy  \n",
    "\n",
    "from src.cutils import (\n",
    "    _dirichlet_expectation_1d, \n",
    "    _dirichlet_expectation_2d,\n",
    ")"
   ]
  },
  {
   "attachments": {},
   "cell_type": "markdown",
   "metadata": {},
   "source": [
    "# Document Generation"
   ]
  },
  {
   "cell_type": "code",
   "execution_count": 2,
   "metadata": {},
   "outputs": [],
   "source": [
    "gen = doc_generator(\n",
    "    M = 5,\n",
    "    L = 20, \n",
    "    topic_prior = tr.tensor([1,1,1,1,1], dtype=tr.double)\n",
    ")"
   ]
  },
  {
   "cell_type": "code",
   "execution_count": 3,
   "metadata": {},
   "outputs": [
    {
     "data": {
      "text/plain": [
       "tensor([[0.1131, 0.0589, 0.0824, 0.1060, 0.0471, 0.0824, 0.0294, 0.1060, 0.0059,\n",
       "         0.0047, 0.0353, 0.0059, 0.0118, 0.0035, 0.0012, 0.0012, 0.0118, 0.0118,\n",
       "         0.0236, 0.0236, 0.0177, 0.0177, 0.0041, 0.0047, 0.0353, 0.0059, 0.0118,\n",
       "         0.0353, 0.0177, 0.0118, 0.0029, 0.0035, 0.0029, 0.0012, 0.0353, 0.0029,\n",
       "         0.0059, 0.0118, 0.0029, 0.0029],\n",
       "        [0.0012, 0.0047, 0.0047, 0.0030, 0.0355, 0.0118, 0.0237, 0.0030, 0.0948,\n",
       "         0.0592, 0.0592, 0.1066, 0.0474, 0.1066, 0.0948, 0.1126, 0.0237, 0.0059,\n",
       "         0.0059, 0.0118, 0.0178, 0.0178, 0.0041, 0.0047, 0.0047, 0.0237, 0.0118,\n",
       "         0.0296, 0.0059, 0.0237, 0.0030, 0.0036, 0.0030, 0.0012, 0.0036, 0.0030,\n",
       "         0.0047, 0.0118, 0.0030, 0.0030],\n",
       "        [0.0014, 0.0057, 0.0043, 0.0036, 0.0143, 0.0071, 0.0286, 0.0036, 0.0071,\n",
       "         0.0043, 0.0214, 0.0014, 0.0428, 0.0043, 0.0143, 0.0014, 0.0500, 0.0999,\n",
       "         0.0999, 0.0571, 0.0857, 0.0857, 0.1285, 0.1285, 0.0057, 0.0014, 0.0143,\n",
       "         0.0071, 0.0071, 0.0071, 0.0036, 0.0143, 0.0036, 0.0014, 0.0043, 0.0036,\n",
       "         0.0043, 0.0143, 0.0036, 0.0036],\n",
       "        [0.0013, 0.0507, 0.0253, 0.0032, 0.0127, 0.0127, 0.0317, 0.0032, 0.0063,\n",
       "         0.0507, 0.0032, 0.0013, 0.0127, 0.0025, 0.0051, 0.0013, 0.0253, 0.0063,\n",
       "         0.0032, 0.0127, 0.0190, 0.0190, 0.0019, 0.0013, 0.0760, 0.0887, 0.0633,\n",
       "         0.0443, 0.0887, 0.0760, 0.1140, 0.1013, 0.0032, 0.0013, 0.0051, 0.0032,\n",
       "         0.0038, 0.0127, 0.0032, 0.0032],\n",
       "        [0.0012, 0.0023, 0.0035, 0.0029, 0.0117, 0.0058, 0.0117, 0.0029, 0.0058,\n",
       "         0.0035, 0.0029, 0.0035, 0.0117, 0.0023, 0.0047, 0.0023, 0.0175, 0.0117,\n",
       "         0.0029, 0.0234, 0.0175, 0.0175, 0.0018, 0.0012, 0.0023, 0.0047, 0.0234,\n",
       "         0.0058, 0.0058, 0.0058, 0.0029, 0.0047, 0.1051, 0.1121, 0.0701, 0.1051,\n",
       "         0.0993, 0.0701, 0.1051, 0.1051]], dtype=torch.float64)"
      ]
     },
     "execution_count": 3,
     "metadata": {},
     "output_type": "execute_result"
    }
   ],
   "source": [
    "gen.beta"
   ]
  },
  {
   "cell_type": "code",
   "execution_count": 4,
   "metadata": {},
   "outputs": [
    {
     "data": {
      "text/plain": [
       "Dirichlet(concentration: torch.Size([5]))"
      ]
     },
     "execution_count": 4,
     "metadata": {},
     "output_type": "execute_result"
    }
   ],
   "source": [
    "gen.alpha"
   ]
  },
  {
   "cell_type": "code",
   "execution_count": 5,
   "metadata": {},
   "outputs": [
    {
     "data": {
      "text/plain": [
       "torch.Size([5, 5])"
      ]
     },
     "execution_count": 5,
     "metadata": {},
     "output_type": "execute_result"
    }
   ],
   "source": [
    "gen.theta.shape"
   ]
  },
  {
   "cell_type": "code",
   "execution_count": 6,
   "metadata": {},
   "outputs": [
    {
     "data": {
      "text/plain": [
       "tensor([[0.1576, 0.2149, 0.2098, 0.3748, 0.0428],\n",
       "        [0.5228, 0.0468, 0.0134, 0.2321, 0.1848],\n",
       "        [0.0158, 0.2380, 0.0015, 0.4310, 0.3136],\n",
       "        [0.5161, 0.1350, 0.2331, 0.0053, 0.1105],\n",
       "        [0.3208, 0.3488, 0.0661, 0.2121, 0.0522]], dtype=torch.float64)"
      ]
     },
     "execution_count": 6,
     "metadata": {},
     "output_type": "execute_result"
    }
   ],
   "source": [
    "gen.theta"
   ]
  },
  {
   "cell_type": "code",
   "execution_count": 7,
   "metadata": {},
   "outputs": [
    {
     "name": "stdout",
     "output_type": "stream",
     "text": [
      "Document: 0 | word: 0 -> topic: sport -> word: recreation\n",
      "Document: 0 | word: 1 -> topic: health -> word: bruise\n",
      "Document: 0 | word: 2 -> topic: health -> word: injection\n",
      "Document: 0 | word: 3 -> topic: science -> word: quantum\n",
      "Document: 0 | word: 4 -> topic: sport -> word: decongestant\n",
      "Document: 0 | word: 5 -> topic: health -> word: injection\n",
      "Document: 0 | word: 6 -> topic: art -> word: genetics\n",
      "Document: 0 | word: 7 -> topic: art -> word: game\n",
      "Document: 0 | word: 8 -> topic: health -> word: decongestant\n",
      "Document: 0 | word: 9 -> topic: art -> word: picture\n",
      "Document 0: recreation bruise injection quantum decongestant injection genetics game decongestant picture\n",
      "\n",
      "Document: 1 | word: 0 -> topic: health -> word: injection\n",
      "Document: 1 | word: 1 -> topic: science -> word: research\n",
      "Document: 1 | word: 2 -> topic: sport -> word: athletics\n",
      "Document: 1 | word: 3 -> topic: health -> word: decongestant\n",
      "Document: 1 | word: 4 -> topic: health -> word: fever\n",
      "Document: 1 | word: 5 -> topic: sport -> word: FIFA\n",
      "Document: 1 | word: 6 -> topic: science -> word: energy\n",
      "Document: 1 | word: 7 -> topic: health -> word: Technique\n",
      "Document: 1 | word: 8 -> topic: science -> word: electricity\n",
      "Document: 1 | word: 9 -> topic: science -> word: astrophysics\n",
      "Document 1: injection research athletics decongestant fever FIFA energy Technique electricity astrophysics\n",
      "\n",
      "Document: 2 | word: 0 -> topic: health -> word: Technique\n",
      "Document: 2 | word: 1 -> topic: health -> word: fever\n",
      "Document: 2 | word: 2 -> topic: health -> word: exercise\n",
      "Document: 2 | word: 3 -> topic: law -> word: contract\n",
      "Document: 2 | word: 4 -> topic: sport -> word: Olympic\n",
      "Document: 2 | word: 5 -> topic: law -> word: contract\n",
      "Document: 2 | word: 6 -> topic: law -> word: bankrupt\n",
      "Document: 2 | word: 7 -> topic: health -> word: research\n",
      "Document: 2 | word: 8 -> topic: law -> word: bruise\n",
      "Document: 2 | word: 9 -> topic: sport -> word: Technique\n",
      "Document 2: Technique fever exercise contract Olympic contract bankrupt research bruise Technique\n",
      "\n",
      "Document: 3 | word: 0 -> topic: law -> word: research\n",
      "Document: 3 | word: 1 -> topic: art -> word: copyright\n",
      "Document: 3 | word: 2 -> topic: art -> word: Symmetrical\n",
      "Document: 3 | word: 3 -> topic: art -> word: Craftsmanship\n",
      "Document: 3 | word: 4 -> topic: sport -> word: athletics\n",
      "Document: 3 | word: 5 -> topic: art -> word: game\n",
      "Document: 3 | word: 6 -> topic: science -> word: fever\n",
      "Document: 3 | word: 7 -> topic: sport -> word: electricity\n",
      "Document: 3 | word: 8 -> topic: science -> word: quantum\n",
      "Document: 3 | word: 9 -> topic: science -> word: asymmetrical\n",
      "Document 3: research copyright Symmetrical Craftsmanship athletics game fever electricity quantum asymmetrical\n",
      "\n",
      "Document: 4 | word: 0 -> topic: science -> word: scientst\n",
      "Document: 4 | word: 1 -> topic: art -> word: picture\n",
      "Document: 4 | word: 2 -> topic: law -> word: form\n",
      "Document: 4 | word: 3 -> topic: science -> word: quantum\n",
      "Document: 4 | word: 4 -> topic: sport -> word: recreation\n",
      "Document: 4 | word: 5 -> topic: science -> word: bruise\n",
      "Document: 4 | word: 6 -> topic: sport -> word: exercise\n",
      "Document: 4 | word: 7 -> topic: science -> word: research\n",
      "Document: 4 | word: 8 -> topic: art -> word: picture\n",
      "Document: 4 | word: 9 -> topic: science -> word: scientst\n",
      "Document 4: scientst picture form quantum recreation bruise exercise research picture scientst\n",
      "\n"
     ]
    }
   ],
   "source": [
    "docs = gen.generate_doc()"
   ]
  },
  {
   "cell_type": "code",
   "execution_count": 8,
   "metadata": {},
   "outputs": [
    {
     "data": {
      "text/plain": [
       "{0: 'recreation bruise injection quantum decongestant injection genetics game decongestant picture',\n",
       " 1: 'injection research athletics decongestant fever FIFA energy Technique electricity astrophysics',\n",
       " 2: 'Technique fever exercise contract Olympic contract bankrupt research bruise Technique',\n",
       " 3: 'research copyright Symmetrical Craftsmanship athletics game fever electricity quantum asymmetrical',\n",
       " 4: 'scientst picture form quantum recreation bruise exercise research picture scientst'}"
      ]
     },
     "execution_count": 8,
     "metadata": {},
     "output_type": "execute_result"
    }
   ],
   "source": [
    "docs"
   ]
  },
  {
   "cell_type": "code",
   "execution_count": 9,
   "metadata": {},
   "outputs": [],
   "source": [
    "#docs_raw_dict, raw_word_2_idx, raw_idx_2_word = data_loader('ap')"
   ]
  },
  {
   "cell_type": "code",
   "execution_count": 10,
   "metadata": {},
   "outputs": [
    {
     "name": "stdout",
     "output_type": "stream",
     "text": [
      "There are 5 documents in the dataset after processing\n",
      "On average estimated document length is 10.0 words per document after processing\n",
      "There are 26 unique vocab in the corpus after processing\n"
     ]
    }
   ],
   "source": [
    "result = process_documents(docs, sample=True)"
   ]
  },
  {
   "cell_type": "code",
   "execution_count": 11,
   "metadata": {},
   "outputs": [
    {
     "name": "stdout",
     "output_type": "stream",
     "text": [
      "dict_keys(['documents', 'vocab_doc_count_dict', 'vocab_doc_count_array', 'vocab_to_idx', 'idx_to_vocab'])\n"
     ]
    }
   ],
   "source": [
    "print(result.keys())"
   ]
  },
  {
   "cell_type": "code",
   "execution_count": 49,
   "metadata": {},
   "outputs": [
    {
     "data": {
      "text/plain": [
       "array([[1., 1., 2., 1., 2., 1., 1., 1., 0., 0., 0., 0., 0., 0., 0., 0.,\n",
       "        0., 0., 0., 0., 0., 0., 0., 0., 0., 0.],\n",
       "       [0., 0., 1., 0., 1., 0., 0., 0., 1., 1., 1., 1., 1., 1., 1., 1.,\n",
       "        0., 0., 0., 0., 0., 0., 0., 0., 0., 0.],\n",
       "       [0., 1., 0., 0., 0., 0., 0., 0., 1., 0., 1., 0., 0., 2., 0., 0.,\n",
       "        1., 2., 1., 1., 0., 0., 0., 0., 0., 0.],\n",
       "       [0., 0., 0., 1., 0., 0., 1., 0., 1., 1., 1., 0., 0., 0., 1., 0.,\n",
       "        0., 0., 0., 0., 1., 1., 1., 1., 0., 0.],\n",
       "       [1., 1., 0., 1., 0., 0., 0., 2., 1., 0., 0., 0., 0., 0., 0., 0.,\n",
       "        1., 0., 0., 0., 0., 0., 0., 0., 2., 1.]])"
      ]
     },
     "execution_count": 49,
     "metadata": {},
     "output_type": "execute_result"
    }
   ],
   "source": [
    "doc_vocab_count = np.zeros(\n",
    "    (\n",
    "        len(docs), len(result['vocab_to_idx'])\n",
    "    ),\n",
    "    dtype = float,\n",
    ")\n",
    "\n",
    "for doc_idx, doc in enumerate(result['documents']): \n",
    "    for word in doc: \n",
    "        vocab_idx = result['vocab_to_idx'][word]\n",
    "        doc_vocab_count[doc_idx, vocab_idx] += 1 \n",
    "\n",
    "doc_vocab_count"
   ]
  },
  {
   "cell_type": "code",
   "execution_count": 50,
   "metadata": {},
   "outputs": [
    {
     "data": {
      "text/html": [
       "<div>\n",
       "<style scoped>\n",
       "    .dataframe tbody tr th:only-of-type {\n",
       "        vertical-align: middle;\n",
       "    }\n",
       "\n",
       "    .dataframe tbody tr th {\n",
       "        vertical-align: top;\n",
       "    }\n",
       "\n",
       "    .dataframe thead th {\n",
       "        text-align: right;\n",
       "    }\n",
       "</style>\n",
       "<table border=\"1\" class=\"dataframe\">\n",
       "  <thead>\n",
       "    <tr style=\"text-align: right;\">\n",
       "      <th></th>\n",
       "      <th>recreation</th>\n",
       "      <th>bruise</th>\n",
       "      <th>injection</th>\n",
       "      <th>quantum</th>\n",
       "      <th>decongestant</th>\n",
       "      <th>genetics</th>\n",
       "      <th>game</th>\n",
       "      <th>picture</th>\n",
       "      <th>research</th>\n",
       "      <th>athletics</th>\n",
       "      <th>...</th>\n",
       "      <th>exercise</th>\n",
       "      <th>contract</th>\n",
       "      <th>Olympic</th>\n",
       "      <th>bankrupt</th>\n",
       "      <th>copyright</th>\n",
       "      <th>Symmetrical</th>\n",
       "      <th>Craftsmanship</th>\n",
       "      <th>asymmetrical</th>\n",
       "      <th>scientst</th>\n",
       "      <th>form</th>\n",
       "    </tr>\n",
       "  </thead>\n",
       "  <tbody>\n",
       "    <tr>\n",
       "      <th>0</th>\n",
       "      <td>1.0</td>\n",
       "      <td>1.0</td>\n",
       "      <td>2.0</td>\n",
       "      <td>1.0</td>\n",
       "      <td>2.0</td>\n",
       "      <td>1.0</td>\n",
       "      <td>1.0</td>\n",
       "      <td>1.0</td>\n",
       "      <td>0.0</td>\n",
       "      <td>0.0</td>\n",
       "      <td>...</td>\n",
       "      <td>0.0</td>\n",
       "      <td>0.0</td>\n",
       "      <td>0.0</td>\n",
       "      <td>0.0</td>\n",
       "      <td>0.0</td>\n",
       "      <td>0.0</td>\n",
       "      <td>0.0</td>\n",
       "      <td>0.0</td>\n",
       "      <td>0.0</td>\n",
       "      <td>0.0</td>\n",
       "    </tr>\n",
       "    <tr>\n",
       "      <th>1</th>\n",
       "      <td>0.0</td>\n",
       "      <td>0.0</td>\n",
       "      <td>1.0</td>\n",
       "      <td>0.0</td>\n",
       "      <td>1.0</td>\n",
       "      <td>0.0</td>\n",
       "      <td>0.0</td>\n",
       "      <td>0.0</td>\n",
       "      <td>1.0</td>\n",
       "      <td>1.0</td>\n",
       "      <td>...</td>\n",
       "      <td>0.0</td>\n",
       "      <td>0.0</td>\n",
       "      <td>0.0</td>\n",
       "      <td>0.0</td>\n",
       "      <td>0.0</td>\n",
       "      <td>0.0</td>\n",
       "      <td>0.0</td>\n",
       "      <td>0.0</td>\n",
       "      <td>0.0</td>\n",
       "      <td>0.0</td>\n",
       "    </tr>\n",
       "    <tr>\n",
       "      <th>2</th>\n",
       "      <td>0.0</td>\n",
       "      <td>1.0</td>\n",
       "      <td>0.0</td>\n",
       "      <td>0.0</td>\n",
       "      <td>0.0</td>\n",
       "      <td>0.0</td>\n",
       "      <td>0.0</td>\n",
       "      <td>0.0</td>\n",
       "      <td>1.0</td>\n",
       "      <td>0.0</td>\n",
       "      <td>...</td>\n",
       "      <td>1.0</td>\n",
       "      <td>2.0</td>\n",
       "      <td>1.0</td>\n",
       "      <td>1.0</td>\n",
       "      <td>0.0</td>\n",
       "      <td>0.0</td>\n",
       "      <td>0.0</td>\n",
       "      <td>0.0</td>\n",
       "      <td>0.0</td>\n",
       "      <td>0.0</td>\n",
       "    </tr>\n",
       "    <tr>\n",
       "      <th>3</th>\n",
       "      <td>0.0</td>\n",
       "      <td>0.0</td>\n",
       "      <td>0.0</td>\n",
       "      <td>1.0</td>\n",
       "      <td>0.0</td>\n",
       "      <td>0.0</td>\n",
       "      <td>1.0</td>\n",
       "      <td>0.0</td>\n",
       "      <td>1.0</td>\n",
       "      <td>1.0</td>\n",
       "      <td>...</td>\n",
       "      <td>0.0</td>\n",
       "      <td>0.0</td>\n",
       "      <td>0.0</td>\n",
       "      <td>0.0</td>\n",
       "      <td>1.0</td>\n",
       "      <td>1.0</td>\n",
       "      <td>1.0</td>\n",
       "      <td>1.0</td>\n",
       "      <td>0.0</td>\n",
       "      <td>0.0</td>\n",
       "    </tr>\n",
       "    <tr>\n",
       "      <th>4</th>\n",
       "      <td>1.0</td>\n",
       "      <td>1.0</td>\n",
       "      <td>0.0</td>\n",
       "      <td>1.0</td>\n",
       "      <td>0.0</td>\n",
       "      <td>0.0</td>\n",
       "      <td>0.0</td>\n",
       "      <td>2.0</td>\n",
       "      <td>1.0</td>\n",
       "      <td>0.0</td>\n",
       "      <td>...</td>\n",
       "      <td>1.0</td>\n",
       "      <td>0.0</td>\n",
       "      <td>0.0</td>\n",
       "      <td>0.0</td>\n",
       "      <td>0.0</td>\n",
       "      <td>0.0</td>\n",
       "      <td>0.0</td>\n",
       "      <td>0.0</td>\n",
       "      <td>2.0</td>\n",
       "      <td>1.0</td>\n",
       "    </tr>\n",
       "  </tbody>\n",
       "</table>\n",
       "<p>5 rows × 26 columns</p>\n",
       "</div>"
      ],
      "text/plain": [
       "   recreation  bruise  injection  quantum  decongestant  genetics  game  \\\n",
       "0         1.0     1.0        2.0      1.0           2.0       1.0   1.0   \n",
       "1         0.0     0.0        1.0      0.0           1.0       0.0   0.0   \n",
       "2         0.0     1.0        0.0      0.0           0.0       0.0   0.0   \n",
       "3         0.0     0.0        0.0      1.0           0.0       0.0   1.0   \n",
       "4         1.0     1.0        0.0      1.0           0.0       0.0   0.0   \n",
       "\n",
       "   picture  research  athletics  ...  exercise  contract  Olympic  bankrupt  \\\n",
       "0      1.0       0.0        0.0  ...       0.0       0.0      0.0       0.0   \n",
       "1      0.0       1.0        1.0  ...       0.0       0.0      0.0       0.0   \n",
       "2      0.0       1.0        0.0  ...       1.0       2.0      1.0       1.0   \n",
       "3      0.0       1.0        1.0  ...       0.0       0.0      0.0       0.0   \n",
       "4      2.0       1.0        0.0  ...       1.0       0.0      0.0       0.0   \n",
       "\n",
       "   copyright  Symmetrical  Craftsmanship  asymmetrical  scientst  form  \n",
       "0        0.0          0.0            0.0           0.0       0.0   0.0  \n",
       "1        0.0          0.0            0.0           0.0       0.0   0.0  \n",
       "2        0.0          0.0            0.0           0.0       0.0   0.0  \n",
       "3        1.0          1.0            1.0           1.0       0.0   0.0  \n",
       "4        0.0          0.0            0.0           0.0       2.0   1.0  \n",
       "\n",
       "[5 rows x 26 columns]"
      ]
     },
     "execution_count": 50,
     "metadata": {},
     "output_type": "execute_result"
    }
   ],
   "source": [
    "doc_vocab_count_df = pd.DataFrame(\n",
    "    data = doc_vocab_count,\n",
    "    columns = list(result['vocab_to_idx'].keys())\n",
    ")\n",
    "doc_vocab_count_df"
   ]
  },
  {
   "attachments": {},
   "cell_type": "markdown",
   "metadata": {},
   "source": [
    "# Our Model"
   ]
  },
  {
   "cell_type": "code",
   "execution_count": 157,
   "metadata": {},
   "outputs": [
    {
     "name": "stdout",
     "output_type": "stream",
     "text": [
      "Topic Dirichlet Prior, Alpha\n",
      "1\n",
      "\n",
      "Exchangeable Word Dirichlet Prior, Eta \n",
      "1\n",
      "\n",
      "Var Inf - Word Dirichlet prior, Lambda\n",
      "(5, 26)\n",
      "\n",
      "Var Inf - Topic Dirichlet prior, Gamma\n",
      "(5, 5)\n",
      "\n",
      "Size of the vocab is 26\n"
     ]
    }
   ],
   "source": [
    "lda = LDASmoothed(\n",
    "    docs = result['documents'],\n",
    "    num_topics = 5, \n",
    "    word_ct_dict = result['vocab_doc_count_dict'], \n",
    "    num_doc_population = 100,\n",
    "    word_ct_array = result['vocab_doc_count_array'],\n",
    ")\n",
    "print(f'Size of the vocab is {lda.V}')"
   ]
  },
  {
   "cell_type": "code",
   "execution_count": 158,
   "metadata": {},
   "outputs": [
    {
     "name": "stdout",
     "output_type": "stream",
     "text": [
      "62.12126028548294\n",
      "CPU times: user 1.06 ms, sys: 530 µs, total: 1.59 ms\n",
      "Wall time: 1.36 ms\n"
     ]
    }
   ],
   "source": [
    "%%time\n",
    "perplexity, expec_logs = \\\n",
    "    lda.approx_perplexity(\n",
    "    doc_vocab_count,\n",
    "    sampling=False,\n",
    ")\n",
    "\n",
    "print(perplexity)"
   ]
  },
  {
   "cell_type": "code",
   "execution_count": 159,
   "metadata": {},
   "outputs": [],
   "source": [
    "expec_log_theta, expect_log_beta = expec_logs[0], expec_logs[1]"
   ]
  },
  {
   "attachments": {},
   "cell_type": "markdown",
   "metadata": {},
   "source": [
    "- check hyperparameters "
   ]
  },
  {
   "cell_type": "code",
   "execution_count": 160,
   "metadata": {},
   "outputs": [
    {
     "name": "stdout",
     "output_type": "stream",
     "text": [
      "1\n",
      "1\n"
     ]
    }
   ],
   "source": [
    "print(lda._alpha_)\n",
    "print(lda._eta_)"
   ]
  },
  {
   "attachments": {},
   "cell_type": "markdown",
   "metadata": {},
   "source": [
    "- check var inf parameteres "
   ]
  },
  {
   "cell_type": "code",
   "execution_count": 161,
   "metadata": {},
   "outputs": [
    {
     "name": "stdout",
     "output_type": "stream",
     "text": [
      "lambda\n",
      "(5, 26)\n",
      "[[1.04708219 0.98292693 0.97347267 0.97347428 1.16278368 1.07526208\n",
      "  0.95052839 1.05181933 1.02101821 0.81760009 0.89893338 1.0283693\n",
      "  1.15026429 0.97429619 0.94330106 1.00778149 0.9378975  0.96782864\n",
      "  0.9953198  0.89475728 1.08105987 0.87968664 0.86986295 1.01644942\n",
      "  1.07222286 1.01387299]\n",
      " [0.98516565 0.96690772 0.95138329 1.10597141 1.02937237 0.95871485\n",
      "  0.93060329 1.05898791 1.1031785  1.09256024 0.91521059 0.96611462\n",
      "  0.94959045 0.9782464  1.08000428 1.13828828 1.03320764 0.93363961\n",
      "  0.99309432 1.16117251 1.00538214 0.96711283 0.97489658 1.03274514\n",
      "  0.91811143 0.94740917]\n",
      " [1.09087585 1.02984852 1.00638968 1.09653088 0.92820856 0.96431168\n",
      "  1.02652255 1.02295647 0.86193808 0.95525935 0.98065155 1.03755099\n",
      "  1.02260049 0.98925295 0.81711981 0.99402204 1.00269174 1.26335968\n",
      "  0.97758574 1.02707522 1.11516717 1.07363499 1.14337395 0.86316381\n",
      "  0.90101275 0.9411936 ]\n",
      " [0.84973584 1.00352721 0.90766658 1.15954736 0.92049911 0.96485874\n",
      "  1.0801087  0.87876646 0.84464572 1.01521312 1.02283738 1.07677376\n",
      "  1.04968711 1.02661057 0.93030741 1.02003357 1.02621227 0.92703815\n",
      "  1.19477757 1.04472326 0.90249341 1.07732693 1.0959704  1.03844647\n",
      "  0.97236896 0.92329662]\n",
      " [0.98898916 1.03111438 0.99796525 1.14893408 1.06044299 0.91351959\n",
      "  0.89353319 1.04561353 0.9745237  1.06966044 1.04466194 0.98941359\n",
      "  0.91449622 0.85295487 1.01819348 0.87740175 0.91100675 1.01209244\n",
      "  1.00248913 0.8868595  1.10874826 1.10561617 1.04897356 1.04884451\n",
      "  1.04897484 1.43289724]]\n"
     ]
    }
   ],
   "source": [
    "print('lambda')\n",
    "print(lda._lambda_.shape)\n",
    "print(lda._lambda_)"
   ]
  },
  {
   "cell_type": "code",
   "execution_count": 162,
   "metadata": {},
   "outputs": [
    {
     "name": "stdout",
     "output_type": "stream",
     "text": [
      "gamma\n",
      "[[6.2 6.2 6.2 6.2 6.2]\n",
      " [6.2 6.2 6.2 6.2 6.2]\n",
      " [6.2 6.2 6.2 6.2 6.2]\n",
      " [6.2 6.2 6.2 6.2 6.2]\n",
      " [6.2 6.2 6.2 6.2 6.2]]\n"
     ]
    }
   ],
   "source": [
    "print('gamma')\n",
    "print(lda._gamma_)"
   ]
  },
  {
   "cell_type": "code",
   "execution_count": 163,
   "metadata": {},
   "outputs": [
    {
     "name": "stdout",
     "output_type": "stream",
     "text": [
      "62.12126028548294\n"
     ]
    }
   ],
   "source": [
    "perplexity, expec_logs = \\\n",
    "    lda.approx_perplexity(\n",
    "    doc_vocab_count,\n",
    "    sampling=False,\n",
    ")\n",
    "print(perplexity)"
   ]
  },
  {
   "cell_type": "code",
   "execution_count": 164,
   "metadata": {},
   "outputs": [
    {
     "name": "stdout",
     "output_type": "stream",
     "text": [
      "Before Estep perplexity = 62.12126028548294\n",
      "After Estep perplexity = 59.264073758700476\n",
      "CPU times: user 2.27 ms, sys: 660 µs, total: 2.93 ms\n",
      "Wall time: 2.49 ms\n"
     ]
    }
   ],
   "source": [
    "%%time\n",
    "gamma, lambda_update = \\\n",
    "    lda.e_step_batch(\n",
    "    X = doc_vocab_count,\n",
    "    expec_log_theta= expec_log_theta,\n",
    "    expec_log_beta= expect_log_beta,\n",
    "    verbose = True,\n",
    ")"
   ]
  },
  {
   "cell_type": "code",
   "execution_count": 165,
   "metadata": {},
   "outputs": [
    {
     "data": {
      "text/plain": [
       "array([[3.13562501, 2.96984033, 3.02337614, 2.86631146, 3.00484706],\n",
       "       [3.0545475 , 3.10617699, 2.90002681, 2.98764043, 2.95160828],\n",
       "       [2.92219523, 3.02217066, 3.14452562, 3.05106973, 2.86003877],\n",
       "       [2.83538701, 3.05355781, 2.95403925, 3.05000578, 3.10701015],\n",
       "       [3.08156684, 3.00389023, 2.92956492, 2.82472603, 3.16025198]])"
      ]
     },
     "execution_count": 165,
     "metadata": {},
     "output_type": "execute_result"
    }
   ],
   "source": [
    "gamma"
   ]
  },
  {
   "cell_type": "code",
   "execution_count": 166,
   "metadata": {},
   "outputs": [
    {
     "data": {
      "text/plain": [
       "(array([[0.44140348, 0.58750864, 0.61365755, 0.50046016, 0.74600161,\n",
       "         0.23697112, 0.38666002, 0.64657929, 0.89341128, 0.29043021,\n",
       "         0.53130048, 0.20514124, 0.24553752, 0.61703839, 0.39416546,\n",
       "         0.20221874, 0.37448152, 0.37021784, 0.19038513, 0.16670337,\n",
       "         0.21440952, 0.15744955, 0.15285668, 0.20777038, 0.4661783 ,\n",
       "         0.19038409],\n",
       "        [0.39351832, 0.56299336, 0.58156625, 0.60591669, 0.6059546 ,\n",
       "         0.19348588, 0.36738185, 0.64376135, 0.99598297, 0.46723468,\n",
       "         0.53968564, 0.18227962, 0.17747203, 0.61179076, 0.48456947,\n",
       "         0.24186177, 0.43297253, 0.34317184, 0.18680876, 0.25128788,\n",
       "         0.1878155 , 0.18233315, 0.18296804, 0.20998494, 0.35530497,\n",
       "         0.16753318],\n",
       "        [0.4649116 , 0.62569323, 0.63962022, 0.59883027, 0.5110805 ,\n",
       "         0.19572335, 0.43323412, 0.60981488, 0.66127426, 0.37605232,\n",
       "         0.60745615, 0.20532192, 0.20098961, 0.62433083, 0.30233033,\n",
       "         0.19504282, 0.4130221 , 0.55579901, 0.1823196 , 0.20730705,\n",
       "         0.22215488, 0.21659479, 0.23676351, 0.15530365, 0.34459252,\n",
       "         0.16596924],\n",
       "        [0.30794885, 0.60401049, 0.54150243, 0.65797162, 0.50739257,\n",
       "         0.19728533, 0.47345302, 0.47520345, 0.64235306, 0.41887872,\n",
       "         0.65557761, 0.21944659, 0.21115024, 0.66810157, 0.38249382,\n",
       "         0.20491101, 0.43198581, 0.34202973, 0.25259423, 0.21460085,\n",
       "         0.15797852, 0.21931164, 0.22313905, 0.21372579, 0.39494091,\n",
       "         0.16176651],\n",
       "        [0.39221775, 0.61979428, 0.62365355, 0.63682126, 0.62957072,\n",
       "         0.17653432, 0.33927099, 0.62464103, 0.80697844, 0.44740408,\n",
       "         0.66598012, 0.18781063, 0.1648506 , 0.47873845, 0.43644092,\n",
       "         0.15596566, 0.34753804, 0.38878158, 0.18789227, 0.16010085,\n",
       "         0.21764158, 0.22431088, 0.20427272, 0.21321524, 0.4389833 ,\n",
       "         0.31434698]]),\n",
       " array([[0., 0., 0., 0., 0.],\n",
       "        [0., 0., 0., 0., 0.],\n",
       "        [0., 0., 0., 0., 0.],\n",
       "        [0., 0., 0., 0., 0.],\n",
       "        [0., 0., 0., 0., 0.]]))"
      ]
     },
     "execution_count": 166,
     "metadata": {},
     "output_type": "execute_result"
    }
   ],
   "source": [
    "lambda_update"
   ]
  },
  {
   "cell_type": "code",
   "execution_count": 167,
   "metadata": {},
   "outputs": [
    {
     "name": "stdout",
     "output_type": "stream",
     "text": [
      "101\n"
     ]
    }
   ],
   "source": [
    "perplexities = lda.em_step_batch(\n",
    "    doc_vocab_count,\n",
    "    sampling= True,\n",
    "    threshold= 1e-07,\n",
    "    )\n",
    "print(len(perplexities))"
   ]
  },
  {
   "cell_type": "code",
   "execution_count": 168,
   "metadata": {},
   "outputs": [
    {
     "data": {
      "text/plain": [
       "45.833673713056136"
      ]
     },
     "execution_count": 168,
     "metadata": {},
     "output_type": "execute_result"
    }
   ],
   "source": [
    "perplexities[-1]"
   ]
  },
  {
   "cell_type": "code",
   "execution_count": 169,
   "metadata": {},
   "outputs": [
    {
     "data": {
      "text/plain": [
       "[<matplotlib.lines.Line2D at 0x138ec53d0>]"
      ]
     },
     "execution_count": 169,
     "metadata": {},
     "output_type": "execute_result"
    },
    {
     "data": {
      "image/png": "[encoded data removed]",
      "text/plain": [
       "<Figure size 640x480 with 1 Axes>"
      ]
     },
     "metadata": {},
     "output_type": "display_data"
    }
   ],
   "source": [
    "plt.plot(\n",
    "    perplexities)"
   ]
  },
  {
   "attachments": {},
   "cell_type": "markdown",
   "metadata": {},
   "source": [
    "# Target model"
   ]
  },
  {
   "cell_type": "code",
   "execution_count": 80,
   "metadata": {},
   "outputs": [],
   "source": [
    "sklearn_lda = LatentDirichletAllocation(\n",
    "    n_components=5,\n",
    "    random_state=42,\n",
    "    doc_topic_prior= 1,\n",
    "    topic_word_prior= 1,\n",
    ")\n",
    "sklearn_lda._init_latent_vars(n_features = lda.V)"
   ]
  },
  {
   "attachments": {},
   "cell_type": "markdown",
   "metadata": {},
   "source": [
    "- check hyperparameters"
   ]
  },
  {
   "cell_type": "code",
   "execution_count": 81,
   "metadata": {},
   "outputs": [
    {
     "name": "stdout",
     "output_type": "stream",
     "text": [
      "alpha -> 1\n",
      "eta -> 1\n"
     ]
    }
   ],
   "source": [
    "# alpha \n",
    "print(f\"alpha -> {sklearn_lda.doc_topic_prior}\")\n",
    "print(f\"eta -> {sklearn_lda.topic_word_prior}\")"
   ]
  },
  {
   "attachments": {},
   "cell_type": "markdown",
   "metadata": {},
   "source": [
    "- var inf parameters "
   ]
  },
  {
   "cell_type": "code",
   "execution_count": 82,
   "metadata": {},
   "outputs": [
    {
     "name": "stdout",
     "output_type": "stream",
     "text": [
      "lambda\n",
      "[[1.04708219 0.98292693 0.97347267 0.97347428 1.16278368 1.07526208\n",
      "  0.95052839 1.05181933 1.02101821 0.81760009 0.89893338 1.0283693\n",
      "  1.15026429 0.97429619 0.94330106 1.00778149 0.9378975  0.96782864\n",
      "  0.9953198  0.89475728 1.08105987 0.87968664 0.86986295 1.01644942\n",
      "  1.07222286 1.01387299]\n",
      " [0.98516565 0.96690772 0.95138329 1.10597141 1.02937237 0.95871485\n",
      "  0.93060329 1.05898791 1.1031785  1.09256024 0.91521059 0.96611462\n",
      "  0.94959045 0.9782464  1.08000428 1.13828828 1.03320764 0.93363961\n",
      "  0.99309432 1.16117251 1.00538214 0.96711283 0.97489658 1.03274514\n",
      "  0.91811143 0.94740917]\n",
      " [1.09087585 1.02984852 1.00638968 1.09653088 0.92820856 0.96431168\n",
      "  1.02652255 1.02295647 0.86193808 0.95525935 0.98065155 1.03755099\n",
      "  1.02260049 0.98925295 0.81711981 0.99402204 1.00269174 1.26335968\n",
      "  0.97758574 1.02707522 1.11516717 1.07363499 1.14337395 0.86316381\n",
      "  0.90101275 0.9411936 ]\n",
      " [0.84973584 1.00352721 0.90766658 1.15954736 0.92049911 0.96485874\n",
      "  1.0801087  0.87876646 0.84464572 1.01521312 1.02283738 1.07677376\n",
      "  1.04968711 1.02661057 0.93030741 1.02003357 1.02621227 0.92703815\n",
      "  1.19477757 1.04472326 0.90249341 1.07732693 1.0959704  1.03844647\n",
      "  0.97236896 0.92329662]\n",
      " [0.98898916 1.03111438 0.99796525 1.14893408 1.06044299 0.91351959\n",
      "  0.89353319 1.04561353 0.9745237  1.06966044 1.04466194 0.98941359\n",
      "  0.91449622 0.85295487 1.01819348 0.87740175 0.91100675 1.01209244\n",
      "  1.00248913 0.8868595  1.10874826 1.10561617 1.04897356 1.04884451\n",
      "  1.04897484 1.43289724]]\n"
     ]
    }
   ],
   "source": [
    "print('lambda')\n",
    "print(sklearn_lda.components_)"
   ]
  },
  {
   "cell_type": "code",
   "execution_count": 83,
   "metadata": {},
   "outputs": [],
   "source": [
    "assert (sklearn_lda.components_ == lda._lambda_).all()"
   ]
  },
  {
   "cell_type": "code",
   "execution_count": 84,
   "metadata": {},
   "outputs": [
    {
     "name": "stdout",
     "output_type": "stream",
     "text": [
      "CPU times: user 319 µs, sys: 35 µs, total: 354 µs\n",
      "Wall time: 324 µs\n"
     ]
    },
    {
     "data": {
      "text/plain": [
       "-204.1001641800722"
      ]
     },
     "execution_count": 84,
     "metadata": {},
     "output_type": "execute_result"
    }
   ],
   "source": [
    "%%time\n",
    "sklearn_lda._approx_bound(\n",
    "    doc_vocab_count,\n",
    "    doc_topic_distr = lda._gamma_,\n",
    "    sub_sampling = False,\n",
    ")"
   ]
  },
  {
   "cell_type": "code",
   "execution_count": 85,
   "metadata": {},
   "outputs": [
    {
     "data": {
      "text/plain": [
       "59.264073758700476"
      ]
     },
     "execution_count": 85,
     "metadata": {},
     "output_type": "execute_result"
    }
   ],
   "source": [
    "sklearn_lda._perplexity_precomp_distr(\n",
    "    doc_vocab_count, \n",
    "    doc_topic_distr = lda._gamma_,\n",
    "    sub_sampling=False)"
   ]
  },
  {
   "cell_type": "code",
   "execution_count": 86,
   "metadata": {},
   "outputs": [],
   "source": [
    "gamma_ref, lambda_update_ref = \\\n",
    "    sklearn_lda._e_step(\n",
    "    doc_vocab_count,\n",
    "    cal_sstats = True, \n",
    "    random_init = 42,\n",
    ")"
   ]
  },
  {
   "cell_type": "code",
   "execution_count": 89,
   "metadata": {},
   "outputs": [
    {
     "data": {
      "text/plain": [
       "59.11753479956428"
      ]
     },
     "execution_count": 89,
     "metadata": {},
     "output_type": "execute_result"
    }
   ],
   "source": [
    "sklearn_lda._perplexity_precomp_distr(\n",
    "    doc_vocab_count, \n",
    "    doc_topic_distr = gamma_ref,\n",
    "    sub_sampling=False)"
   ]
  },
  {
   "cell_type": "code",
   "execution_count": 90,
   "metadata": {},
   "outputs": [
    {
     "data": {
      "text/plain": [
       "array([[3.72111531, 2.80781167, 3.04680646, 2.46274457, 2.96152199],\n",
       "       [3.22198091, 3.54009169, 2.57684175, 2.90511567, 2.75596999],\n",
       "       [2.62303183, 3.02777697, 3.74765055, 3.17070831, 2.43083234],\n",
       "       [2.37305677, 3.19697302, 2.7470429 , 3.17161434, 3.51131297],\n",
       "       [3.29471414, 2.92008134, 2.63492273, 2.32817005, 3.82211174]])"
      ]
     },
     "execution_count": 90,
     "metadata": {},
     "output_type": "execute_result"
    }
   ],
   "source": [
    "gamma_ref"
   ]
  },
  {
   "cell_type": "code",
   "execution_count": 77,
   "metadata": {},
   "outputs": [
    {
     "data": {
      "text/plain": [
       "array([[0.52374703, 0.63706979, 0.74544375, 0.52901593, 0.89436034,\n",
       "        0.30064181, 0.39629033, 0.74927396, 0.84574846, 0.26469737,\n",
       "        0.47728495, 0.22418988, 0.26677692, 0.56889917, 0.35787873,\n",
       "        0.21713354, 0.37059184, 0.30740746, 0.16155715, 0.13931054,\n",
       "        0.16233942, 0.11688584, 0.11399609, 0.15527439, 0.51412976,\n",
       "        0.20275485],\n",
       "       [0.36760558, 0.54475425, 0.59184179, 0.600847  , 0.60861486,\n",
       "        0.17670466, 0.37004858, 0.60530263, 1.05779857, 0.52893926,\n",
       "        0.59436666, 0.22176438, 0.21465991, 0.65444556, 0.54730565,\n",
       "        0.28911017, 0.42967338, 0.33925961, 0.18873561, 0.2500199 ,\n",
       "        0.20370989, 0.19390405, 0.19547064, 0.22480456, 0.33854884,\n",
       "        0.15414904],\n",
       "       [0.43028668, 0.66089421, 0.61064046, 0.5553784 , 0.48154372,\n",
       "        0.19732036, 0.41840895, 0.54751445, 0.64057388, 0.32176483,\n",
       "        0.61302691, 0.17176881, 0.16716677, 0.70568295, 0.25839489,\n",
       "        0.16031768, 0.44404069, 0.70303299, 0.23568251, 0.26390918,\n",
       "        0.20098465, 0.19213018, 0.21098297, 0.13868356, 0.29010809,\n",
       "        0.13492783],\n",
       "       [0.23154761, 0.52092503, 0.45715074, 0.56887579, 0.42276311,\n",
       "        0.15366979, 0.44223334, 0.35284274, 0.61339916, 0.42015091,\n",
       "        0.67662173, 0.21207145, 0.20286742, 0.68279945, 0.38329056,\n",
       "        0.19456339, 0.38899853, 0.35593684, 0.26863871, 0.22476207,\n",
       "        0.1698586 , 0.23120208, 0.23631466, 0.22682071, 0.28578566,\n",
       "        0.11303602],\n",
       "       [0.4468131 , 0.63635672, 0.59492325, 0.74588288, 0.59271796,\n",
       "        0.17166338, 0.37301881, 0.74506622, 0.84247992, 0.46444763,\n",
       "        0.63869975, 0.17020546, 0.14852899, 0.38817287, 0.45313017,\n",
       "        0.13887522, 0.36669556, 0.2943631 , 0.14538603, 0.12199832,\n",
       "        0.26310744, 0.26587784, 0.24323564, 0.25441678, 0.57142765,\n",
       "        0.39513226]])"
      ]
     },
     "execution_count": 77,
     "metadata": {},
     "output_type": "execute_result"
    }
   ],
   "source": [
    "lambda_update_ref"
   ]
  },
  {
   "cell_type": "code",
   "execution_count": 91,
   "metadata": {},
   "outputs": [
    {
     "data": {
      "text/plain": [
       "array([[-0.0817802 , -0.04915322, -0.13206138, -0.02812074, -0.14861077,\n",
       "        -0.06395462, -0.0099369 , -0.10129618,  0.04856781,  0.02589214,\n",
       "         0.05408611, -0.0188146 , -0.02097825,  0.04812375,  0.03649137,\n",
       "        -0.01467307,  0.00451795,  0.06257711,  0.02872149,  0.02727561,\n",
       "         0.05203752,  0.04053141,  0.03882948,  0.0524456 , -0.04619352,\n",
       "        -0.01159687],\n",
       "       [ 0.02582644,  0.01851811, -0.01049939,  0.00509795, -0.00284629,\n",
       "         0.0168062 , -0.00259552,  0.0382842 , -0.061729  , -0.06189618,\n",
       "        -0.05452058, -0.03973607, -0.03744513, -0.04219924, -0.06294086,\n",
       "        -0.04755595,  0.00358125,  0.00450985, -0.00157563,  0.00168778,\n",
       "        -0.01580658, -0.01150197, -0.01243244, -0.01475053,  0.01656732,\n",
       "         0.01335972],\n",
       "       [ 0.03485325, -0.03493382,  0.02982779,  0.04353213,  0.03024793,\n",
       "        -0.00124667,  0.01501464,  0.06237905,  0.02052637,  0.05424158,\n",
       "        -0.00559581,  0.03364301,  0.03389945, -0.0811874 ,  0.0438913 ,\n",
       "         0.03482016, -0.03113687, -0.14716264, -0.05331555, -0.05659717,\n",
       "         0.0210036 ,  0.02429078,  0.02559038,  0.01648793,  0.054225  ,\n",
       "         0.03097464],\n",
       "       [ 0.07639259,  0.08282607,  0.08445455,  0.08934057,  0.08475635,\n",
       "         0.04364418,  0.03147363,  0.12234435,  0.02891926, -0.00096746,\n",
       "        -0.021025  ,  0.00744365,  0.00833516, -0.01520749, -0.00052465,\n",
       "         0.01042396,  0.04267355, -0.01435999, -0.01635951, -0.0104658 ,\n",
       "        -0.01170279, -0.01166658, -0.01294601, -0.01288623,  0.1090883 ,\n",
       "         0.04874912],\n",
       "       [-0.05529208, -0.01725714,  0.02827844, -0.10984989,  0.03645278,\n",
       "         0.0047509 , -0.03395585, -0.12171142, -0.03628444, -0.01727008,\n",
       "         0.02705528,  0.01746402,  0.01618877,  0.09047037, -0.01691715,\n",
       "         0.01698491, -0.01963588,  0.09443568,  0.0425292 ,  0.03809958,\n",
       "        -0.04553175, -0.04165365, -0.03904141, -0.04129677, -0.13368711,\n",
       "        -0.08148661]])"
      ]
     },
     "execution_count": 91,
     "metadata": {},
     "output_type": "execute_result"
    }
   ],
   "source": [
    "lambda_update - lambda_update_ref"
   ]
  },
  {
   "cell_type": "code",
   "execution_count": null,
   "metadata": {},
   "outputs": [],
   "source": []
  }
 ],
 "metadata": {
  "kernelspec": {
   "display_name": ".venv",
   "language": "python",
   "name": "python3"
  },
  "language_info": {
   "codemirror_mode": {
    "name": "ipython",
    "version": 3
   },
   "file_extension": ".py",
   "mimetype": "text/x-python",
   "name": "python",
   "nbconvert_exporter": "python",
   "pygments_lexer": "ipython3",
   "version": "3.8.9"
  },
  "orig_nbformat": 4
 },
 "nbformat": 4,
 "nbformat_minor": 2
}
