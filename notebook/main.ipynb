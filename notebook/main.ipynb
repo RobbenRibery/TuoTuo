{
 "cells": [
  {
   "cell_type": "code",
   "execution_count": 1,
   "metadata": {},
   "outputs": [
    {
     "name": "stderr",
     "output_type": "stream",
     "text": [
      "/Users/ericliu/Desktop/Latent-Dirichilet-Allocation/.venv/lib/python3.8/site-packages/tqdm/auto.py:22: TqdmWarning: IProgress not found. Please update jupyter and ipywidgets. See https://ipywidgets.readthedocs.io/en/stable/user_install.html\n",
      "  from .autonotebook import tqdm as notebook_tqdm\n"
     ]
    }
   ],
   "source": [
    "%load_ext autoreload\n",
    "%autoreload 2\n",
    "import sys \n",
    "if '/Users/ericliu/Desktop/Latent-Dirichilet-Allocation' not in sys.path: \n",
    "    sys.path.append('/Users/ericliu/Desktop/Latent-Dirichilet-Allocation')\n",
    "import torch as tr \n",
    "import numpy as np \n",
    "import pandas as pd \n",
    "from collections import defaultdict\n",
    "from pprint import pprint"
   ]
  },
  {
   "cell_type": "code",
   "execution_count": 2,
   "metadata": {},
   "outputs": [],
   "source": [
    "from src.lda_model import LDASmoothed \n",
    "from src.generator import doc_generator \n",
    "from src.utils import (\n",
    "    get_vocab_from_docs, \n",
    "    get_np_wct, \n",
    "    data_loader,\n",
    "    text_pipeline, \n",
    "    process_documents,\n",
    ") \n",
    "from src.text_pre_processor import (\n",
    "    remove_accented_chars, \n",
    "    remove_special_characters, \n",
    "    remove_punctuation,\n",
    "    remove_extra_whitespace_tabs,\n",
    "    remove_stopwords,\n",
    ")\n",
    "from pprint import pprint \n",
    "import copy "
   ]
  },
  {
   "cell_type": "code",
   "execution_count": 3,
   "metadata": {},
   "outputs": [],
   "source": [
    "gen = doc_generator(\n",
    "    M = 3,\n",
    "    L = 20, \n",
    "    topic_prior = tr.tensor([1,1,1,1,1], dtype=tr.double)\n",
    ")"
   ]
  },
  {
   "cell_type": "code",
   "execution_count": 4,
   "metadata": {},
   "outputs": [
    {
     "data": {
      "text/plain": [
       "tensor([[0.1131, 0.0589, 0.0824, 0.1060, 0.0471, 0.0824, 0.0294, 0.1060, 0.0059,\n",
       "         0.0047, 0.0353, 0.0059, 0.0118, 0.0035, 0.0012, 0.0012, 0.0118, 0.0118,\n",
       "         0.0236, 0.0236, 0.0177, 0.0177, 0.0041, 0.0047, 0.0353, 0.0059, 0.0118,\n",
       "         0.0353, 0.0177, 0.0118, 0.0029, 0.0035, 0.0029, 0.0012, 0.0353, 0.0029,\n",
       "         0.0059, 0.0118, 0.0029, 0.0029],\n",
       "        [0.0012, 0.0047, 0.0047, 0.0030, 0.0355, 0.0118, 0.0237, 0.0030, 0.0948,\n",
       "         0.0592, 0.0592, 0.1066, 0.0474, 0.1066, 0.0948, 0.1126, 0.0237, 0.0059,\n",
       "         0.0059, 0.0118, 0.0178, 0.0178, 0.0041, 0.0047, 0.0047, 0.0237, 0.0118,\n",
       "         0.0296, 0.0059, 0.0237, 0.0030, 0.0036, 0.0030, 0.0012, 0.0036, 0.0030,\n",
       "         0.0047, 0.0118, 0.0030, 0.0030],\n",
       "        [0.0014, 0.0057, 0.0043, 0.0036, 0.0143, 0.0071, 0.0286, 0.0036, 0.0071,\n",
       "         0.0043, 0.0214, 0.0014, 0.0428, 0.0043, 0.0143, 0.0014, 0.0500, 0.0999,\n",
       "         0.0999, 0.0571, 0.0857, 0.0857, 0.1285, 0.1285, 0.0057, 0.0014, 0.0143,\n",
       "         0.0071, 0.0071, 0.0071, 0.0036, 0.0143, 0.0036, 0.0014, 0.0043, 0.0036,\n",
       "         0.0043, 0.0143, 0.0036, 0.0036],\n",
       "        [0.0013, 0.0507, 0.0253, 0.0032, 0.0127, 0.0127, 0.0317, 0.0032, 0.0063,\n",
       "         0.0507, 0.0032, 0.0013, 0.0127, 0.0025, 0.0051, 0.0013, 0.0253, 0.0063,\n",
       "         0.0032, 0.0127, 0.0190, 0.0190, 0.0019, 0.0013, 0.0760, 0.0887, 0.0633,\n",
       "         0.0443, 0.0887, 0.0760, 0.1140, 0.1013, 0.0032, 0.0013, 0.0051, 0.0032,\n",
       "         0.0038, 0.0127, 0.0032, 0.0032],\n",
       "        [0.0012, 0.0023, 0.0035, 0.0029, 0.0117, 0.0058, 0.0117, 0.0029, 0.0058,\n",
       "         0.0035, 0.0029, 0.0035, 0.0117, 0.0023, 0.0047, 0.0023, 0.0175, 0.0117,\n",
       "         0.0029, 0.0234, 0.0175, 0.0175, 0.0018, 0.0012, 0.0023, 0.0047, 0.0234,\n",
       "         0.0058, 0.0058, 0.0058, 0.0029, 0.0047, 0.1051, 0.1121, 0.0701, 0.1051,\n",
       "         0.0993, 0.0701, 0.1051, 0.1051]], dtype=torch.float64)"
      ]
     },
     "execution_count": 4,
     "metadata": {},
     "output_type": "execute_result"
    }
   ],
   "source": [
    "gen.beta"
   ]
  },
  {
   "cell_type": "code",
   "execution_count": 5,
   "metadata": {},
   "outputs": [
    {
     "data": {
      "text/plain": [
       "Dirichlet(concentration: torch.Size([5]))"
      ]
     },
     "execution_count": 5,
     "metadata": {},
     "output_type": "execute_result"
    }
   ],
   "source": [
    "gen.alpha"
   ]
  },
  {
   "cell_type": "code",
   "execution_count": 6,
   "metadata": {},
   "outputs": [
    {
     "data": {
      "text/plain": [
       "torch.Size([3, 5])"
      ]
     },
     "execution_count": 6,
     "metadata": {},
     "output_type": "execute_result"
    }
   ],
   "source": [
    "gen.theta.shape"
   ]
  },
  {
   "cell_type": "code",
   "execution_count": 7,
   "metadata": {},
   "outputs": [
    {
     "data": {
      "text/plain": [
       "tensor([[0.1284, 0.0333, 0.6500, 0.1222, 0.0661],\n",
       "        [0.3563, 0.0658, 0.1423, 0.2494, 0.1862],\n",
       "        [0.2088, 0.2163, 0.1503, 0.1728, 0.2519]], dtype=torch.float64)"
      ]
     },
     "execution_count": 7,
     "metadata": {},
     "output_type": "execute_result"
    }
   ],
   "source": [
    "gen.theta"
   ]
  },
  {
   "cell_type": "code",
   "execution_count": 8,
   "metadata": {},
   "outputs": [
    {
     "name": "stdout",
     "output_type": "stream",
     "text": [
      "Document: 0 | word: 0 -> topic: art -> word: asymmetrical\n",
      "Document: 0 | word: 1 -> topic: law -> word: bankrupt\n",
      "Document: 0 | word: 2 -> topic: art -> word: concert\n",
      "Document: 0 | word: 3 -> topic: science -> word: quantum\n",
      "Document: 0 | word: 4 -> topic: science -> word: research\n",
      "Document: 0 | word: 5 -> topic: art -> word: Symmetrical\n",
      "Document: 0 | word: 6 -> topic: art -> word: Craftsmanship\n",
      "Document: 0 | word: 7 -> topic: art -> word: content\n",
      "Document: 0 | word: 8 -> topic: art -> word: physical\n",
      "Document: 0 | word: 9 -> topic: art -> word: picture\n",
      "Document 0: asymmetrical bankrupt concert quantum research Symmetrical Craftsmanship content physical picture\n",
      "\n",
      "Document: 1 | word: 0 -> topic: art -> word: Craftsmanship\n",
      "Document: 1 | word: 1 -> topic: health -> word: injection\n",
      "Document: 1 | word: 2 -> topic: science -> word: research\n",
      "Document: 1 | word: 3 -> topic: science -> word: Craftsmanship\n",
      "Document: 1 | word: 4 -> topic: science -> word: fever\n",
      "Document: 1 | word: 5 -> topic: health -> word: decongestant\n",
      "Document: 1 | word: 6 -> topic: science -> word: astrophysics\n",
      "Document: 1 | word: 7 -> topic: health -> word: recreation\n",
      "Document: 1 | word: 8 -> topic: science -> word: scientst\n",
      "Document: 1 | word: 9 -> topic: health -> word: decongestant\n",
      "Document 1: Craftsmanship injection research Craftsmanship fever decongestant astrophysics recreation scientst decongestant\n",
      "\n",
      "Document: 2 | word: 0 -> topic: art -> word: asymmetrical\n",
      "Document: 2 | word: 1 -> topic: science -> word: Olympic\n",
      "Document: 2 | word: 2 -> topic: sport -> word: copyright\n",
      "Document: 2 | word: 3 -> topic: law -> word: fever\n",
      "Document: 2 | word: 4 -> topic: law -> word: contract\n",
      "Document: 2 | word: 5 -> topic: law -> word: contract\n",
      "Document: 2 | word: 6 -> topic: science -> word: electricity\n",
      "Document: 2 | word: 7 -> topic: health -> word: infection\n",
      "Document: 2 | word: 8 -> topic: health -> word: fever\n",
      "Document: 2 | word: 9 -> topic: health -> word: decongestant\n",
      "Document 2: asymmetrical Olympic copyright fever contract contract electricity infection fever decongestant\n",
      "\n"
     ]
    }
   ],
   "source": [
    "docs = gen.generate_doc()"
   ]
  },
  {
   "cell_type": "code",
   "execution_count": 9,
   "metadata": {},
   "outputs": [
    {
     "data": {
      "text/plain": [
       "{0: 'asymmetrical bankrupt concert quantum research Symmetrical Craftsmanship content physical picture',\n",
       " 1: 'Craftsmanship injection research Craftsmanship fever decongestant astrophysics recreation scientst decongestant',\n",
       " 2: 'asymmetrical Olympic copyright fever contract contract electricity infection fever decongestant'}"
      ]
     },
     "execution_count": 9,
     "metadata": {},
     "output_type": "execute_result"
    }
   ],
   "source": [
    "docs"
   ]
  },
  {
   "cell_type": "code",
   "execution_count": 10,
   "metadata": {},
   "outputs": [],
   "source": [
    "#docs_raw_dict, raw_word_2_idx, raw_idx_2_word = data_loader('ap')"
   ]
  },
  {
   "cell_type": "code",
   "execution_count": 11,
   "metadata": {},
   "outputs": [
    {
     "name": "stdout",
     "output_type": "stream",
     "text": [
      "There are 3 documents in the dataset after processing\n",
      "On average estimated document length is 10.0 words per document after processing\n",
      "There are 21 unique vocab in the corpus after processing\n"
     ]
    }
   ],
   "source": [
    "result = process_documents(docs, sample=True)"
   ]
  },
  {
   "cell_type": "code",
   "execution_count": 12,
   "metadata": {},
   "outputs": [
    {
     "data": {
      "text/plain": [
       "{'asymmetrical': [1, 0, 1],\n",
       " 'bankrupt': [1, 0, 0],\n",
       " 'concert': [1, 0, 0],\n",
       " 'quantum': [1, 0, 0],\n",
       " 'research': [1, 1, 0],\n",
       " 'Symmetrical': [1, 0, 0],\n",
       " 'Craftsmanship': [1, 2, 0],\n",
       " 'content': [1, 0, 0],\n",
       " 'physical': [1, 0, 0],\n",
       " 'picture': [1, 0, 0],\n",
       " 'injection': [0, 1, 0],\n",
       " 'fever': [0, 1, 2],\n",
       " 'decongestant': [0, 2, 1],\n",
       " 'astrophysics': [0, 1, 0],\n",
       " 'recreation': [0, 1, 0],\n",
       " 'scientst': [0, 1, 0],\n",
       " 'Olympic': [0, 0, 1],\n",
       " 'copyright': [0, 0, 1],\n",
       " 'contract': [0, 0, 2],\n",
       " 'electricity': [0, 0, 1],\n",
       " 'infection': [0, 0, 1]}"
      ]
     },
     "execution_count": 12,
     "metadata": {},
     "output_type": "execute_result"
    }
   ],
   "source": [
    "result['vocab_doc_count_dict']"
   ]
  },
  {
   "cell_type": "code",
   "execution_count": 13,
   "metadata": {},
   "outputs": [
    {
     "data": {
      "text/plain": [
       "array([[1., 0., 1.],\n",
       "       [1., 0., 0.],\n",
       "       [1., 0., 0.],\n",
       "       [1., 0., 0.],\n",
       "       [1., 1., 0.],\n",
       "       [1., 0., 0.],\n",
       "       [1., 2., 0.],\n",
       "       [1., 0., 0.],\n",
       "       [1., 0., 0.],\n",
       "       [1., 0., 0.],\n",
       "       [0., 1., 0.],\n",
       "       [0., 1., 2.],\n",
       "       [0., 2., 1.],\n",
       "       [0., 1., 0.],\n",
       "       [0., 1., 0.],\n",
       "       [0., 1., 0.],\n",
       "       [0., 0., 1.],\n",
       "       [0., 0., 1.],\n",
       "       [0., 0., 2.],\n",
       "       [0., 0., 1.],\n",
       "       [0., 0., 1.]])"
      ]
     },
     "execution_count": 13,
     "metadata": {},
     "output_type": "execute_result"
    }
   ],
   "source": [
    "result['vocab_doc_count_array']"
   ]
  },
  {
   "cell_type": "code",
   "execution_count": 67,
   "metadata": {},
   "outputs": [
    {
     "name": "stdout",
     "output_type": "stream",
     "text": [
      "Topic Dirichlet Prior, Alpha\n",
      "(5,)\n",
      "\n",
      "Exchangeable Word Dirichlet Prior, Eta \n",
      "1\n",
      "\n",
      "Var Inf - Word Dirichlet prior, Lambda\n",
      "(5, 21)\n",
      "\n",
      "Var Inf - Topic Dirichlet prior, Gamma\n",
      "(3, 5)\n",
      "\n",
      "loop phi\n",
      "looped\n",
      "double\n",
      "Var -Inf - Word wise Topic Multinomial/Categorical, Phi\n",
      "(3, 21, 5)\n"
     ]
    }
   ],
   "source": [
    "lda = LDASmoothed(\n",
    "    docs = result['documents'],\n",
    "    num_topics = 5, \n",
    "    word_ct_dict = result['vocab_doc_count_dict'], \n",
    "    word_ct_array = result['vocab_doc_count_array'],\n",
    ")\n",
    "#LDASmoothed(docs, 3, wct_dict)"
   ]
  },
  {
   "cell_type": "code",
   "execution_count": 68,
   "metadata": {},
   "outputs": [
    {
     "data": {
      "text/plain": [
       "array([1.04708219, 0.98292693, 0.97347267, 0.97347428, 1.16278368])"
      ]
     },
     "execution_count": 68,
     "metadata": {},
     "output_type": "execute_result"
    }
   ],
   "source": [
    "lda._alpha_"
   ]
  },
  {
   "cell_type": "code",
   "execution_count": 69,
   "metadata": {},
   "outputs": [
    {
     "data": {
      "text/plain": [
       "array([[3.04708219, 2.98292693, 2.97347267, 2.97347428, 3.16278368],\n",
       "       [3.04708219, 2.98292693, 2.97347267, 2.97347428, 3.16278368],\n",
       "       [3.04708219, 2.98292693, 2.97347267, 2.97347428, 3.16278368]])"
      ]
     },
     "execution_count": 69,
     "metadata": {},
     "output_type": "execute_result"
    }
   ],
   "source": [
    "lda._gamma_"
   ]
  },
  {
   "cell_type": "code",
   "execution_count": 70,
   "metadata": {},
   "outputs": [
    {
     "data": {
      "text/plain": [
       "array([[1.04708219, 0.98292693, 0.97347267, 0.97347428, 1.16278368,\n",
       "        1.07526208, 0.95052839, 1.05181933, 1.02101821, 0.81760009,\n",
       "        0.89893338, 1.0283693 , 1.15026429, 0.97429619, 0.94330106,\n",
       "        1.00778149, 0.9378975 , 0.96782864, 0.9953198 , 0.89475728,\n",
       "        1.08105987],\n",
       "       [0.87968664, 0.86986295, 1.01644942, 1.07222286, 1.01387299,\n",
       "        0.98516565, 0.96690772, 0.95138329, 1.10597141, 1.02937237,\n",
       "        0.95871485, 0.93060329, 1.05898791, 1.1031785 , 1.09256024,\n",
       "        0.91521059, 0.96611462, 0.94959045, 0.9782464 , 1.08000428,\n",
       "        1.13828828],\n",
       "       [1.03320764, 0.93363961, 0.99309432, 1.16117251, 1.00538214,\n",
       "        0.96711283, 0.97489658, 1.03274514, 0.91811143, 0.94740917,\n",
       "        1.09087585, 1.02984852, 1.00638968, 1.09653088, 0.92820856,\n",
       "        0.96431168, 1.02652255, 1.02295647, 0.86193808, 0.95525935,\n",
       "        0.98065155],\n",
       "       [1.03755099, 1.02260049, 0.98925295, 0.81711981, 0.99402204,\n",
       "        1.00269174, 1.26335968, 0.97758574, 1.02707522, 1.11516717,\n",
       "        1.07363499, 1.14337395, 0.86316381, 0.90101275, 0.9411936 ,\n",
       "        0.84973584, 1.00352721, 0.90766658, 1.15954736, 0.92049911,\n",
       "        0.96485874],\n",
       "       [1.0801087 , 0.87876646, 0.84464572, 1.01521312, 1.02283738,\n",
       "        1.07677376, 1.04968711, 1.02661057, 0.93030741, 1.02003357,\n",
       "        1.02621227, 0.92703815, 1.19477757, 1.04472326, 0.90249341,\n",
       "        1.07732693, 1.0959704 , 1.03844647, 0.97236896, 0.92329662,\n",
       "        0.98898916]])"
      ]
     },
     "execution_count": 70,
     "metadata": {},
     "output_type": "execute_result"
    }
   ],
   "source": [
    "lda._lambda_"
   ]
  },
  {
   "cell_type": "code",
   "execution_count": 71,
   "metadata": {},
   "outputs": [
    {
     "name": "stdout",
     "output_type": "stream",
     "text": [
      "Iteration 0, Delta Gamma = inf, the ELBO is -115.63744750138825å\n",
      "Iteration 0 - > Delta Gamme = 0.3178442465204066\n",
      "Iteration 1, Delta Gamma = 0.3178442465204066, the ELBO is -111.91368169626378å\n",
      "Iteration 1 - > Delta Gamme = 0.21250797317005754\n",
      "Iteration 2, Delta Gamma = 0.21250797317005754, the ELBO is -111.76008449962728å\n",
      "Iteration 2 - > Delta Gamme = 0.19824287343755292\n",
      "Iteration 3, Delta Gamma = 0.19824287343755292, the ELBO is -111.72396370870925å\n",
      "Iteration 3 - > Delta Gamme = 0.19236609371309163\n",
      "Iteration 4, Delta Gamma = 0.19236609371309163, the ELBO is -111.70340759512314å\n",
      "Iteration 4 - > Delta Gamme = 0.19013296340249616\n",
      "Iteration 5, Delta Gamma = 0.19013296340249616, the ELBO is -111.68603932237981å\n",
      "Iteration 5 - > Delta Gamme = 0.1909166406719254\n",
      "Iteration 6, Delta Gamma = 0.1909166406719254, the ELBO is -111.6693550645056å\n",
      "Iteration 6 - > Delta Gamme = 0.19476784773559797\n",
      "Iteration 7, Delta Gamma = 0.19476784773559797, the ELBO is -111.65242823076å\n",
      "Iteration 7 - > Delta Gamme = 0.20187535842343657\n",
      "Iteration 8, Delta Gamma = 0.20187535842343657, the ELBO is -111.63462900121797å\n",
      "Iteration 8 - > Delta Gamme = 0.2124460307260695\n",
      "Iteration 9, Delta Gamma = 0.2124460307260695, the ELBO is -111.61534684858842å\n",
      "Iteration 9 - > Delta Gamme = 0.22665445102485532\n",
      "Iteration 10, Delta Gamma = 0.22665445102485532, the ELBO is -111.59390894691128å\n",
      "Iteration 10 - > Delta Gamme = 0.24459469369182563\n",
      "Iteration 11, Delta Gamma = 0.24459469369182563, the ELBO is -111.5695488357064å\n",
      "Iteration 11 - > Delta Gamme = 0.26621298410239885\n",
      "Iteration 12, Delta Gamma = 0.26621298410239885, the ELBO is -111.54140021516585å\n",
      "Iteration 12 - > Delta Gamme = 0.2912108668551976\n",
      "Iteration 13, Delta Gamma = 0.2912108668551976, the ELBO is -111.50852152730296å\n",
      "Iteration 13 - > Delta Gamme = 0.31891764299220615\n",
      "Iteration 14, Delta Gamma = 0.31891764299220615, the ELBO is -111.46996864137739å\n",
      "Iteration 14 - > Delta Gamme = 0.34814816175807806\n",
      "Iteration 15, Delta Gamma = 0.34814816175807806, the ELBO is -111.42493614111557å\n",
      "Iteration 15 - > Delta Gamme = 0.37709114262018256\n",
      "Iteration 16, Delta Gamma = 0.37709114262018256, the ELBO is -111.3729777680459å\n",
      "Iteration 16 - > Delta Gamme = 0.40330875257173626\n",
      "Iteration 17, Delta Gamma = 0.40330875257173626, the ELBO is -111.31428438234423å\n",
      "Iteration 17 - > Delta Gamme = 0.42394750179925594\n",
      "Iteration 18, Delta Gamma = 0.42394750179925594, the ELBO is -111.24994151195372å\n",
      "Iteration 18 - > Delta Gamme = 0.4362227789595918\n",
      "Iteration 19, Delta Gamma = 0.4362227789595918, the ELBO is -111.18203148238332å\n",
      "Iteration 19 - > Delta Gamme = 0.4381131307101408\n",
      "Iteration 20, Delta Gamma = 0.4381131307101408, the ELBO is -111.11344320346879å\n",
      "Iteration 20 - > Delta Gamme = 0.4290216756637164\n",
      "Iteration 21, Delta Gamma = 0.4290216756637164, the ELBO is -111.04735906746437å\n",
      "Iteration 21 - > Delta Gamme = 0.41006265174015205\n",
      "Iteration 22, Delta Gamma = 0.41006265174015205, the ELBO is -110.98657650169346å\n",
      "Iteration 22 - > Delta Gamme = 0.38375118982959905\n",
      "Iteration 23, Delta Gamma = 0.38375118982959905, the ELBO is -110.93295555623308å\n",
      "Iteration 23 - > Delta Gamme = 0.35319541716751185\n",
      "Iteration 24, Delta Gamma = 0.35319541716751185, the ELBO is -110.88722827774166å\n",
      "Iteration 24 - > Delta Gamme = 0.321189095850942\n",
      "Iteration 25, Delta Gamma = 0.321189095850942, the ELBO is -110.8491869910499å\n",
      "Iteration 25 - > Delta Gamme = 0.2896388517030015\n",
      "Iteration 26, Delta Gamma = 0.2896388517030015, the ELBO is -110.81806835325187å\n",
      "Iteration 26 - > Delta Gamme = 0.25950707797509637\n",
      "Iteration 27, Delta Gamma = 0.25950707797509637, the ELBO is -110.7929128354976å\n",
      "Iteration 27 - > Delta Gamme = 0.23112632401628286\n",
      "Iteration 28, Delta Gamma = 0.23112632401628286, the ELBO is -110.77278183548457å\n",
      "Iteration 28 - > Delta Gamme = 0.20459170787460215\n",
      "Iteration 29, Delta Gamma = 0.20459170787460215, the ELBO is -110.75683608867612å\n",
      "Iteration 29 - > Delta Gamme = 0.18001781980931514\n",
      "Iteration 30, Delta Gamma = 0.18001781980931514, the ELBO is -110.74433745494154å\n",
      "Iteration 30 - > Delta Gamme = 0.1576145819236217\n",
      "Iteration 31, Delta Gamma = 0.1576145819236217, the ELBO is -110.73463122992507å\n",
      "Iteration 31 - > Delta Gamme = 0.1376459559896252\n",
      "Iteration 32, Delta Gamma = 0.1376459559896252, the ELBO is -110.72713619636359å\n",
      "Iteration 32 - > Delta Gamme = 0.12035289908886654\n",
      "Iteration 33, Delta Gamma = 0.12035289908886654, the ELBO is -110.72134514908402å\n",
      "Iteration 33 - > Delta Gamme = 0.10589036539751948\n",
      "Iteration 34, Delta Gamma = 0.10589036539751948, the ELBO is -110.71682877119615å\n",
      "Iteration 34 - > Delta Gamme = 0.09429290278014586\n",
      "Iteration 35, Delta Gamma = 0.09429290278014586, the ELBO is -110.71323633865262å\n",
      "Iteration 35 - > Delta Gamme = 0.08546482355499287\n",
      "Iteration 36, Delta Gamma = 0.08546482355499287, the ELBO is -110.71029086766555å\n",
      "Iteration 36 - > Delta Gamme = 0.07918924764688537\n",
      "Iteration 37, Delta Gamma = 0.07918924764688537, the ELBO is -110.70777966582004å\n",
      "Iteration 37 - > Delta Gamme = 0.0751551184369376\n",
      "Iteration 38, Delta Gamma = 0.0751551184369376, the ELBO is -110.70554259818735å\n",
      "Iteration 38 - > Delta Gamme = 0.07300053611673513\n",
      "Iteration 39, Delta Gamma = 0.07300053611673513, the ELBO is -110.7034602362046å\n",
      "Iteration 39 - > Delta Gamme = 0.07236240511412449\n",
      "Iteration 40, Delta Gamma = 0.07236240511412449, the ELBO is -110.70144328930265å\n",
      "Iteration 40 - > Delta Gamme = 0.07291701039983345\n",
      "Iteration 41, Delta Gamma = 0.07291701039983345, the ELBO is -110.69942393380836å\n",
      "Iteration 41 - > Delta Gamme = 0.07440154508927212\n",
      "Iteration 42, Delta Gamma = 0.07440154508927212, the ELBO is -110.69734910348575å\n",
      "Iteration 42 - > Delta Gamme = 0.07661714496405643\n",
      "Iteration 43, Delta Gamma = 0.07661714496405643, the ELBO is -110.69517551512392å\n",
      "Iteration 43 - > Delta Gamme = 0.07942037443615663\n",
      "Iteration 44, Delta Gamma = 0.07942037443615663, the ELBO is -110.69286610169415å\n",
      "Iteration 44 - > Delta Gamme = 0.08271031895322194\n",
      "Iteration 45, Delta Gamma = 0.08271031895322194, the ELBO is -110.69038753423871å\n",
      "Iteration 45 - > Delta Gamme = 0.08641574396367073\n",
      "Iteration 46, Delta Gamma = 0.08641574396367073, the ELBO is -110.68770857149141å\n",
      "Iteration 46 - > Delta Gamme = 0.09048416304834943\n",
      "Iteration 47, Delta Gamma = 0.09048416304834943, the ELBO is -110.68479904735081å\n",
      "Iteration 47 - > Delta Gamme = 0.09487310381791957\n",
      "Iteration 48, Delta Gamma = 0.09487310381791957, the ELBO is -110.68162937307561å\n",
      "Iteration 48 - > Delta Gamme = 0.0995432119303206\n",
      "Iteration 49, Delta Gamma = 0.0995432119303206, the ELBO is -110.6781704864546å\n",
      "Iteration 49 - > Delta Gamme = 0.10445269498687935\n",
      "Iteration 50, Delta Gamma = 0.10445269498687935, the ELBO is -110.67439422232039å\n",
      "Iteration 50 - > Delta Gamme = 0.10955269166771678\n",
      "Iteration 51, Delta Gamma = 0.10955269166771678, the ELBO is -110.67027410706694å\n",
      "Iteration 51 - > Delta Gamme = 0.11478330962390154\n",
      "Iteration 52, Delta Gamma = 0.11478330962390154, the ELBO is -110.66578659330563å\n",
      "Iteration 52 - > Delta Gamme = 0.12007024856891924\n",
      "Iteration 53, Delta Gamma = 0.12007024856891924, the ELBO is -110.66091274712184å\n",
      "Iteration 53 - > Delta Gamme = 0.1253220933961379\n",
      "Iteration 54, Delta Gamma = 0.1253220933961379, the ELBO is -110.65564037609684å\n",
      "Iteration 54 - > Delta Gamme = 0.13042851865991437\n",
      "Iteration 55, Delta Gamma = 0.13042851865991437, the ELBO is -110.64996653763433å\n",
      "Iteration 55 - > Delta Gamme = 0.13525978014963294\n",
      "Iteration 56, Delta Gamma = 0.13525978014963294, the ELBO is -110.64390029218487å\n",
      "Iteration 56 - > Delta Gamme = 0.13966796138625526\n",
      "Iteration 57, Delta Gamma = 0.13966796138625526, the ELBO is -110.63746546742698å\n",
      "Iteration 57 - > Delta Gamme = 0.1434904610302629\n",
      "Iteration 58, Delta Gamma = 0.1434904610302629, the ELBO is -110.63070308834223å\n",
      "Iteration 58 - > Delta Gamme = 0.14655611245759737\n",
      "Iteration 59, Delta Gamma = 0.14655611245759737, the ELBO is -110.62367302681164å\n",
      "Iteration 59 - > Delta Gamme = 0.14869408407400933\n",
      "Iteration 60, Delta Gamma = 0.14869408407400933, the ELBO is -110.61645436711346å\n",
      "Iteration 60 - > Delta Gamme = 0.1497453053954198\n",
      "Iteration 61, Delta Gamma = 0.1497453053954198, the ELBO is -110.60914401184617å\n",
      "Iteration 61 - > Delta Gamme = 0.14957563049492742\n",
      "Iteration 62, Delta Gamma = 0.14957563049492742, the ELBO is -110.60185320267264å\n",
      "Iteration 62 - > Delta Gamme = 0.14808937811259223\n",
      "Iteration 63, Delta Gamma = 0.14808937811259223, the ELBO is -110.59470191499238å\n",
      "Iteration 63 - > Delta Gamme = 0.14524142518518598\n",
      "Iteration 64, Delta Gamma = 0.14524142518518598, the ELBO is -110.58781147627548å\n",
      "Iteration 64 - > Delta Gamme = 0.14104585211358747\n",
      "Iteration 65, Delta Gamma = 0.14104585211358747, the ELBO is -110.58129617507078å\n",
      "Iteration 65 - > Delta Gamme = 0.13557938291973232\n",
      "Iteration 66, Delta Gamma = 0.13557938291973232, the ELBO is -110.57525495451276å\n",
      "Iteration 66 - > Delta Gamme = 0.1289785653832046\n",
      "Iteration 67, Delta Gamma = 0.1289785653832046, the ELBO is -110.56976440252252å\n",
      "Iteration 67 - > Delta Gamme = 0.12143067937319547\n",
      "Iteration 68, Delta Gamma = 0.12143067937319547, the ELBO is -110.56487409176358å\n",
      "Iteration 68 - > Delta Gamme = 0.1131594945624794\n",
      "Iteration 69, Delta Gamma = 0.1131594945624794, the ELBO is -110.56060490437739å\n",
      "Iteration 69 - > Delta Gamme = 0.10440791468455572\n",
      "Iteration 70, Delta Gamma = 0.10440791468455572, the ELBO is -110.55695040935338å\n",
      "Iteration 70 - > Delta Gamme = 0.09541999659094051\n",
      "Iteration 71, Delta Gamma = 0.09541999659094051, the ELBO is -110.55388080602407å\n",
      "Iteration 71 - > Delta Gamme = 0.08642472329387625\n",
      "Iteration 72, Delta Gamma = 0.08642472329387625, the ELBO is -110.55134855594983å\n",
      "Iteration 72 - > Delta Gamme = 0.0776233246197765\n",
      "Iteration 73, Delta Gamma = 0.0776233246197765, the ELBO is -110.54929468009753å\n",
      "Iteration 73 - > Delta Gamme = 0.06918109023569509\n",
      "Iteration 74, Delta Gamma = 0.06918109023569509, the ELBO is -110.54765479276183å\n",
      "Iteration 74 - > Delta Gamme = 0.061223757011301574\n",
      "Iteration 75, Delta Gamma = 0.061223757011301574, the ELBO is -110.5463642023193å\n",
      "Iteration 75 - > Delta Gamme = 0.05383787321241907\n",
      "Iteration 76, Delta Gamma = 0.05383787321241907, the ELBO is -110.5453617281081å\n",
      "Iteration 76 - > Delta Gamme = 0.04707414362312401\n",
      "Iteration 77, Delta Gamma = 0.04707414362312401, the ELBO is -110.5445921725117å\n",
      "Iteration 77 - > Delta Gamme = 0.040952641349419346\n",
      "Iteration 78, Delta Gamma = 0.040952641349419346, the ELBO is -110.54400759457465å\n",
      "Iteration 78 - > Delta Gamme = 0.03546886699425514\n",
      "Iteration 79, Delta Gamma = 0.03546886699425514, the ELBO is -110.54356764249789å\n",
      "Iteration 79 - > Delta Gamme = 0.030599853124935333\n",
      "Iteration 80, Delta Gamma = 0.030599853124935333, the ELBO is -110.54323923144034å\n",
      "Iteration 80 - > Delta Gamme = 0.026309768698437888\n",
      "Iteration 81, Delta Gamma = 0.026309768698437888, the ELBO is -110.54299582717623å\n",
      "Iteration 81 - > Delta Gamme = 0.02255471635619443\n",
      "Iteration 82, Delta Gamma = 0.02255471635619443, the ELBO is -110.54281654261744å\n",
      "Iteration 82 - > Delta Gamme = 0.019286604673916314\n",
      "Iteration 83, Delta Gamma = 0.019286604673916314, the ELBO is -110.54268519389093å\n",
      "Iteration 83 - > Delta Gamme = 0.01645610890532884\n",
      "Iteration 84, Delta Gamma = 0.01645610890532884, the ELBO is -110.54258940830067å\n",
      "Iteration 84 - > Delta Gamme = 0.014014812572828045\n",
      "Iteration 85, Delta Gamma = 0.014014812572828045, the ELBO is -110.54251983376676å\n",
      "Iteration 85 - > Delta Gamme = 0.011916659877104477\n",
      "Iteration 86, Delta Gamma = 0.011916659877104477, the ELBO is -110.54246946920398å\n",
      "Iteration 86 - > Delta Gamme = 0.010118858007399012\n",
      "Iteration 87, Delta Gamma = 0.010118858007399012, the ELBO is -110.54243311615149å\n",
      "Iteration 87 - > Delta Gamme = 0.008582360147968243\n",
      "Iteration 88, Delta Gamma = 0.008582360147968243, the ELBO is -110.54240694124945å\n",
      "Iteration 88 - > Delta Gamme = 0.007272042748721575\n",
      "Iteration 89, Delta Gamma = 0.007272042748721575, the ELBO is -110.54238813426758å\n",
      "Iteration 89 - > Delta Gamme = 0.006156670210800513\n",
      "Iteration 90, Delta Gamma = 0.006156670210800513, the ELBO is -110.54237464520529å\n",
      "Iteration 90 - > Delta Gamme = 0.005208720036846276\n",
      "Iteration 91, Delta Gamma = 0.005208720036846276, the ELBO is -110.54236498487634å\n",
      "Iteration 91 - > Delta Gamme = 0.0044041235646067965\n",
      "Iteration 92, Delta Gamma = 0.0044041235646067965, the ELBO is -110.54235807530365å\n",
      "Iteration 92 - > Delta Gamme = 0.003721962397571775\n",
      "Iteration 93, Delta Gamma = 0.003721962397571775, the ELBO is -110.54235313849429å\n",
      "Iteration 93 - > Delta Gamme = 0.0031441486610057166\n",
      "Iteration 94, Delta Gamma = 0.0031441486610057166, the ELBO is -110.54234961436964å\n",
      "Iteration 94 - > Delta Gamme = 0.0026551079860616437\n",
      "Iteration 95, Delta Gamma = 0.0026551079860616437, the ELBO is -110.5423471005804å\n",
      "Iteration 95 - > Delta Gamme = 0.0022414772449424374\n",
      "Iteration 96, Delta Gamma = 0.0022414772449424374, the ELBO is -110.5423453086027å\n",
      "Iteration 96 - > Delta Gamme = 0.001891824078669227\n",
      "Iteration 97, Delta Gamma = 0.001891824078669227, the ELBO is -110.54234403184617å\n",
      "Iteration 97 - > Delta Gamme = 0.0015963917583065937\n",
      "Iteration 98, Delta Gamma = 0.0015963917583065937, the ELBO is -110.54234312257421å\n",
      "Iteration 98 - > Delta Gamme = 0.001346870539762036\n",
      "Iteration 99, Delta Gamma = 0.001346870539762036, the ELBO is -110.54234247524832å\n",
      "Iteration 99 - > Delta Gamme = 0.0011361951182725656\n"
     ]
    },
    {
     "name": "stderr",
     "output_type": "stream",
     "text": [
      "/Users/ericliu/Desktop/Latent-Dirichilet-Allocation/src/lda_model.py:200: UserWarning: Update phi, lambda, gamma: Maximum iteration reached at step 100\n",
      "  \n"
     ]
    }
   ],
   "source": [
    "lda.e_step(verbose=True)"
   ]
  },
  {
   "cell_type": "code",
   "execution_count": 72,
   "metadata": {},
   "outputs": [
    {
     "data": {
      "text/plain": [
       "array([[7.94071345, 1.79973397, 1.77342074, 1.77342521, 1.85244637],\n",
       "       [1.79251984, 1.69350903, 1.66875317, 1.66875738, 8.31620034],\n",
       "       [1.56461282, 1.62767798, 1.60566658, 1.60567033, 8.73611205]])"
      ]
     },
     "execution_count": 72,
     "metadata": {},
     "output_type": "execute_result"
    }
   ],
   "source": [
    "lda._gamma_"
   ]
  },
  {
   "cell_type": "code",
   "execution_count": null,
   "metadata": {},
   "outputs": [],
   "source": []
  }
 ],
 "metadata": {
  "kernelspec": {
   "display_name": ".venv",
   "language": "python",
   "name": "python3"
  },
  "language_info": {
   "codemirror_mode": {
    "name": "ipython",
    "version": 3
   },
   "file_extension": ".py",
   "mimetype": "text/x-python",
   "name": "python",
   "nbconvert_exporter": "python",
   "pygments_lexer": "ipython3",
   "version": "3.8.9"
  },
  "orig_nbformat": 4
 },
 "nbformat": 4,
 "nbformat_minor": 2
}
