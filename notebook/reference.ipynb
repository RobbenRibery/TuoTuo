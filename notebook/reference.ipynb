{
 "cells": [
  {
   "cell_type": "code",
   "execution_count": 4,
   "metadata": {},
   "outputs": [
    {
     "name": "stdout",
     "output_type": "stream",
     "text": [
      "The autoreload extension is already loaded. To reload it, use:\n",
      "  %reload_ext autoreload\n"
     ]
    }
   ],
   "source": [
    "%load_ext autoreload\n",
    "%autoreload 2\n",
    "import sys \n",
    "if '/Users/ericliu/Desktop/Latent-Dirichilet-Allocation' not in sys.path: \n",
    "    sys.path.append('/Users/ericliu/Desktop/Latent-Dirichilet-Allocation')\n",
    "import torch as tr \n",
    "import numpy as np \n",
    "import pandas as pd \n",
    "from collections import defaultdict\n",
    "from pprint import pprint\n",
    "from scipy.special import psi, polygamma, gammaln, loggamma\n",
    "import numpy as np\n",
    "import matplotlib.pyplot as plt\n",
    "import seaborn as sns \n",
    "from src.lda_model import LDASmoothed \n",
    "from src.generator import doc_generator \n",
    "from src.utils import (\n",
    "    get_vocab_from_docs, \n",
    "    get_np_wct, \n",
    "    data_loader,\n",
    "    text_pipeline, \n",
    "    process_documents,\n",
    ") \n",
    "from src.text_pre_processor import (\n",
    "    remove_accented_chars, \n",
    "    remove_special_characters, \n",
    "    remove_punctuation,\n",
    "    remove_extra_whitespace_tabs,\n",
    "    remove_stopwords,\n",
    ")\n",
    "from pprint import pprint \n",
    "import copy "
   ]
  },
  {
   "cell_type": "code",
   "execution_count": 5,
   "metadata": {},
   "outputs": [
    {
     "name": "stdout",
     "output_type": "stream",
     "text": [
      "Document: 0 | word: 0 -> topic: science -> word: scientst\n",
      "Document: 0 | word: 1 -> topic: sport -> word: immunology\n",
      "Document: 0 | word: 2 -> topic: sport -> word: athletics\n",
      "Document: 0 | word: 3 -> topic: law -> word: court\n",
      "Document: 0 | word: 4 -> topic: science -> word: form\n",
      "Document: 0 | word: 5 -> topic: science -> word: infection\n",
      "Document: 0 | word: 6 -> topic: science -> word: electricity\n",
      "Document: 0 | word: 7 -> topic: art -> word: form\n",
      "Document: 0 | word: 8 -> topic: sport -> word: Technique\n",
      "Document: 0 | word: 9 -> topic: science -> word: astrophysics\n",
      "Document 0: scientst immunology athletics court form infection electricity form Technique astrophysics\n",
      "\n",
      "Document: 1 | word: 0 -> topic: health -> word: allergy\n",
      "Document: 1 | word: 1 -> topic: health -> word: bruise\n",
      "Document: 1 | word: 2 -> topic: sport -> word: recreation\n",
      "Document: 1 | word: 3 -> topic: science -> word: genetics\n",
      "Document: 1 | word: 4 -> topic: science -> word: attorney\n",
      "Document: 1 | word: 5 -> topic: sport -> word: FIFA\n",
      "Document: 1 | word: 6 -> topic: science -> word: electricity\n",
      "Document: 1 | word: 7 -> topic: health -> word: asymmetrical\n",
      "Document: 1 | word: 8 -> topic: science -> word: quantum\n",
      "Document: 1 | word: 9 -> topic: art -> word: Technique\n",
      "Document 1: allergy bruise recreation genetics attorney FIFA electricity asymmetrical quantum Technique\n",
      "\n",
      "Document: 2 | word: 0 -> topic: law -> word: evidence\n",
      "Document: 2 | word: 1 -> topic: health -> word: fever\n",
      "Document: 2 | word: 2 -> topic: health -> word: contagious\n",
      "Document: 2 | word: 3 -> topic: health -> word: exercise\n",
      "Document: 2 | word: 4 -> topic: science -> word: scientst\n",
      "Document: 2 | word: 5 -> topic: health -> word: copyright\n",
      "Document: 2 | word: 6 -> topic: law -> word: picture\n",
      "Document: 2 | word: 7 -> topic: health -> word: decongestant\n",
      "Document: 2 | word: 8 -> topic: science -> word: content\n",
      "Document: 2 | word: 9 -> topic: health -> word: court\n",
      "Document 2: evidence fever contagious exercise scientst copyright picture decongestant content court\n",
      "\n"
     ]
    }
   ],
   "source": [
    "gen = doc_generator(\n",
    "    M = 3,\n",
    "    L = 20, \n",
    "    topic_prior = tr.tensor([1,1,1,1,1], dtype=tr.double)\n",
    ")\n",
    "\n",
    "docs = gen.generate_doc()"
   ]
  },
  {
   "cell_type": "code",
   "execution_count": 6,
   "metadata": {},
   "outputs": [
    {
     "data": {
      "text/plain": [
       "{0: 'scientst immunology athletics court form infection electricity form Technique astrophysics',\n",
       " 1: 'allergy bruise recreation genetics attorney FIFA electricity asymmetrical quantum Technique',\n",
       " 2: 'evidence fever contagious exercise scientst copyright picture decongestant content court'}"
      ]
     },
     "execution_count": 6,
     "metadata": {},
     "output_type": "execute_result"
    }
   ],
   "source": [
    "docs"
   ]
  },
  {
   "cell_type": "code",
   "execution_count": 7,
   "metadata": {},
   "outputs": [
    {
     "name": "stdout",
     "output_type": "stream",
     "text": [
      "There are 3 documents in the dataset after processing\n",
      "On average estimated document length is 10.0 words per document after processing\n",
      "There are 25 unique vocab in the corpus after processing\n"
     ]
    }
   ],
   "source": [
    "result = process_documents(docs, sample=True) "
   ]
  },
  {
   "cell_type": "code",
   "execution_count": 8,
   "metadata": {},
   "outputs": [],
   "source": [
    "import warnings\n",
    "def init_lda(docs, vocab, n_topic, gibbs=False, random_state=42):\n",
    "    if gibbs:\n",
    "        global V, k, N, M, alpha, eta, n_iw, n_di\n",
    "    else:\n",
    "        global V, k, N, M, alpha, beta, gamma, phi\n",
    "        \n",
    "    np.random.seed(random_state)\n",
    "\n",
    "    V = len(vocab)\n",
    "    k = n_topic  # number of topics\n",
    "    N = np.array([doc.shape[0] for doc in docs])\n",
    "    M = len(docs)\n",
    "\n",
    "    print(f\"V: {V}\\nk: {k}\\nN: {N[:10]}...\\nM: {M}\")\n",
    "\n",
    "    # initialize α, β\n",
    "    if gibbs:\n",
    "        alpha = np.random.gamma(shape=100, scale=0.01, size=1)  # one for all k\n",
    "        eta = np.random.gamma(shape=100, scale=0.01, size=1)  # one for all V\n",
    "        print(f\"α: {alpha}\\nη: {eta}\")\n",
    "        \n",
    "        n_iw = np.zeros((k, V), dtype=int)\n",
    "        n_di = np.zeros((M, k), dtype=int)\n",
    "        print(f\"n_iw: dim {n_iw.shape}\\nn_di: dim {n_di.shape}\")\n",
    "    else:\n",
    "        alpha = np.random.gamma(shape=100, scale=0.01, size=k) #np.random.rand(k)\n",
    "        beta = np.random.dirichlet(np.ones(V), k)\n",
    "        print(f\"α: dim {alpha.shape}\\nβ: dim {beta.shape}\")\n",
    "\n",
    "        # initialize ϕ, γ\n",
    "        ## ϕ: (M x max(N) x k) arrays with zero paddings on the right\n",
    "        gamma = alpha + np.ones((M, k)) * V / k\n",
    "\n",
    "        phi = np.ones((M, max(N), k)) / k\n",
    "        for m, N_d in enumerate(N):\n",
    "            phi[m, N_d:, :] = 0  # zero padding for vectorized operations\n",
    "\n",
    "        print(f\"γ: dim {gamma.shape}\\nϕ: dim ({len(phi)}, N_d, {phi[0].shape[1]})\")\n",
    "\n",
    "def E_step(docs, phi, gamma, alpha, beta):\n",
    "    \"\"\"\n",
    "    Minorize the joint likelihood function via variational inference.\n",
    "    This is the E-step of variational EM algorithm for LDA.\n",
    "    \"\"\"\n",
    "    # optimize phi\n",
    "    for m in range(M):\n",
    "        #print(N[m], docs[m])\n",
    "        phi[m, :N[m], :] = (beta[:, docs[m]] * np.exp(\n",
    "            psi(gamma[m, :]) - psi(gamma[m, :].sum())\n",
    "        ).reshape(-1, 1)).T\n",
    "\n",
    "        # Normalize phi\n",
    "        phi[m, :N[m]] /= phi[m, :N[m]].sum(axis=1).reshape(-1, 1)\n",
    "        if np.any(np.isnan(phi)):\n",
    "            raise ValueError(\"phi nan\")\n",
    "        \n",
    "        \n",
    "\n",
    "    # optimize gamma\n",
    "    gamma = alpha + phi.sum(axis=1)\n",
    "\n",
    "    \n",
    "\n",
    "    return phi, gamma\n",
    "\n",
    "\n",
    "def M_step(docs, phi, gamma, alpha, beta, M):\n",
    "    \"\"\"\n",
    "    maximize the lower bound of the likelihood.\n",
    "    This is the M-step of variational EM algorithm for (smoothed) LDA.\n",
    "    \n",
    "    update of alpha follows from appendix A.2 of Blei et al., 2003.\n",
    "    \"\"\"\n",
    "    # update alpha\n",
    "    alpha = _update(alpha, gamma, M)\n",
    "    \n",
    "    # update beta\n",
    "    for j in range(V):\n",
    "        beta[:, j] = np.array([_phi_dot_w(docs, phi, m, j) for m in range(M)]).sum(axis=0)\n",
    "    beta /= beta.sum(axis=1).reshape(-1, 1)\n",
    "\n",
    "    return alpha, beta\n",
    "\n",
    "def _update(var, vi_var, const, max_iter=10000, tol=1e-6):\n",
    "    \"\"\"\n",
    "    From appendix A.2 of Blei et al., 2003.\n",
    "    For hessian with shape `H = diag(h) + 1z1'`\n",
    "    \n",
    "    To update alpha, input var=alpha and vi_var=gamma, const=M.\n",
    "    To update eta, input var=eta and vi_var=lambda, const=k.\n",
    "    \"\"\"\n",
    "    for _ in range(max_iter):\n",
    "        # store old value\n",
    "        var0 = var.copy()\n",
    "        \n",
    "        # g: gradient \n",
    "        psi_sum = psi(vi_var.sum(axis=1)).reshape(-1, 1)\n",
    "        g = const * (psi(var.sum()) - psi(var)) \\\n",
    "            + (psi(vi_var) - psi_sum).sum(axis=0)\n",
    "\n",
    "        # H = diag(h) + 1z1'\n",
    "        z = const * polygamma(1, var.sum())  # z: Hessian constant component\n",
    "        h = -const * polygamma(1, var)       # h: Hessian diagonal component\n",
    "        c = (g / h).sum() / (1./z + (1./h).sum())\n",
    "\n",
    "        # update var\n",
    "        var -= (g - c) / h\n",
    "        print(f\"{vi_var.sum()}|{var0} -> {var}\")\n",
    "        \n",
    "        # check convergence\n",
    "        err = np.sqrt(np.mean((var - var0) ** 2))\n",
    "        crit = err < tol\n",
    "        if crit:\n",
    "            break\n",
    "    else:\n",
    "        warnings.warn(f\"max_iter={max_iter} reached: values might not be optimal.\")\n",
    "    \n",
    "    #print(err)\n",
    "    return var\n",
    "\n",
    "def _phi_dot_w(docs, phi, d, j):\n",
    "    \"\"\"\n",
    "    \\sum_{n=1}^{N_d} ϕ_{dni} w_{dn}^j\n",
    "    \"\"\"\n",
    "    # doc = np.zeros(docs[m].shape[0] * V, dtype=int)\n",
    "    # doc[np.arange(0, docs[m].shape[0] * V, V) + docs[m]] = 1\n",
    "    # doc = doc.reshape(-1, V)\n",
    "    # lam += phi[m, :N[m], :].T @ doc\n",
    "    return (docs[d] == j) @ phi[d, :N[d], :]\n",
    "\n",
    "def dg(gamma, d, i):\n",
    "    \"\"\"\n",
    "    E[log θ_t] where θ_t ~ Dir(gamma)\n",
    "    \"\"\"\n",
    "    return psi(gamma[d, i]) - psi(np.sum(gamma[d, :]))\n",
    "\n",
    "\n",
    "def dl(lam, i, w_n):\n",
    "    \"\"\"\n",
    "    E[log β_t] where β_t ~ Dir(lam)\n",
    "    \"\"\"\n",
    "    return psi(lam[i, w_n]) - psi(np.sum(lam[i, :]))\n",
    "\n",
    "def vlb(docs, phi, gamma, alpha, beta, M, N, k):\n",
    "    \"\"\"\n",
    "    Average variational lower bound for joint log likelihood.\n",
    "    \"\"\"\n",
    "    lb = 0\n",
    "    for d in range(M):\n",
    "        lb += (\n",
    "            gammaln(np.sum(alpha))\n",
    "            - np.sum(gammaln(alpha))\n",
    "            + np.sum([(alpha[i] - 1) * dg(gamma, d, i) for i in range(k)])\n",
    "        )\n",
    "\n",
    "        lb -= (\n",
    "            gammaln(np.sum(gamma[d, :]))\n",
    "            - np.sum(gammaln(gamma[d, :]))\n",
    "            + np.sum([(gamma[d, i] - 1) * dg(gamma, d, i) for i in range(k)])\n",
    "        )\n",
    "\n",
    "        for n in range(N[d]):\n",
    "            w_n = int(docs[d][n])\n",
    "\n",
    "            lb += np.sum([phi[d][n, i] * dg(gamma, d, i) for i in range(k)])\n",
    "            lb += np.sum([phi[d][n, i] * np.log(beta[i, w_n]) for i in range(k)])\n",
    "            lb -= np.sum([phi[d][n, i] * np.log(phi[d][n, i]) for i in range(k)])\n",
    "\n",
    "    return lb / M"
   ]
  },
  {
   "cell_type": "code",
   "execution_count": 9,
   "metadata": {},
   "outputs": [
    {
     "data": {
      "text/plain": [
       "{'scientst': 0,\n",
       " 'immunology': 1,\n",
       " 'athletics': 2,\n",
       " 'court': 3,\n",
       " 'form': 4,\n",
       " 'infection': 5,\n",
       " 'electricity': 6,\n",
       " 'Technique': 7,\n",
       " 'astrophysics': 8,\n",
       " 'allergy': 9,\n",
       " 'bruise': 10,\n",
       " 'recreation': 11,\n",
       " 'genetics': 12,\n",
       " 'attorney': 13,\n",
       " 'FIFA': 14,\n",
       " 'asymmetrical': 15,\n",
       " 'quantum': 16,\n",
       " 'evidence': 17,\n",
       " 'fever': 18,\n",
       " 'contagious': 19,\n",
       " 'exercise': 20,\n",
       " 'copyright': 21,\n",
       " 'picture': 22,\n",
       " 'decongestant': 23,\n",
       " 'content': 24}"
      ]
     },
     "execution_count": 9,
     "metadata": {},
     "output_type": "execute_result"
    }
   ],
   "source": [
    "result['vocab_to_idx']"
   ]
  },
  {
   "cell_type": "code",
   "execution_count": 10,
   "metadata": {},
   "outputs": [
    {
     "data": {
      "text/plain": [
       "{0: 'scientst immunology athletics court form infection electricity form Technique astrophysics',\n",
       " 1: 'allergy bruise recreation genetics attorney FIFA electricity asymmetrical quantum Technique',\n",
       " 2: 'evidence fever contagious exercise scientst copyright picture decongestant content court'}"
      ]
     },
     "execution_count": 10,
     "metadata": {},
     "output_type": "execute_result"
    }
   ],
   "source": [
    "docs"
   ]
  },
  {
   "cell_type": "code",
   "execution_count": 11,
   "metadata": {},
   "outputs": [
    {
     "data": {
      "text/plain": [
       "[array([0, 1, 2, 3, 4, 5, 6, 4, 7, 8]),\n",
       " array([ 9, 10, 11, 12, 13, 14,  6, 15, 16,  7]),\n",
       " array([17, 18, 19, 20,  0, 21, 22, 23, 24,  3])]"
      ]
     },
     "execution_count": 11,
     "metadata": {},
     "output_type": "execute_result"
    }
   ],
   "source": [
    "docs_np = []\n",
    "for doc in result['documents']: \n",
    "\n",
    "    doc_idx = []\n",
    "    for n in range(len(doc)): \n",
    "\n",
    "        doc_idx.append(result['vocab_to_idx'][doc[n]])\n",
    "\n",
    "    \n",
    "    docs_np.append(np.array(doc_idx))\n",
    "docs_np"
   ]
  },
  {
   "cell_type": "code",
   "execution_count": 12,
   "metadata": {},
   "outputs": [
    {
     "data": {
      "text/plain": [
       "array([[ 0,  1,  2,  3,  4,  5,  6,  4,  7,  8],\n",
       "       [ 9, 10, 11, 12, 13, 14,  6, 15, 16,  7],\n",
       "       [17, 18, 19, 20,  0, 21, 22, 23, 24,  3]])"
      ]
     },
     "execution_count": 12,
     "metadata": {},
     "output_type": "execute_result"
    }
   ],
   "source": [
    "docs = np.array(docs_np)\n",
    "docs "
   ]
  },
  {
   "cell_type": "code",
   "execution_count": 13,
   "metadata": {},
   "outputs": [
    {
     "name": "stdout",
     "output_type": "stream",
     "text": [
      "V: 25\n",
      "k: 5\n",
      "N: [10 10 10]...\n",
      "M: 3\n",
      "α: dim (5,)\n",
      "β: dim (5, 25)\n",
      "γ: dim (3, 5)\n",
      "ϕ: dim (3, N_d, 5)\n"
     ]
    }
   ],
   "source": [
    "init_lda(docs, set(result['vocab_to_idx'].keys()), n_topic=5)"
   ]
  },
  {
   "cell_type": "code",
   "execution_count": 14,
   "metadata": {},
   "outputs": [
    {
     "data": {
      "text/plain": [
       "array([1.04708219, 0.98292693, 0.97347267, 0.97347428, 1.16278368])"
      ]
     },
     "execution_count": 14,
     "metadata": {},
     "output_type": "execute_result"
    }
   ],
   "source": [
    "alpha"
   ]
  },
  {
   "cell_type": "code",
   "execution_count": 15,
   "metadata": {},
   "outputs": [
    {
     "data": {
      "text/plain": [
       "array([[6.04708219, 5.98292693, 5.97347267, 5.97347428, 6.16278368],\n",
       "       [6.04708219, 5.98292693, 5.97347267, 5.97347428, 6.16278368],\n",
       "       [6.04708219, 5.98292693, 5.97347267, 5.97347428, 6.16278368]])"
      ]
     },
     "execution_count": 15,
     "metadata": {},
     "output_type": "execute_result"
    }
   ],
   "source": [
    "gamma"
   ]
  },
  {
   "cell_type": "code",
   "execution_count": 16,
   "metadata": {},
   "outputs": [
    {
     "data": {
      "text/plain": [
       "array([[[0.2, 0.2, 0.2, 0.2, 0.2],\n",
       "        [0.2, 0.2, 0.2, 0.2, 0.2],\n",
       "        [0.2, 0.2, 0.2, 0.2, 0.2],\n",
       "        [0.2, 0.2, 0.2, 0.2, 0.2],\n",
       "        [0.2, 0.2, 0.2, 0.2, 0.2],\n",
       "        [0.2, 0.2, 0.2, 0.2, 0.2],\n",
       "        [0.2, 0.2, 0.2, 0.2, 0.2],\n",
       "        [0.2, 0.2, 0.2, 0.2, 0.2],\n",
       "        [0.2, 0.2, 0.2, 0.2, 0.2],\n",
       "        [0.2, 0.2, 0.2, 0.2, 0.2]],\n",
       "\n",
       "       [[0.2, 0.2, 0.2, 0.2, 0.2],\n",
       "        [0.2, 0.2, 0.2, 0.2, 0.2],\n",
       "        [0.2, 0.2, 0.2, 0.2, 0.2],\n",
       "        [0.2, 0.2, 0.2, 0.2, 0.2],\n",
       "        [0.2, 0.2, 0.2, 0.2, 0.2],\n",
       "        [0.2, 0.2, 0.2, 0.2, 0.2],\n",
       "        [0.2, 0.2, 0.2, 0.2, 0.2],\n",
       "        [0.2, 0.2, 0.2, 0.2, 0.2],\n",
       "        [0.2, 0.2, 0.2, 0.2, 0.2],\n",
       "        [0.2, 0.2, 0.2, 0.2, 0.2]],\n",
       "\n",
       "       [[0.2, 0.2, 0.2, 0.2, 0.2],\n",
       "        [0.2, 0.2, 0.2, 0.2, 0.2],\n",
       "        [0.2, 0.2, 0.2, 0.2, 0.2],\n",
       "        [0.2, 0.2, 0.2, 0.2, 0.2],\n",
       "        [0.2, 0.2, 0.2, 0.2, 0.2],\n",
       "        [0.2, 0.2, 0.2, 0.2, 0.2],\n",
       "        [0.2, 0.2, 0.2, 0.2, 0.2],\n",
       "        [0.2, 0.2, 0.2, 0.2, 0.2],\n",
       "        [0.2, 0.2, 0.2, 0.2, 0.2],\n",
       "        [0.2, 0.2, 0.2, 0.2, 0.2]]])"
      ]
     },
     "execution_count": 16,
     "metadata": {},
     "output_type": "execute_result"
    }
   ],
   "source": [
    "phi"
   ]
  },
  {
   "cell_type": "code",
   "execution_count": 17,
   "metadata": {},
   "outputs": [
    {
     "name": "stdout",
     "output_type": "stream",
     "text": [
      "25\n"
     ]
    }
   ],
   "source": [
    "print(len(result['vocab_to_idx']))"
   ]
  },
  {
   "cell_type": "code",
   "execution_count": 18,
   "metadata": {},
   "outputs": [
    {
     "name": "stdout",
     "output_type": "stream",
     "text": [
      "[[[0.59987533 0.05989332 0.05591898 0.25764781 0.02666457]\n",
      "  [0.24724437 0.01369662 0.25195747 0.1616097  0.32549185]\n",
      "  [0.04131649 0.19213417 0.0787964  0.43461685 0.2531361 ]\n",
      "  [0.07367909 0.20507565 0.12492449 0.2699581  0.32636267]\n",
      "  [0.06538056 0.04044009 0.26047636 0.04728988 0.58641311]\n",
      "  [0.08941611 0.16223635 0.03862844 0.35425703 0.35546207]\n",
      "  [0.17389084 0.00787611 0.39078812 0.38468867 0.04275626]\n",
      "  [0.06538056 0.04044009 0.26047636 0.04728988 0.58641311]\n",
      "  [0.09616628 0.39302956 0.01359186 0.16118991 0.33602239]\n",
      "  [0.04597935 0.03851539 0.59727913 0.22651461 0.09171152]]\n",
      "\n",
      " [[0.16426484 0.18154784 0.26493801 0.13596289 0.25328643]\n",
      "  [0.04178727 0.10004484 0.06357349 0.2367149  0.5578795 ]\n",
      "  [0.16945999 0.34668658 0.00280193 0.31477295 0.16627854]\n",
      "  [0.14744797 0.24619831 0.5634054  0.00957322 0.0333751 ]\n",
      "  [0.25036064 0.08091476 0.52050471 0.05400647 0.09421342]\n",
      "  [0.22688931 0.49616496 0.19872735 0.00542042 0.07279796]\n",
      "  [0.17389084 0.00787611 0.39078812 0.38468867 0.04275626]\n",
      "  [0.03804263 0.24541231 0.25994794 0.19881677 0.25778035]\n",
      "  [0.12705401 0.47528799 0.01396613 0.07640819 0.30728368]\n",
      "  [0.09616628 0.39302956 0.01359186 0.16118991 0.33602239]]\n",
      "\n",
      " [[0.20643614 0.49879537 0.10533623 0.18801083 0.00142143]\n",
      "  [0.01074916 0.19825196 0.0287133  0.61917509 0.1431105 ]\n",
      "  [0.14964852 0.39275877 0.32823813 0.05278383 0.07657075]\n",
      "  [0.08845093 0.04220827 0.47652473 0.28755757 0.10525851]\n",
      "  [0.59987533 0.05989332 0.05591898 0.25764781 0.02666457]\n",
      "  [0.0277285  0.08658539 0.17089337 0.66816852 0.04662422]\n",
      "  [0.79302631 0.01188447 0.01806747 0.0797165  0.09730526]\n",
      "  [0.49845078 0.05603599 0.05682961 0.01362935 0.37505427]\n",
      "  [0.50507811 0.14484956 0.12403716 0.12032996 0.10570521]\n",
      "  [0.07367909 0.20507565 0.12492449 0.2699581  0.32636267]]]\n",
      "\n",
      "\n",
      "[[2.54541117 2.13626426 3.04631028 3.31853673 4.09321731]\n",
      " [2.48244596 3.55609018 3.26571762 2.55102868 3.28445732]\n",
      " [4.00020507 2.67926566 2.46295612 3.53045184 2.46686106]]\n"
     ]
    }
   ],
   "source": [
    "phi, gamma = E_step(docs, phi, gamma, alpha, beta)\n",
    "print(phi)\n",
    "print()\n",
    "print()\n",
    "print(gamma)"
   ]
  },
  {
   "cell_type": "code",
   "execution_count": 19,
   "metadata": {},
   "outputs": [
    {
     "name": "stdout",
     "output_type": "stream",
     "text": [
      "[1.04708219 0.98292693 0.97347267 0.97347428 1.16278368]\n",
      "[[5.24708219 5.18292693 5.17347267 5.17347428 5.36278368]\n",
      " [5.24708219 5.18292693 5.17347267 5.17347428 5.36278368]\n",
      " [5.24708219 5.18292693 5.17347267 5.17347428 5.36278368]]\n"
     ]
    }
   ],
   "source": [
    "np.random.seed(42)\n",
    "\n",
    "_alpha_ = np.random.gamma(shape=100, scale=0.01, size=5)\n",
    "_gamma_ = _alpha_ + np.ones((M, k)) * 21 / k\n",
    "\n",
    "print(_alpha_)\n",
    "print(_gamma_)"
   ]
  },
  {
   "cell_type": "code",
   "execution_count": 20,
   "metadata": {},
   "outputs": [
    {
     "name": "stdout",
     "output_type": "stream",
     "text": [
      "78.4192192526763|[1.04708219 0.98292693 0.97347267 0.97347428 1.16278368] -> [1.79562569 1.71883122 1.70721122 1.70721321 1.92565069]\n",
      "78.4192192526763|[1.79562569 1.71883122 1.70721122 1.70721321 1.92565069] -> [2.89706016 2.81739023 2.80519713 2.80519922 3.0290319 ]\n",
      "78.4192192526763|[2.89706016 2.81739023 2.80519713 2.80519922 3.0290319 ] -> [4.15126141 4.07750791 4.06632234 4.06632425 4.27649846]\n",
      "78.4192192526763|[4.15126141 4.07750791 4.06632234 4.06632425 4.27649846] -> [5.00796502 4.94131996 4.93140917 4.93141086 5.12604242]\n",
      "78.4192192526763|[5.00796502 4.94131996 4.93140917 4.93141086 5.12604242] -> [5.23567369 5.17138297 5.16190351 5.16190513 5.35149999]\n",
      "78.4192192526763|[5.23567369 5.17138297 5.16190351 5.16190513 5.35149999] -> [5.24705619 5.18290058 5.17344626 5.17344787 5.36275799]\n",
      "78.4192192526763|[5.24705619 5.18290058 5.17344626 5.17344787 5.36275799] -> [5.24708219 5.18292693 5.17347267 5.17347428 5.36278368]\n",
      "78.4192192526763|[5.24708219 5.18292693 5.17347267 5.17347428 5.36278368] -> [5.24708219 5.18292693 5.17347267 5.17347428 5.36278368]\n"
     ]
    },
    {
     "data": {
      "text/plain": [
       "array([5.24708219, 5.18292693, 5.17347267, 5.17347428, 5.36278368])"
      ]
     },
     "execution_count": 20,
     "metadata": {},
     "output_type": "execute_result"
    }
   ],
   "source": [
    "_update(_alpha_, _gamma_, M)"
   ]
  },
  {
   "cell_type": "code",
   "execution_count": 21,
   "metadata": {},
   "outputs": [
    {
     "name": "stdout",
     "output_type": "stream",
     "text": [
      "5\n",
      "19\n"
     ]
    }
   ],
   "source": [
    "V = 19 \n",
    "print(k)\n",
    "print(V)"
   ]
  },
  {
   "cell_type": "code",
   "execution_count": 22,
   "metadata": {},
   "outputs": [
    {
     "name": "stdout",
     "output_type": "stream",
     "text": [
      "1\n",
      "[[1.04708219 0.98292693 0.97347267 0.97347428 1.16278368 1.07526208\n",
      "  0.95052839 1.05181933 1.02101821 0.81760009 0.89893338 1.0283693\n",
      "  1.15026429 0.97429619 0.94330106 1.00778149 0.9378975  0.96782864\n",
      "  0.9953198 ]\n",
      " [0.89475728 1.08105987 0.87968664 0.86986295 1.01644942 1.07222286\n",
      "  1.01387299 0.98516565 0.96690772 0.95138329 1.10597141 1.02937237\n",
      "  0.95871485 0.93060329 1.05898791 1.1031785  1.09256024 0.91521059\n",
      "  0.96611462]\n",
      " [0.94959045 0.9782464  1.08000428 1.13828828 1.03320764 0.93363961\n",
      "  0.99309432 1.16117251 1.00538214 0.96711283 0.97489658 1.03274514\n",
      "  0.91811143 0.94740917 1.09087585 1.02984852 1.00638968 1.09653088\n",
      "  0.92820856]\n",
      " [0.96431168 1.02652255 1.02295647 0.86193808 0.95525935 0.98065155\n",
      "  1.03755099 1.02260049 0.98925295 0.81711981 0.99402204 1.00269174\n",
      "  1.26335968 0.97758574 1.02707522 1.11516717 1.07363499 1.14337395\n",
      "  0.86316381]\n",
      " [0.90101275 0.9411936  0.84973584 1.00352721 0.90766658 1.15954736\n",
      "  0.92049911 0.96485874 1.0801087  0.87876646 0.84464572 1.01521312\n",
      "  1.02283738 1.07677376 1.04968711 1.02661057 0.93030741 1.02003357\n",
      "  1.02621227]]\n"
     ]
    }
   ],
   "source": [
    "_eta_ = 1\n",
    "np.random.seed(42)\n",
    "_lambda_ = np.random.gamma(shape=100, scale=0.01, size=(k, V))\n",
    "\n",
    "print(_eta_)\n",
    "print(_lambda_)"
   ]
  },
  {
   "cell_type": "code",
   "execution_count": 23,
   "metadata": {},
   "outputs": [
    {
     "data": {
      "text/plain": [
       "array([1.04708219, 0.98292693, 0.97347267, 0.97347428, 1.16278368,\n",
       "       1.07526208, 0.95052839, 1.05181933, 1.02101821, 0.81760009,\n",
       "       0.89893338, 1.0283693 , 1.15026429, 0.97429619, 0.94330106,\n",
       "       1.00778149, 0.9378975 , 0.96782864, 0.9953198 ])"
      ]
     },
     "execution_count": 23,
     "metadata": {},
     "output_type": "execute_result"
    }
   ],
   "source": [
    "_lambda_[0]"
   ]
  },
  {
   "cell_type": "code",
   "execution_count": 24,
   "metadata": {},
   "outputs": [],
   "source": [
    "def _update_eta(var, vi_var, const, max_iter=10000, tol=1e-9):\n",
    "    \"\"\"\n",
    "    From appendix A.2 of Blei et al., 2003.\n",
    "    For hessian with shape `H = diag(h) + 1z1'`\n",
    "    \n",
    "    To update alpha, input var=alpha and vi_var=gamma, const=M.\n",
    "    To update eta, input var=eta and vi_var=lambda, const=k.\n",
    "    \"\"\"\n",
    "    for _ in range(max_iter):\n",
    "        # store old value\n",
    "        var0 = var\n",
    "        \n",
    "        # g: gradient \n",
    "        psi_sum = psi(vi_var.sum(axis=1)).reshape(-1, 1)\n",
    "        g = const * (V*psi(V*var) - V*psi(var)) + np.sum(psi(vi_var)) - np.sum(V*(psi_sum))\n",
    "\n",
    "        h = const * (V**2 * polygamma(1, V*var) - V * polygamma(1, var))\n",
    "\n",
    "        # # update var\n",
    "        var -= g/h\n",
    "        print(f\"grad:{g}, hessian:{h}, eta:old{var0} -> {var}\")\n",
    "\n",
    "        if var == np.inf or var == -np.inf: \n",
    "            raise ValueError(f\"Grad -> {g}, Hessian -> {h}, overflow\")\n",
    "        \n",
    "        # check convergence\n",
    "        err = np.sqrt(np.mean((var - var0) ** 2))\n",
    "        crit = err < tol\n",
    "        if crit:\n",
    "            break\n",
    "    else:\n",
    "        warnings.warn(f\"max_iter={max_iter} reached: values might not be optimal.\")\n",
    "    \n",
    "    #print(err)\n",
    "    return var"
   ]
  },
  {
   "cell_type": "code",
   "execution_count": 25,
   "metadata": {},
   "outputs": [
    {
     "name": "stdout",
     "output_type": "stream",
     "text": [
      "grad:-0.8517960407552891, hessian:-58.72490095253988, eta:old1 -> 0.985495147255443\n",
      "grad:0.013704776840540944, hessian:-60.62945883574141, eta:old0.985495147255443 -> 0.9857211888052723\n",
      "grad:3.433071356084838e-06, hessian:-60.599086980475064, eta:old0.9857211888052723 -> 0.9857212454574683\n",
      "grad:2.2737367544323206e-13, hessian:-60.59907937125736, eta:old0.9857212454574683 -> 0.9857212454574721\n"
     ]
    },
    {
     "data": {
      "text/plain": [
       "0.9857212454574721"
      ]
     },
     "execution_count": 25,
     "metadata": {},
     "output_type": "execute_result"
    }
   ],
   "source": [
    "_update_eta(1, _lambda_, k)"
   ]
  },
  {
   "cell_type": "code",
   "execution_count": 26,
   "metadata": {},
   "outputs": [
    {
     "name": "stdout",
     "output_type": "stream",
     "text": [
      "45.4192192526763|[1.04708219 0.98292693 0.97347267 0.97347428 1.16278368] -> [1.60984251 1.50609863 1.54390368 1.58949613 1.77290523]\n",
      "45.4192192526763|[1.60984251 1.50609863 1.54390368 1.58949613 1.77290523] -> [2.18336381 2.03750007 2.14067556 2.2532118  2.39239093]\n",
      "45.4192192526763|[2.18336381 2.03750007 2.14067556 2.2532118  2.39239093] -> [2.51267568 2.34201721 2.48875269 2.64805    2.74756143]\n",
      "45.4192192526763|[2.51267568 2.34201721 2.48875269 2.64805    2.74756143] -> [2.57809687 2.40243168 2.55861498 2.7284538  2.81807722]\n",
      "45.4192192526763|[2.57809687 2.40243168 2.55861498 2.7284538  2.81807722] -> [2.58006301 2.40424528 2.56073231 2.7309235  2.82019604]\n",
      "45.4192192526763|[2.58006301 2.40424528 2.56073231 2.7309235  2.82019604] -> [2.58006471 2.40424684 2.56073416 2.73092568 2.82019787]\n",
      "45.4192192526763|[2.58006471 2.40424684 2.56073416 2.73092568 2.82019787] -> [2.58006471 2.40424684 2.56073416 2.73092568 2.82019787]\n"
     ]
    },
    {
     "data": {
      "text/plain": [
       "array([2.58006471, 2.40424684, 2.56073416, 2.73092568, 2.82019787])"
      ]
     },
     "execution_count": 26,
     "metadata": {},
     "output_type": "execute_result"
    }
   ],
   "source": [
    "_update(alpha, gamma, const=M)"
   ]
  },
  {
   "cell_type": "code",
   "execution_count": 27,
   "metadata": {},
   "outputs": [
    {
     "name": "stdout",
     "output_type": "stream",
     "text": [
      "69.28850775900855|[2.58006471 2.40424684 2.56073416 2.73092568 2.82019787] -> [3.2802924  3.01731455 3.27298312 3.61080008 3.66333863]\n",
      "69.28850775900855|[3.2802924  3.01731455 3.27298312 3.61080008 3.66333863] -> [3.56332256 3.26440639 3.56133202 3.97438339 4.00719189]\n",
      "69.28850775900855|[3.56332256 3.26440639 3.56133202 3.97438339 4.00719189] -> [3.59329858 3.29053606 3.59189913 4.01349309 4.04381849]\n",
      "69.28850775900855|[3.59329858 3.29053606 3.59189913 4.01349309 4.04381849] -> [3.59358325 3.29078395 3.5921896  4.01386984 4.04416798]\n",
      "69.28850775900855|[3.59358325 3.29078395 3.5921896  4.01386984 4.04416798] -> [3.59358327 3.29078397 3.59218963 4.01386987 4.04416801]\n",
      " 000:  variational_lb: -34.138,  error:  inf\n",
      "85.60378428511153|[3.59358327 3.29078397 3.59218963 4.01386987 4.04416801] -> [4.30466117 3.79451801 4.19480609 4.7055656  4.67247706]\n",
      "85.60378428511153|[4.30466117 3.79451801 4.19480609 4.7055656  4.67247706] -> [4.46325416 3.90457606 4.32658029 4.85703393 4.8100705 ]\n",
      "85.60378428511153|[4.46325416 3.90457606 4.32658029 4.85703393 4.8100705 ] -> [4.46899624 3.90849759 4.33127563 4.86243631 4.81498168]\n",
      "85.60378428511153|[4.46899624 3.90849759 4.33127563 4.86243631 4.81498168] -> [4.46900324 3.9085023  4.33128126 4.86244279 4.81498758]\n",
      "85.60378428511153|[4.46900324 3.9085023  4.33128126 4.86244279 4.81498758] -> [4.46900324 3.9085023  4.33128126 4.86244279 4.81498758]\n",
      " 001:  variational_lb: -36.538,  error:  2.399\n",
      "97.15865152310866|[4.46900324 3.9085023  4.33128126 4.86244279 4.81498758] -> [5.07438591 4.21559187 4.72161639 5.27400816 5.14054068]\n",
      "97.15865152310866|[5.07438591 4.21559187 4.72161639 5.27400816 5.14054068] -> [5.16228597 4.26221534 4.77889521 5.3356086  5.19362354]\n",
      "97.15865152310866|[5.16228597 4.26221534 4.77889521 5.3356086  5.19362354] -> [5.16373792 4.26299779 4.77984098 5.33663598 5.1945387 ]\n",
      "97.15865152310866|[5.16373792 4.26299779 4.77984098 5.33663598 5.1945387 ] -> [5.1637383  4.262998   4.77984123 5.33663625 5.19453895]\n",
      " 002:  variational_lb: -39.244,  error:  2.706\n",
      "104.21325818147187|[5.1637383  4.262998   4.77984123 5.33663625 5.19453895] -> [5.56885641 4.35874102 4.92536901 5.44565779 5.21195219]\n",
      "104.21325818147187|[5.56885641 4.35874102 4.92536901 5.44565779 5.21195219] -> [5.61460497 4.38116633 4.95214291 5.47401505 5.2378391 ]\n",
      "104.21325818147187|[5.61460497 4.38116633 4.95214291 5.47401505 5.2378391 ] -> [5.61496279 4.38134657 4.95235589 5.47424387 5.23805076]\n",
      "104.21325818147187|[5.61496279 4.38134657 4.95235589 5.47424387 5.23805076] -> [5.61496281 4.38134658 4.9523559  5.47424389 5.23805077]\n",
      " 003:  variational_lb: -42.072,  error:  2.828\n",
      "106.98287987424706|[5.61496281 4.38134658 4.9523559  5.47424389 5.23805077] -> [5.77253984 4.28356664 4.86662317 5.30520216 4.99031267]\n",
      "106.98287987424706|[5.77253984 4.28356664 4.86662317 5.30520216 4.99031267] -> [5.80187063 4.30412701 4.8897397  5.33254782 5.0195572 ]\n",
      "106.98287987424706|[5.80187063 4.30412701 4.8897397  5.33254782 5.0195572 ] -> [5.80203311 4.30424078 4.88986781 5.3326993  5.01972118]\n",
      "106.98287987424706|[5.80203311 4.30424078 4.88986781 5.3326993  5.01972118] -> [5.80203311 4.30424079 4.88986782 5.33269931 5.01972119]\n",
      " 004:  variational_lb: -44.968,  error:  2.896\n",
      "106.04568663542994|[5.80203311 4.30424079 4.88986782 5.33269931 5.01972119] -> [5.70544479 4.04400368 4.61101927 4.93704411 4.56950299]\n",
      "106.04568663542994|[5.70544479 4.04400368 4.61101927 4.93704411 4.56950299] -> [5.73891102 4.07486801 4.64539946 4.98048678 4.61650416]\n",
      "106.04568663542994|[5.73891102 4.07486801 4.64539946 4.98048678 4.61650416] -> [5.73928555 4.07518415 4.64575418 4.9809273  4.61698445]\n",
      "106.04568663542994|[5.73928555 4.07518415 4.64575418 4.9809273  4.61698445] -> [5.73928559 4.07518418 4.64575422 4.98092735 4.6169845 ]\n",
      " 005:  variational_lb: -47.907,  error:  2.939\n",
      "102.17440750144559|[5.73928559 4.07518418 4.64575422 4.98092735 4.6169845 ] -> [5.40921919 3.68681957 4.22087837 4.42132049 4.03061526]\n",
      "102.17440750144559|[5.40921919 3.68681957 4.22087837 4.42132049 4.03061526] -> [5.4606511  3.73380029 4.27306658 4.48751334 4.09967432]\n",
      "102.17440750144559|[5.4606511  3.73380029 4.27306658 4.48751334 4.09967432] -> [5.46163536 3.73461152 4.27397571 4.48864563 4.1008663 ]\n",
      "102.17440750144559|[5.46163536 3.73461152 4.27397571 4.48864563 4.1008663 ] -> [5.46163565 3.73461175 4.27397596 4.48864594 4.10086664]\n",
      " 006:  variational_lb: -50.871,  error:  2.965\n",
      "96.17920784479607|[5.46163565 3.73461175 4.27397596 4.48864594 4.10086664] -> [4.93679503 3.25342281 3.75138231 3.8303868  3.44132765]\n",
      "96.17920784479607|[4.93679503 3.25342281 3.75138231 3.8303868  3.44132765] -> [5.01349434 3.31811451 3.82226723 3.91869898 3.5304032 ]\n",
      "96.17920784479607|[5.01349434 3.31811451 3.82226723 3.91869898 3.5304032 ] -> [5.01559303 3.31976768 3.82409543 3.92095518 3.53271051]\n",
      "96.17920784479607|[5.01559303 3.31976768 3.82409543 3.92095518 3.53271051] -> [5.01559439 3.3197687  3.82409656 3.92095657 3.53271197]\n",
      "96.17920784479607|[5.01559439 3.3197687  3.82409656 3.92095657 3.53271197] -> [5.01559439 3.3197687  3.82409656 3.92095657 3.53271197]\n",
      " 007:  variational_lb: -53.846,  error:  2.975\n",
      "88.83938457444964|[5.01559439 3.3197687  3.82409656 3.92095657 3.53271197] -> [4.34871225 2.78331858 3.25104555 3.22799996 2.85705125]\n",
      "88.83938457444964|[4.34871225 2.78331858 3.25104555 3.22799996 2.85705125] -> [4.45158585 2.8637758  3.33735524 3.33238533 2.95985516]\n",
      "88.83938457444964|[4.45158585 2.8637758  3.33735524 3.33238533 2.95985516] -> [4.45533079 2.86660054 3.34040709 3.33607445 2.96355594]\n",
      "88.83938457444964|[4.45533079 2.86660054 3.34040709 3.33607445 2.96355594] -> [4.4553353  2.86660385 3.34041068 3.33607878 2.96356038]\n",
      "88.83938457444964|[4.4553353  2.86660385 3.34041068 3.33607878 2.96356038] -> [4.4553353  2.86660385 3.34041068 3.33607878 2.96356038]\n",
      " 008:  variational_lb: -56.818,  error:  2.972\n",
      "80.88596696541747|[4.4553353  2.86660385 3.34041068 3.33607878 2.96356038] -> [3.71005999 2.31524122 2.76215371 2.66735995 2.32036272]\n",
      "80.88596696541747|[3.71005999 2.31524122 2.76215371 2.66735995 2.32036272] -> [3.83350658 2.40604298 2.85726939 2.77785483 2.42794125]\n",
      "80.88596696541747|[3.83350658 2.40604298 2.85726939 2.77785483 2.42794125] -> [3.83919206 2.41017496 2.86160019 2.78291304 2.43298626]\n",
      "80.88596696541747|[3.83919206 2.41017496 2.86160019 2.78291304 2.43298626] -> [3.8392032  2.41018295 2.8616086  2.78292289 2.43299634]\n",
      "80.88596696541747|[3.8392032  2.41018295 2.8616086  2.78292289 2.43299634] -> [3.8392032  2.41018295 2.8616086  2.78292289 2.43299634]\n",
      " 009:  variational_lb: -59.777,  error:  2.959\n",
      "72.98074194763832|[3.8392032  2.41018295 2.8616086  2.78292289 2.43299634] -> [3.08327504 1.88407007 2.31866576 2.18665786 1.85853318]\n",
      "72.98074194763832|[3.08327504 1.88407007 2.31866576 2.18665786 1.85853318] -> [3.21618954 1.97703057 2.41385339 2.291716   1.96133974]\n",
      "72.98074194763832|[3.21618954 1.97703057 2.41385339 2.291716   1.96133974] -> [3.22351652 1.98218794 2.419075   2.29751563 1.96720707]\n",
      "72.98074194763832|[3.22351652 1.98218794 2.419075   2.29751563 1.96720707] -> [3.22353707 1.98220245 2.41908958 2.29753187 1.96722411]\n",
      "72.98074194763832|[3.22353707 1.98220245 2.41908958 2.29753187 1.96722411] -> [3.22353707 1.98220245 2.41908958 2.29753187 1.96722411]\n",
      " 010:  variational_lb: -62.715,  error:  2.938\n",
      "65.66875524211191|[3.22353707 1.98220245 2.41908958 2.29753187 1.96722411] -> [2.51782194 1.51493746 1.94229371 1.80474547 1.48230355]\n",
      "65.66875524211191|[2.51782194 1.51493746 1.94229371 1.80474547 1.48230355] -> [2.64671834 1.60117344 2.02892576 1.89452603 1.57259201]\n",
      "65.66875524211191|[2.64671834 1.60117344 2.02892576 1.89452603 1.57259201] -> [2.65467444 1.60660211 2.03423129 1.90003474 1.57839951]\n",
      "65.66875524211191|[2.65467444 1.60660211 2.03423129 1.90003474 1.57839951] -> [2.6547022  1.6066214  2.0342497  1.90005383 1.57842069]\n",
      "65.66875524211191|[2.6547022  1.6066214  2.0342497  1.90005383 1.57842069] -> [2.6547022  1.6066214  2.0342497  1.90005383 1.57842069]\n",
      " 011:  variational_lb: -65.631,  error:  2.916\n",
      "59.3221434488013|[2.6547022  1.6066214  2.0342497  1.90005383 1.57842069] -> [2.04205408 1.21847105 1.63959953 1.52082962 1.18832312]\n",
      "59.3221434488013|[2.04205408 1.21847105 1.63959953 1.52082962 1.18832312] -> [2.15542796 1.29119964 1.71176678 1.59010791 1.26182198]\n",
      "59.3221434488013|[2.15542796 1.29119964 1.71176678 1.59010791 1.26182198] -> [2.16269946 1.29598537 1.71630973 1.59445152 1.26672635]\n",
      "59.3221434488013|[2.16269946 1.29598537 1.71630973 1.59445152 1.26672635] -> [2.16272671 1.29600379 1.71632654 1.5944675  1.26674556]\n",
      "59.3221434488013|[2.16272671 1.29600379 1.71632654 1.5944675  1.26674556] -> [2.16272671 1.29600379 1.71632654 1.5944675  1.26674556]\n",
      " 012:  variational_lb: -68.528,  error:  2.897\n",
      "54.10881032309539|[2.16272671 1.29600379 1.71632654 1.5944675  1.26674556] -> [1.66214777 0.99105525 1.40330508 1.31986691 0.96454708]\n",
      "54.10881032309539|[1.66214777 0.99105525 1.40330508 1.31986691 0.96454708] -> [1.7537309  1.04746154 1.45931366 1.36888342 1.02067661]\n",
      "54.10881032309539|[1.7537309  1.04746154 1.45931366 1.36888342 1.02067661] -> [1.75939221 1.05102463 1.46265711 1.37180871 1.02425857]\n",
      "54.10881032309539|[1.75939221 1.05102463 1.46265711 1.37180871 1.02425857] -> [1.75941189 1.05103733 1.46266846 1.37181866 1.02427151]\n",
      "54.10881032309539|[1.75941189 1.05103733 1.46266846 1.37181866 1.02427151] -> [1.75941189 1.05103733 1.46266846 1.37181866 1.02427151]\n",
      " 013:  variational_lb: -71.413,  error:  2.885\n",
      "50.0076235512768|[1.75941189 1.05103733 1.46266846 1.37181866 1.02427151] -> [1.36844911 0.82045007 1.21863703 1.18142143 0.7961648 ]\n",
      "50.0076235512768|[1.36844911 0.82045007 1.21863703 1.18142143 0.7961648 ] -> [1.43761027 0.8614704  1.26031692 1.21417814 0.83695155]\n",
      "50.0076235512768|[1.43761027 0.8614704  1.26031692 1.21417814 0.83695155] -> [1.44145781 0.8637711  1.26251256 1.21594978 0.83926682]\n",
      "50.0076235512768|[1.44145781 0.8637711  1.26251256 1.21594978 0.83926682] -> [1.44146867 0.86377766 1.2625185  1.2159547  0.83927353]\n",
      "50.0076235512768|[1.44146867 0.86377766 1.2625185  1.2159547  0.83927353] -> [1.44146867 0.86377766 1.2625185  1.2159547  0.83927353]\n",
      " 014:  variational_lb: -74.291,  error:  2.878\n",
      "46.868979167556624|[1.44146867 0.86377766 1.2625185  1.2159547  0.83927353] -> [1.14417716 0.69258458 1.07077282 1.0867883  0.66961617]\n",
      "46.868979167556624|[1.14417716 0.69258458 1.07077282 1.0867883  0.66961617] -> [1.19408426 0.72122761 1.10143734 1.10829726 0.69821065]\n",
      "46.868979167556624|[1.19408426 0.72122761 1.10143734 1.10829726 0.69821065] -> [1.19644872 0.72256891 1.10278231 1.10931565 0.69957189]\n",
      "46.868979167556624|[1.19644872 0.72256891 1.10278231 1.10931565 0.69957189] -> [1.19645357 0.72257163 1.10278489 1.10931774 0.69957471]\n",
      "46.868979167556624|[1.19645357 0.72257163 1.10278489 1.10931774 0.69957471] -> [1.19645357 0.72257163 1.10278489 1.10931774 0.69957471]\n",
      " 015:  variational_lb: -77.166,  error:  2.875\n",
      "44.492107593668116|[1.19645357 0.72257163 1.10278489 1.10931774 0.69957471] -> [0.97159908 0.59552704 0.9488085  1.02121792 0.57395104]\n",
      "44.492107593668116|[0.97159908 0.59552704 0.9488085  1.02121792 0.57395104] -> [1.00697657 0.61519884 0.97161821 1.03568603 0.59356547]\n",
      "44.492107593668116|[1.00697657 0.61519884 0.97161821 1.03568603 0.59356547] -> [1.00835883 0.61593961 0.97242351 1.03626872 0.59431742]\n",
      "44.492107593668116|[1.00835883 0.61593961 0.97242351 1.03626872 0.59431742] -> [1.00836077 0.6159406  0.97242453 1.03626954 0.59431845]\n",
      "44.492107593668116|[1.00836077 0.6159406  0.97242453 1.03626954 0.59431845] -> [1.00836077 0.6159406  0.97242453 1.03626954 0.59431845]\n",
      " 016:  variational_lb: -80.046,  error:  2.880\n",
      "42.68194164714877|[1.00836077 0.6159406  0.97242453 1.03626954 0.59431845] -> [0.83516829 0.52042539 0.84602704 0.97298898 0.50073759]\n",
      "42.68194164714877|[0.83516829 0.52042539 0.84602704 0.97298898 0.50073759] -> [0.86064867 0.53399786 0.86335164 0.98332529 0.51411655]\n",
      "42.68194164714877|[0.86064867 0.53399786 0.86335164 0.98332529 0.51411655] -> [0.86147067 0.53440463 0.86384396 0.98367268 0.51452253]\n",
      "42.68194164714877|[0.86147067 0.53440463 0.86384396 0.98367268 0.51452253] -> [0.86147146 0.53440498 0.86384436 0.983673   0.51452289]\n",
      " 017:  variational_lb: -82.942,  error:  2.896\n",
      "41.27375006668301|[0.86147146 0.53440498 0.86384436 0.983673   0.51452289] -> [0.72280175 0.46099794 0.75855159 0.9321713  0.44364218]\n",
      "41.27375006668301|[0.72280175 0.46099794 0.75855159 0.9321713  0.44364218] -> [0.74207355 0.47056011 0.77196896 0.94018817 0.45287918]\n",
      "41.27375006668301|[0.74207355 0.47056011 0.77196896 0.94018817 0.45287918] -> [0.74260694 0.47079162 0.77228503 0.94041348 0.45310291]\n",
      "41.27375006668301|[0.74260694 0.47079162 0.77228503 0.94041348 0.45310291] -> [0.74260732 0.47079175 0.77228521 0.94041363 0.45310304]\n",
      " 018:  variational_lb: -85.864,  error:  2.922\n",
      "40.13760286725751|[0.74260732 0.47079175 0.77228521 0.94041363 0.45310304] -> [0.62618573 0.41275456 0.68383454 0.89012233 0.39797847]\n",
      "40.13760286725751|[0.62618573 0.41275456 0.68383454 0.89012233 0.39797847] -> [0.64180684 0.41972536 0.69438819 0.89698554 0.40455011]\n",
      "40.13760286725751|[0.64180684 0.41972536 0.69438819 0.89698554 0.40455011] -> [0.64220391 0.41986678 0.69460396 0.89715078 0.40468157]\n",
      "40.13760286725751|[0.64220391 0.41986678 0.69460396 0.89715078 0.40468157] -> [0.64220415 0.41986684 0.69460406 0.89715087 0.40468163]\n",
      " 019:  variational_lb: -88.811,  error:  2.947\n",
      "39.17552264024121|[0.64220415 0.41986684 0.69460406 0.89715087 0.40468163] -> [0.54082131 0.37245101 0.61958845 0.83991945 0.36032776]\n",
      "39.17552264024121|[0.54082131 0.37245101 0.61958845 0.83991945 0.36032776] -> [0.5543059  0.37777163 0.62805792 0.84658799 0.36522544]\n",
      "39.17552264024121|[0.5543059  0.37777163 0.62805792 0.84658799 0.36522544] -> [0.55464431 0.37786681 0.62821607 0.84672894 0.36531078]\n",
      "39.17552264024121|[0.55464431 0.37786681 0.62821607 0.84672894 0.36531078] -> [0.55464451 0.37786685 0.62821614 0.84672901 0.36531081]\n",
      " 020:  variational_lb: -91.757,  error:  2.946\n",
      "38.31830193882249|[0.55464451 0.37786685 0.62821614 0.84672901 0.36531081] -> [0.46578916 0.33783396 0.5633146  0.77796911 0.32830871]\n",
      "38.31830193882249|[0.46578916 0.33783396 0.5633146  0.77796911 0.32830871] -> [0.47768078 0.34210764 0.57036273 0.78534555 0.33216502]\n",
      "38.31830193882249|[0.47768078 0.34210764 0.57036273 0.78534555 0.33216502] -> [0.47798551 0.34217802 0.57048738 0.7854846  0.33222641]\n",
      "38.31830193882249|[0.47798551 0.34217802 0.57048738 0.7854846  0.33222641] -> [0.4779857  0.34217805 0.57048743 0.78548467 0.33222643]\n",
      " 021:  variational_lb: -94.655,  error:  2.898\n",
      "37.525086800342855|[0.4779857  0.34217805 0.57048743 0.78548467 0.33222643] -> [0.40239286 0.30750594 0.51229484 0.70591829 0.30042572]\n",
      "37.525086800342855|[0.40239286 0.30750594 0.51229484 0.70591829 0.30042572] -> [0.4124631  0.31108133 0.51849691 0.71452206 0.3036063 ]\n",
      "37.525086800342855|[0.4124631  0.31108133 0.51849691 0.71452206 0.3036063 ] -> [0.41271751 0.31113609 0.5186011  0.71467339 0.30365308]\n",
      "37.525086800342855|[0.41271751 0.31113609 0.5186011  0.71467339 0.30365308] -> [0.41271767 0.3111361  0.51860114 0.71467345 0.30365309]\n",
      " 022:  variational_lb: -97.459,  error:  2.804\n",
      "36.78234437308162|[0.41271767 0.3111361  0.51860114 0.71467345 0.30365309] -> [0.35148062 0.28068334 0.46384497 0.62992253 0.27581243]\n",
      "36.78234437308162|[0.35148062 0.28068334 0.46384497 0.62992253 0.27581243] -> [0.35934579 0.28373673 0.46970287 0.63949585 0.27850688]\n",
      "36.78234437308162|[0.35934579 0.28373673 0.46970287 0.63949585 0.27850688] -> [0.35952624 0.2837799  0.46979713 0.63966522 0.2785432 ]\n",
      "36.78234437308162|[0.35952624 0.2837799  0.46979713 0.63966522 0.2785432 ] -> [0.35952633 0.28377991 0.46979716 0.63966527 0.27854321]\n",
      " 023:  variational_lb: -100.154,  error:  2.694\n",
      "36.09393564220284|[0.35952633 0.28377991 0.46979716 0.63966527 0.27854321] -> [0.31158972 0.2568326  0.41573731 0.55617736 0.2538627 ]\n",
      "36.09393564220284|[0.31158972 0.2568326  0.41573731 0.55617736 0.2538627 ] -> [0.31735933 0.25947137 0.42173214 0.56602662 0.25618996]\n",
      "36.09393564220284|[0.31735933 0.25947137 0.42173214 0.56602662 0.25618996] -> [0.31747272 0.25950651 0.42183212 0.56621211 0.25621942]\n",
      "36.09393564220284|[0.31747272 0.25950651 0.42183212 0.56621211 0.25621942] -> [0.31747276 0.25950652 0.42183215 0.56621218 0.25621943]\n",
      " 024:  variational_lb: -102.759,  error:  2.606\n",
      "35.46372911691653|[0.31747276 0.25950652 0.42183215 0.56621218 0.25621943] -> [0.27978996 0.23544267 0.36665181 0.48751822 0.2340107 ]\n",
      "35.46372911691653|[0.27978996 0.23544267 0.36665181 0.48751822 0.2340107 ] -> [0.28403467 0.23777171 0.37325473 0.49721571 0.23608355]\n",
      "35.46372911691653|[0.28403467 0.23777171 0.37325473 0.49721571 0.23608355] -> [0.28410811 0.23780286 0.37338416 0.49741822 0.23611011]\n",
      "35.46372911691653|[0.28410811 0.23780286 0.37338416 0.49741822 0.23611011] -> [0.28410813 0.23780287 0.37338421 0.49741831 0.23611011]\n",
      " 025:  variational_lb: -105.311,  error:  2.552\n",
      "34.886470908212466|[0.28410813 0.23780287 0.37338421 0.49741831 0.23611011] -> [0.25332231 0.21603814 0.31676111 0.42421633 0.21575786]\n",
      "34.886470908212466|[0.25332231 0.21603814 0.31676111 0.42421633 0.21575786] -> [0.2566538  0.21815727 0.32427567 0.43371794 0.21767915]\n",
      "34.886470908212466|[0.2566538  0.21815727 0.32427567 0.43371794 0.21767915] -> [0.25671038 0.21818825 0.32446532 0.43394687 0.21770654]\n",
      "34.886470908212466|[0.25671038 0.21818825 0.32446532 0.43394687 0.21770654] -> [0.2567104  0.21818827 0.32446543 0.433947   0.21770655]\n",
      " 026:  variational_lb: -107.839,  error:  2.527\n",
      "34.353052959274216|[0.2567104  0.21818827 0.32446543 0.433947   0.21770655] -> [0.23029073 0.19828487 0.26848653 0.3657716  0.19878592]\n",
      "34.353052959274216|[0.23029073 0.19828487 0.26848653 0.3657716  0.19878592] -> [0.23312057 0.20025521 0.27666727 0.37515643 0.20061539]\n",
      "34.353052959274216|[0.23312057 0.20025521 0.27666727 0.37515643 0.20061539] -> [0.23317285 0.20028835 0.2769323  0.37542292 0.20064592]\n",
      "34.353052959274216|[0.23317285 0.20028835 0.2769323  0.37542292 0.20064592] -> [0.23317288 0.20028837 0.27693256 0.37542313 0.20064594]\n",
      " 027:  variational_lb: -110.366,  error:  2.528\n",
      "33.859388638621425|[0.23317288 0.20028837 0.27693256 0.37542313 0.20064594] -> [0.20970975 0.18206562 0.2264393  0.31176684 0.18302953]\n",
      "33.859388638621425|[0.20970975 0.18206562 0.2264393  0.31176684 0.18302953] -> [0.21221631 0.18388313 0.23415389 0.32104677 0.18475754]\n",
      "33.859388638621425|[0.21221631 0.18388313 0.23415389 0.32104677 0.18475754] -> [0.21226617 0.18391671 0.23443605 0.32135214 0.18478946]\n",
      "33.859388638621425|[0.21226617 0.18391671 0.23443605 0.32135214 0.18478946] -> [0.21226621 0.18391673 0.2344364  0.32135246 0.18478949]\n",
      " 028:  variational_lb: -112.917,  error:  2.550\n",
      "33.410283896423444|[0.21226621 0.18391673 0.2344364  0.32135246 0.18478949] -> [0.19117203 0.16736225 0.19397629 0.26179329 0.16854575]\n",
      "33.410283896423444|[0.19117203 0.16736225 0.19397629 0.26179329 0.16854575] -> [0.19339959 0.16899499 0.19995509 0.27099605 0.17013048]\n",
      "33.410283896423444|[0.19339959 0.16899499 0.19995509 0.27099605 0.17013048] -> [0.19344441 0.16902569 0.20015783 0.2713453  0.17016036]\n",
      "33.410283896423444|[0.19344441 0.16902569 0.20015783 0.2713453  0.17016036] -> [0.19344445 0.16902572 0.20015806 0.27134577 0.17016038]\n",
      " 029:  variational_lb: -115.503,  error:  2.587\n",
      "33.01240315738442|[0.19344445 0.16902572 0.20015806 0.27134577 0.17016038] -> [0.17444852 0.15408428 0.16990523 0.21600289 0.15532266]\n",
      "33.01240315738442|[0.17444852 0.15408428 0.16990523 0.21600289 0.15532266] -> [0.17643053 0.15553529 0.17400251 0.225121   0.15675523]\n",
      "33.01240315738442|[0.17643053 0.15553529 0.17400251 0.225121   0.15675523] -> [0.17647261 0.15556443 0.1741198  0.22553346 0.15678417]\n",
      "33.01240315738442|[0.17647261 0.15556443 0.1741198  0.22553346 0.15678417] -> [0.17647266 0.15556447 0.17411992 0.22553424 0.15678421]\n",
      " 030:  variational_lb: -118.127,  error:  2.623\n",
      "32.665426488977005|[0.17647266 0.15556447 0.17411992 0.22553424 0.15678421] -> [0.15961696 0.14227938 0.15171909 0.17808134 0.14347848]\n",
      "32.665426488977005|[0.15961696 0.14227938 0.15171909 0.17808134 0.14347848] -> [0.16132219 0.14352497 0.15442776 0.18606216 0.14472339]\n",
      "32.665426488977005|[0.16132219 0.14352497 0.15442776 0.18606216 0.14472339] -> [0.16135836 0.14355029 0.15449242 0.18644565 0.14474884]\n",
      "32.665426488977005|[0.16135836 0.14355029 0.15449242 0.18644565 0.14474884] -> [0.16135841 0.14355033 0.15449249 0.18644647 0.14474888]\n",
      " 031:  variational_lb: -120.788,  error:  2.662\n",
      "32.37178975009041|[0.16135841 0.14355033 0.15449249 0.18644647 0.14474888] -> [0.14698596 0.13215946 0.13786385 0.15223113 0.13328242]\n",
      "32.37178975009041|[0.14698596 0.13215946 0.13786385 0.15223113 0.13328242] -> [0.14830876 0.13312523 0.13958914 0.15742309 0.13425459]\n",
      "32.37178975009041|[0.14830876 0.13312523 0.13958914 0.15742309 0.13425459] -> [0.14832909 0.13313918 0.13961816 0.15761057 0.13426868]\n",
      "32.37178975009041|[0.14832909 0.13313918 0.13961816 0.15761057 0.13426868] -> [0.1483291  0.13313919 0.13961817 0.1576108  0.13426869]\n",
      " 032:  variational_lb: -123.492,  error:  2.704\n",
      "32.13889787560744|[0.1483291  0.13313919 0.13961817 0.1576108  0.13426869] -> [0.13649101 0.12366827 0.12716867 0.13529094 0.12471141]\n",
      "32.13889787560744|[0.13649101 0.12366827 0.12716867 0.13529094 0.12471141] -> [0.13743945 0.12436341 0.12824553 0.13804193 0.12541369]\n",
      "32.13889787560744|[0.13743945 0.12436341 0.12824553 0.13804193 0.12541369] -> [0.13744839 0.12436929 0.12825669 0.13810016 0.12541965]\n",
      "32.13889787560744|[0.13744839 0.12436929 0.12825669 0.13810016 0.12541965] -> [0.13744839 0.12436929 0.12825669 0.13810019 0.12541965]\n",
      " 033:  variational_lb: -126.225,  error:  2.733\n",
      "31.960782618372146|[0.13744839 0.12436929 0.12825669 0.13810019 0.12541965] -> [0.12785565 0.11660289 0.11878564 0.12334814 0.11757548]\n",
      "31.960782618372146|[0.12785565 0.11660289 0.11878564 0.12334814 0.11757548] -> [0.12851761 0.11709294 0.11946667 0.12477744 0.11807125]\n",
      "31.960782618372146|[0.12851761 0.11709294 0.11946667 0.12477744 0.11807125] -> [0.12852164 0.11709551 0.1194711  0.12479449 0.11807386]\n",
      "31.960782618372146|[0.12852164 0.11709551 0.1194711  0.12479449 0.11807386] -> [0.12852164 0.11709552 0.1194711  0.12479449 0.11807386]\n",
      " 034:  variational_lb: -128.973,  error:  2.748\n",
      "31.823869825183444|[0.12852164 0.11709552 0.1194711  0.12479449 0.11807386] -> [0.12078595 0.11075341 0.11214024 0.11459585 0.11166808]\n",
      "31.823869825183444|[0.12078595 0.11075341 0.11214024 0.11459585 0.11166808] -> [0.12124424 0.1110974  0.11258049 0.11537438 0.11201611]\n",
      "31.823869825183444|[0.12124424 0.1110974  0.11258049 0.11537438 0.11201611] -> [0.12124615 0.11109862 0.11258237 0.11537979 0.11201734]\n",
      "31.823869825183444|[0.12124615 0.11109862 0.11258237 0.11537979 0.11201734] -> [0.12124615 0.11109862 0.11258237 0.11537979 0.11201734]\n",
      " 035:  variational_lb: -131.729,  error:  2.756\n",
      "31.716972787706837|[0.12124615 0.11109862 0.11258237 0.11537979 0.11201734] -> [0.11499883 0.10591526 0.10681643 0.10801285 0.10678435]\n",
      "31.716972787706837|[0.11499883 0.10591526 0.10681643 0.10801285 0.10678435] -> [0.11531591 0.10615682 0.10710709 0.10846152 0.10702856]\n",
      "31.716972787706837|[0.11531591 0.10615682 0.10710709 0.10846152 0.10702856] -> [0.11531684 0.10615742 0.10710792 0.10846342 0.10702917]\n",
      "31.716972787706837|[0.11531684 0.10615742 0.10710792 0.10846342 0.10702917] -> [0.11531684 0.10615742 0.10710792 0.10846342 0.10702917]\n",
      " 036:  variational_lb: -134.490,  error:  2.761\n",
      "31.632224312806315|[0.11531684 0.10615742 0.10710792 0.10846342 0.10702917] -> [0.11024813 0.10190682 0.10250869 0.10294558 0.10274121]\n",
      "31.632224312806315|[0.11024813 0.10190682 0.10250869 0.10294558 0.10274121] -> [0.11046824 0.10207691 0.10270414 0.10321744 0.10291292]\n",
      "31.632224312806315|[0.11046824 0.10207691 0.10270414 0.10321744 0.10291292] -> [0.1104687  0.10207722 0.10270453 0.10321817 0.10291322]\n",
      " 037:  variational_lb: -137.255,  error:  2.765\n",
      "31.56414549652878|[0.1104687  0.10207722 0.10270453 0.10321817 0.10291322] -> [0.10633178 0.09857582 0.09899155 0.09896498 0.09938472]\n",
      "31.56414549652878|[0.10633178 0.09857582 0.09899155 0.09896498 0.09938472] -> [0.10648539 0.09869607 0.09912505 0.09913664 0.09950587]\n",
      "31.56414549652878|[0.10648539 0.09869607 0.09912505 0.09913664 0.09950587] -> [0.10648562 0.09869622 0.09912524 0.09913694 0.09950602]\n",
      " 038:  variational_lb: -140.022,  error:  2.767\n",
      "31.508850147563578|[0.10648562 0.09869622 0.09912524 0.09913694 0.09950602] -> [0.10308809 0.09579797 0.09609709 0.09578374 0.09658907]\n",
      "31.508850147563578|[0.10308809 0.09579797 0.09609709 0.09578374 0.09658907] -> [0.10319596 0.09588337 0.0961895  0.09589579 0.09667491]\n",
      "31.508850147563578|[0.10319596 0.09588337 0.0961895  0.09589579 0.09667491] -> [0.10319608 0.09588345 0.09618959 0.09589592 0.09667499]\n",
      " 039:  variational_lb: -142.790,  error:  2.769\n",
      "31.463520080282805|[0.10319608 0.09588345 0.09618959 0.09589592 0.09667499] -> [0.10038894 0.09347295 0.09369868 0.09320472 0.09425268]\n",
      "31.463520080282805|[0.10038894 0.09347295 0.09369868 0.09320472 0.09425268] -> [0.10046519 0.0935339  0.09376335 0.09327982 0.09431375]\n",
      "31.463520080282805|[0.10046519 0.0935339  0.09376335 0.09327982 0.09431375] -> [0.10046525 0.09353394 0.0937634  0.09327989 0.09431379]\n",
      " 040:  variational_lb: -145.560,  error:  2.770\n",
      "31.42606878374934|[0.10046525 0.09353394 0.0937634  0.09327989 0.09431379] -> [0.09813296 0.09152001 0.09169955 0.0910891  0.09229376]\n",
      "31.42606878374934|[0.09813296 0.09152001 0.09169955 0.0910891  0.09229376] -> [0.09818719 0.09156372 0.09174524 0.09114052 0.09233741]\n",
      "31.42606878374934|[0.09818719 0.09156372 0.09174524 0.09114052 0.09233741] -> [0.09818722 0.09156374 0.09174526 0.09114055 0.09233743]\n",
      " 041:  variational_lb: -148.330,  error:  2.770\n",
      "31.394922614603395|[0.09818722 0.09156374 0.09174526 0.09114055 0.09233743] -> [0.0962397  0.08987415 0.09002479 0.08933658 0.09064648]\n",
      "31.394922614603395|[0.0962397  0.08987415 0.09002479 0.08933658 0.09064648] -> [0.0962785  0.08990564 0.09005733 0.08937241 0.09067779]\n",
      "31.394922614603395|[0.0962785  0.08990564 0.09005733 0.08937241 0.09067779] -> [0.09627851 0.08990565 0.09005734 0.08937242 0.0906778 ]\n",
      " 042:  variational_lb: -151.101,  error:  2.771\n",
      "31.36887515271285|[0.09627851 0.08990565 0.09005734 0.08937242 0.0906778 ] -> [0.09464498 0.08848279 0.08861571 0.08787301 0.08925762]\n",
      "31.36887515271285|[0.09464498 0.08848279 0.08861571 0.08787301 0.08925762] -> [0.09467288 0.08850558 0.08863904 0.08789833 0.08928015]\n",
      "31.36887515271285|[0.09467288 0.08850558 0.08863904 0.08789833 0.08928015] -> [0.09467289 0.08850558 0.08863904 0.08789833 0.08928016]\n",
      " 043:  variational_lb: -153.873,  error:  2.771\n",
      "31.346988025226732|[0.09467289 0.08850558 0.08863904 0.08789833 0.08928016] -> [0.0932973  0.0873033  0.08742578 0.08664236 0.08808399]\n",
      "31.346988025226732|[0.0932973  0.0873033  0.08742578 0.08664236 0.08808399] -> [0.09331746 0.08731985 0.0874426  0.08666047 0.08810025]\n",
      "31.346988025226732|[0.09331746 0.08731985 0.0874426  0.08666047 0.08810025] -> [0.09331747 0.08731985 0.0874426  0.08666047 0.08810026]\n",
      " 044:  variational_lb: -156.644,  error:  2.772\n",
      "31.328521942744896|[0.09331747 0.08731985 0.0874426  0.08666047 0.08810026] -> [0.09215506 0.08630085 0.08641775 0.0856015  0.08709037]\n",
      "31.328521942744896|[0.09215506 0.08630085 0.08641775 0.0856015  0.08709037] -> [0.09216969 0.08631292 0.08642993 0.08561459 0.08710214]\n",
      "31.328521942744896|[0.09216969 0.08631292 0.08642993 0.08561459 0.08710214] -> [0.09216969 0.08631292 0.08642994 0.08561459 0.08710214]\n",
      " 045:  variational_lb: -159.416,  error:  2.772\n",
      "31.312887820746305|[0.09216969 0.08631292 0.08642994 0.08561459 0.08710214] -> [0.09118443 0.08544691 0.08556151 0.08471668 0.08624789]\n",
      "31.312887820746305|[0.09118443 0.08544691 0.08556151 0.08471668 0.08624789] -> [0.09119509 0.08545574 0.08557037 0.08472622 0.08625642]\n",
      "31.312887820746305|[0.09119509 0.08545574 0.08557037 0.08472622 0.08625642] -> [0.09119509 0.08545574 0.08557038 0.08472622 0.08625642]\n",
      " 046:  variational_lb: -162.188,  error:  2.772\n",
      "31.2996115284838|[0.09119509 0.08545574 0.08557038 0.08472622 0.08625642] -> [0.09035774 0.08471796 0.08483254 0.08396109 0.08553275]\n",
      "31.2996115284838|[0.09035774 0.08471796 0.08483254 0.08396109 0.08553275] -> [0.09036553 0.08472444 0.08483901 0.08396809 0.08553894]\n",
      "31.2996115284838|[0.09036553 0.08472444 0.08483901 0.08396809 0.08553894] -> [0.09036553 0.08472444 0.08483901 0.0839681  0.08553894]\n",
      " 047:  variational_lb: -164.961,  error:  2.772\n",
      "31.288308056819517|[0.09036553 0.08472444 0.08483901 0.0839681  0.08553894] -> [0.08965222 0.08409453 0.0842107  0.08331318 0.08492525]\n",
      "31.288308056819517|[0.08965222 0.08409453 0.0842107  0.08331318 0.08492525] -> [0.08965793 0.08409929 0.08421544 0.08331836 0.08492975]\n",
      "31.288308056819517|[0.08965793 0.08409929 0.08421544 0.08331836 0.08492975] -> [0.08965793 0.08409929 0.08421544 0.08331836 0.08492975]\n",
      " 048:  variational_lb: -167.733,  error:  2.772\n",
      "31.278662307580678|[0.08965793 0.08409929 0.08421544 0.08331836 0.08492975] -> [0.08904902 0.08356039 0.08367938 0.08275542 0.08440901]\n",
      "31.278662307580678|[0.08904902 0.08356039 0.08367938 0.08275542 0.08440901] -> [0.08905322 0.08356391 0.08368285 0.08275928 0.08441228]\n",
      "31.278662307580678|[0.08905322 0.08356391 0.08368285 0.08275928 0.08441228] -> [0.08905322 0.08356391 0.08368285 0.08275928 0.08441228]\n",
      " 049:  variational_lb: -170.505,  error:  2.772\n",
      "31.270414611247674|[0.08905322 0.08356391 0.08368285 0.08275928 0.08441228] -> [0.08853248 0.08310201 0.08322474 0.08227346 0.08397034]\n",
      "31.270414611247674|[0.08853248 0.08310201 0.08322474 0.08227346 0.08397034] -> [0.08853557 0.08310461 0.0832273  0.08227635 0.08397271]\n",
      "31.270414611247674|[0.08853557 0.08310461 0.0832273  0.08227635 0.08397271] -> [0.08853557 0.08310461 0.0832273  0.08227635 0.08397271]\n",
      " 050:  variational_lb: -173.277,  error:  2.772\n",
      "31.263349670469|[0.08853557 0.08310461 0.0832273  0.08227635 0.08397271] -> [0.0880895  0.08270804 0.08283528 0.08185542 0.08359777]\n",
      "31.263349670469|[0.0880895  0.08270804 0.08283528 0.08185542 0.08359777] -> [0.08809178 0.08270997 0.08283716 0.08185761 0.08359948]\n",
      "31.263349670469|[0.08809178 0.08270997 0.08283716 0.08185761 0.08359948] -> [0.08809178 0.08270997 0.08283716 0.08185761 0.08359948]\n",
      " 051:  variational_lb: -176.050,  error:  2.772\n",
      "31.257288019574624|[0.08809178 0.08270997 0.08283716 0.08185761 0.08359948] -> [0.0877091  0.08236891 0.0825013  0.08149142 0.08328162]\n",
      "31.257288019574624|[0.0877091  0.08236891 0.0825013  0.08149142 0.08328162] -> [0.0877108  0.08237034 0.08250269 0.08149309 0.08328287]\n",
      "31.257288019574624|[0.0877108  0.08237034 0.08250269 0.08149309 0.08328287] -> [0.0877108  0.08237034 0.08250269 0.08149309 0.08328287]\n",
      " 052:  variational_lb: -178.822,  error:  2.772\n",
      "31.25207935552853|[0.0877108  0.08237034 0.08250269 0.08149309 0.08328287] -> [0.08738205 0.08207655 0.08221467 0.0811732  0.08301376]\n",
      "31.25207935552853|[0.08738205 0.08207655 0.08221467 0.0811732  0.08301376] -> [0.08738331 0.08207762 0.0822157  0.08117447 0.08301466]\n",
      "31.25207935552853|[0.08738331 0.08207762 0.0822157  0.08117447 0.08301466] -> [0.08738331 0.08207762 0.0822157  0.08117447 0.08301466]\n",
      " 053:  variational_lb: -181.594,  error:  2.772\n",
      "31.24759727763159|[0.08738331 0.08207762 0.0822157  0.08117447 0.08301466] -> [0.08710054 0.08182413 0.08196852 0.08089378 0.08278727]\n",
      "31.24759727763159|[0.08710054 0.08182413 0.08196852 0.08089378 0.08278727] -> [0.08710147 0.08182493 0.08196928 0.08089477 0.08278791]\n",
      " 054:  variational_lb: -184.367,  error:  2.772\n",
      "31.243735099573126|[0.08710147 0.08182493 0.08196928 0.08089477 0.08278791] -> [0.08685795 0.08160584 0.08175701 0.08064731 0.08259629]\n",
      "31.243735099573126|[0.08685795 0.08160584 0.08175701 0.08064731 0.08259629] -> [0.08685865 0.08160644 0.08175758 0.08064808 0.08259675]\n",
      " 055:  variational_lb: -187.139,  error:  2.772\n",
      "31.240402487280356|[0.08685865 0.08160644 0.08175758 0.08064808 0.08259675] -> [0.08664867 0.08141674 0.0815752  0.08042881 0.08243584]\n",
      "31.240402487280356|[0.08664867 0.08141674 0.0815752  0.08042881 0.08243584] -> [0.08664919 0.08141719 0.08157562 0.08042941 0.08243617]\n",
      " 056:  variational_lb: -189.911,  error:  2.772\n",
      "31.237522737086763|[0.08664919 0.08141719 0.08157562 0.08042941 0.08243617] -> [0.08646792 0.08125262 0.08141887 0.08023403 0.08230166]\n",
      "31.237522737086763|[0.08646792 0.08125262 0.08141887 0.08023403 0.08230166] -> [0.08646831 0.08125296 0.08141918 0.08023452 0.08230189]\n",
      " 057:  variational_lb: -192.684,  error:  2.772\n",
      "31.235030557924187|[0.08646831 0.08125296 0.08141918 0.08023452 0.08230189] -> [0.08631162 0.08110987 0.08128444 0.08005938 0.08219011]\n",
      "31.235030557924187|[0.08631162 0.08110987 0.08128444 0.08005938 0.08219011] -> [0.08631191 0.08111013 0.08128467 0.08005977 0.08219027]\n",
      " 058:  variational_lb: -195.456,  error:  2.772\n",
      "31.23287025158513|[0.08631191 0.08111013 0.08128467 0.08005977 0.08219027] -> [0.08617629 0.08098542 0.08116882 0.07990177 0.08209808]\n",
      "31.23287025158513|[0.08617629 0.08098542 0.08116882 0.07990177 0.08209808] -> [0.08617651 0.08098562 0.08116899 0.07990209 0.08209819]\n",
      " 059:  variational_lb: -198.228,  error:  2.772\n",
      "31.23099421094879|[0.08617651 0.08098562 0.08116899 0.07990209 0.08209819] -> [0.08605895 0.08087662 0.0810694  0.07975856 0.08202291]\n",
      "31.23099421094879|[0.08605895 0.08087662 0.0810694  0.07975856 0.08202291] -> [0.08605912 0.08087677 0.08106953 0.07975882 0.08202298]\n",
      " 060:  variational_lb: -201.001,  error:  2.772\n",
      "31.22936167399921|[0.08605912 0.08087677 0.08106953 0.07975882 0.08202298] -> [0.08595704 0.0807812  0.08098393 0.07962749 0.0819623 ]\n",
      "31.22936167399921|[0.08595704 0.0807812  0.08098393 0.07962749 0.0819623 ] -> [0.08595717 0.08078132 0.08098402 0.07962771 0.08196235]\n",
      " 061:  variational_lb: -203.773,  error:  2.772\n",
      "31.22793768511653|[0.08595717 0.08078132 0.08098402 0.07962771 0.08196235] -> [0.08586837 0.08069721 0.08091047 0.07950661 0.08191428]\n",
      "31.22793768511653|[0.08586837 0.08069721 0.08091047 0.07950661 0.08191428] -> [0.08586846 0.0806973  0.08091054 0.07950679 0.08191431]\n",
      " 062:  variational_lb: -206.545,  error:  2.772\n",
      "31.226692225454972|[0.08586846 0.0806973  0.08091054 0.07950679 0.08191431] -> [0.08579105 0.08062297 0.08084737 0.07939424 0.08187715]\n",
      "31.226692225454972|[0.08579105 0.08062297 0.08084737 0.07939424 0.08187715] -> [0.08579112 0.08062304 0.08084742 0.0793944  0.08187717]\n",
      " 063:  variational_lb: -209.318,  error:  2.772\n",
      "31.225599482110283|[0.08579112 0.08062304 0.08084742 0.0793944  0.08187717] -> [0.08572346 0.08055702 0.08079321 0.07928896 0.08184945]\n",
      "31.225599482110283|[0.08572346 0.08055702 0.08079321 0.07928896 0.08184945] -> [0.08572351 0.08055708 0.08079325 0.0792891  0.08184947]\n",
      " 064:  variational_lb: -212.090,  error:  2.772\n",
      "31.224637231853574|[0.08572351 0.08055708 0.08079325 0.0792891  0.08184947] -> [0.0856642  0.08049812 0.08074676 0.07918951 0.08182992]\n",
      "31.224637231853574|[0.0856642  0.08049812 0.08074676 0.07918951 0.08182992] -> [0.08566425 0.08049817 0.08074679 0.07918964 0.08182993]\n",
      " 065:  variational_lb: -214.862,  error:  2.772\n",
      "31.223786319923743|[0.08566425 0.08049817 0.08074679 0.07918964 0.08182993] -> [0.08561208 0.08044518 0.08070697 0.07909483 0.08181746]\n",
      "31.223786319923743|[0.08561208 0.08044518 0.08070697 0.07909483 0.08181746] -> [0.08561211 0.08044522 0.080707   0.07909494 0.08181747]\n",
      " 066:  variational_lb: -217.634,  error:  2.772\n",
      "31.22303021806041|[0.08561211 0.08044522 0.080707   0.07909494 0.08181747] -> [0.08556605 0.08039726 0.08067295 0.07900398 0.08181112]\n",
      "31.22303021806041|[0.08556605 0.08039726 0.08067295 0.07900398 0.08181112] -> [0.08556607 0.08039729 0.08067297 0.07900409 0.08181113]\n",
      " 067:  variational_lb: -220.406,  error:  2.772\n",
      "31.22235464886791|[0.08556607 0.08039729 0.08067297 0.07900409 0.08181113] -> [0.08552521 0.08035355 0.0806439  0.07891617 0.08181008]\n",
      "31.22235464886791|[0.08552521 0.08035355 0.0806439  0.07891617 0.08181008] -> [0.08552523 0.08035358 0.08064392 0.07891627 0.08181009]\n",
      " 068:  variational_lb: -223.179,  error:  2.772\n",
      "31.22174726591158|[0.08552523 0.08035358 0.08064392 0.07891627 0.08181009] -> [0.08548879 0.08031334 0.08061917 0.07883071 0.08181363]\n",
      "31.22174726591158|[0.08548879 0.08031334 0.08061917 0.07883071 0.08181363] -> [0.08548881 0.08031336 0.08061918 0.0788308  0.08181363]\n",
      " 069:  variational_lb: -225.951,  error:  2.772\n",
      "31.221197380794585|[0.08548881 0.08031336 0.08061918 0.0788308  0.08181363] -> [0.08545613 0.08027601 0.08059817 0.07874699 0.08182113]\n",
      "31.221197380794585|[0.08545613 0.08027601 0.08059817 0.07874699 0.08182113] -> [0.08545615 0.08027603 0.08059818 0.07874708 0.08182113]\n",
      " 070:  variational_lb: -228.723,  error:  2.772\n",
      "31.22069572995165|[0.08545615 0.08027603 0.08059818 0.07874708 0.08182113] -> [0.08542663 0.08024103 0.08058042 0.0786645  0.08183205]\n",
      "31.22069572995165|[0.08542663 0.08024103 0.08058042 0.0786645  0.08183205] -> [0.08542665 0.08024105 0.08058042 0.07866458 0.08183205]\n",
      " 071:  variational_lb: -231.495,  error:  2.772\n",
      "31.22023427509988|[0.08542665 0.08024105 0.08058042 0.07866458 0.08183205] -> [0.08539981 0.08020792 0.08056548 0.07858278 0.0818459 ]\n",
      "31.22023427509988|[0.08539981 0.08020792 0.08056548 0.07858278 0.0818459 ] -> [0.08539982 0.08020794 0.08056548 0.07858287 0.08184591]\n",
      " 072:  variational_lb: -234.267,  error:  2.772\n",
      "31.219806032269005|[0.08539982 0.08020794 0.08056548 0.07858287 0.08184591] -> [0.08537521 0.08017627 0.08055298 0.07850144 0.08186227]\n",
      "31.219806032269005|[0.08537521 0.08017627 0.08055298 0.07850144 0.08186227] -> [0.08537522 0.08017629 0.08055299 0.07850153 0.08186228]\n",
      " 073:  variational_lb: -237.039,  error:  2.772\n",
      "31.21940492513659|[0.08537522 0.08017629 0.08055299 0.07850153 0.08186228] -> [0.08535246 0.08014572 0.08054263 0.07842016 0.0818808 ]\n",
      "31.21940492513659|[0.08535246 0.08014572 0.08054263 0.07842016 0.0818808 ] -> [0.08535247 0.08014574 0.08054263 0.07842025 0.0818808 ]\n",
      " 074:  variational_lb: -239.811,  error:  2.772\n",
      "31.21902565905568|[0.08535247 0.08014574 0.08054263 0.07842025 0.0818808 ] -> [0.08533123 0.08011594 0.08053414 0.07833863 0.08190115]\n",
      "31.21902565905568|[0.08533123 0.08011594 0.08053414 0.07833863 0.08190115] -> [0.08533124 0.08011595 0.08053414 0.07833872 0.08190115]\n",
      " 075:  variational_lb: -242.583,  error:  2.772\n",
      "31.218663612708887|[0.08533124 0.08011595 0.08053414 0.07833872 0.08190115] -> [0.08531123 0.08008665 0.08052728 0.07825659 0.08192303]\n",
      "31.218663612708887|[0.08531123 0.08008665 0.08052728 0.07825659 0.08192303] -> [0.08531124 0.08008666 0.08052729 0.07825668 0.08192304]\n",
      "NaN detected: lb\n",
      " ========== TRAINING FINISHED ==========\n",
      "CPU times: user 144 ms, sys: 6.69 ms, total: 151 ms\n",
      "Wall time: 148 ms\n"
     ]
    },
    {
     "name": "stderr",
     "output_type": "stream",
     "text": [
      "/var/folders/6t/cwpxfjt13rd3m9sgky7446mm0000gn/T/ipykernel_10966/181332077.py:167: RuntimeWarning: divide by zero encountered in log\n",
      "  lb += np.sum([phi[d][n, i] * np.log(beta[i, w_n]) for i in range(k)])\n",
      "/var/folders/6t/cwpxfjt13rd3m9sgky7446mm0000gn/T/ipykernel_10966/181332077.py:167: RuntimeWarning: invalid value encountered in scalar multiply\n",
      "  lb += np.sum([phi[d][n, i] * np.log(beta[i, w_n]) for i in range(k)])\n",
      "/var/folders/6t/cwpxfjt13rd3m9sgky7446mm0000gn/T/ipykernel_10966/181332077.py:168: RuntimeWarning: divide by zero encountered in log\n",
      "  lb -= np.sum([phi[d][n, i] * np.log(phi[d][n, i]) for i in range(k)])\n",
      "/var/folders/6t/cwpxfjt13rd3m9sgky7446mm0000gn/T/ipykernel_10966/181332077.py:168: RuntimeWarning: invalid value encountered in scalar multiply\n",
      "  lb -= np.sum([phi[d][n, i] * np.log(phi[d][n, i]) for i in range(k)])\n"
     ]
    }
   ],
   "source": [
    "%%time\n",
    "N_EPOCH = 1000\n",
    "TOL = 0.1\n",
    "\n",
    "verbose = True\n",
    "lb = -np.inf\n",
    "\n",
    "for epoch in range(N_EPOCH): \n",
    "    # store old value\n",
    "    lb_old = lb \n",
    "    \n",
    "    # Variational EM\n",
    "    phi, gamma = E_step(docs, phi, gamma, alpha, beta)\n",
    "    alpha, beta = M_step(docs, phi, gamma, alpha, beta, M)\n",
    "    \n",
    "    # check anomaly\n",
    "    if np.any(np.isnan(alpha)):\n",
    "        print(\"NaN detected: alpha\")\n",
    "        break\n",
    "    \n",
    "    # check convergence\n",
    "    lb = vlb(docs, phi, gamma, alpha, beta, M, N, k)\n",
    "    err = abs(lb - lb_old)\n",
    "    \n",
    "    # check anomaly\n",
    "    if np.isnan(lb):\n",
    "        print(\"NaN detected: lb\")\n",
    "        break\n",
    "        \n",
    "    if verbose:\n",
    "        print(f\"{epoch: 04}:  variational_lb: {lb: .3f},  error: {err: .3f}\")\n",
    "    \n",
    "    if err < TOL:\n",
    "        break\n",
    "else:\n",
    "    warnings.warn(f\"max_iter reached: values might not be optimal.\")\n",
    "\n",
    "print(\" ========== TRAINING FINISHED ==========\")"
   ]
  },
  {
   "cell_type": "code",
   "execution_count": 28,
   "metadata": {},
   "outputs": [
    {
     "data": {
      "text/plain": [
       "array([0.08531124, 0.08008666, 0.08052729, 0.07825668, 0.08192304])"
      ]
     },
     "execution_count": 28,
     "metadata": {},
     "output_type": "execute_result"
    }
   ],
   "source": [
    "alpha "
   ]
  },
  {
   "cell_type": "code",
   "execution_count": 29,
   "metadata": {},
   "outputs": [
    {
     "data": {
      "text/plain": [
       "array([[2.50000158e-001, 3.73312601e-266, 7.32838132e-267,\n",
       "        2.50000158e-001, 1.13237083e-266, 1.19013162e-266,\n",
       "        5.75243540e-249, 6.34074407e-249, 2.13708622e-266,\n",
       "        2.08630140e-272, 1.49136563e-272, 2.99707612e-272,\n",
       "        1.01805620e-272, 2.27339414e-272, 1.93547137e-272,\n",
       "        4.31694042e-273, 1.60010657e-272, 2.49999842e-001,\n",
       "        2.49999842e-001, 1.77042842e-049, 3.53886271e-050,\n",
       "        1.27319332e-050, 5.62869190e-049, 6.38003752e-049,\n",
       "        3.12758634e-049],\n",
       "       [4.14461028e-294, 1.02895608e-303, 1.69561163e-302,\n",
       "        1.87534635e-293, 3.48489090e-303, 1.07439616e-302,\n",
       "        5.30010883e-005, 8.09463677e-002, 8.90698206e-303,\n",
       "        7.72087741e-002, 1.19557825e-001, 2.05310310e-001,\n",
       "        5.69195132e-002, 2.46025178e-002, 1.41723529e-001,\n",
       "        9.32491789e-002, 2.00428983e-001, 0.00000000e+000,\n",
       "        0.00000000e+000, 7.05318388e-056, 2.56337538e-057,\n",
       "        6.03484255e-057, 1.28042161e-057, 1.08873290e-056,\n",
       "        1.36151144e-056],\n",
       "       [1.85912614e-275, 5.11240386e-286, 1.87820385e-286,\n",
       "        9.15608513e-275, 6.06261532e-286, 6.90936407e-287,\n",
       "        1.93212362e-001, 1.17769758e-001, 3.73068200e-285,\n",
       "        1.21255505e-001, 8.17600222e-002, 1.78571971e-003,\n",
       "        1.40177633e-001, 1.70317041e-001, 6.10878902e-002,\n",
       "        1.06295936e-001, 6.33813277e-003, 5.51067895e-306,\n",
       "        2.88483954e-305, 1.16995069e-054, 5.74406472e-055,\n",
       "        2.36409954e-055, 3.86357840e-056, 2.19153393e-055,\n",
       "        2.31406283e-055],\n",
       "       [2.74330421e-001, 1.05747587e-002, 3.34078130e-002,\n",
       "        2.73557662e-001, 3.54948271e-003, 2.04340515e-002,\n",
       "        2.38302200e-001, 1.00217628e-001, 4.56259835e-002,\n",
       "        2.66252741e-280, 1.30258786e-279, 8.58359551e-280,\n",
       "        1.01913594e-281, 7.56128705e-281, 7.12930068e-282,\n",
       "        3.47856243e-280, 1.48368512e-280, 1.53214695e-290,\n",
       "        9.69041354e-289, 4.10805276e-052, 7.56859570e-052,\n",
       "        2.01828820e-051, 3.72217923e-052, 1.14763881e-052,\n",
       "        4.90177927e-052],\n",
       "       [2.81283601e-004, 1.51152077e-001, 1.38091366e-001,\n",
       "        7.23308477e-004, 3.12371530e-001, 1.45512473e-001,\n",
       "        2.08899442e-002, 9.98755548e-002, 1.31102463e-001,\n",
       "        4.92820828e-301, 3.05017867e-300, 4.50517310e-301,\n",
       "        3.53020771e-302, 1.31058786e-301, 9.51341851e-302,\n",
       "        4.48125895e-301, 5.92849890e-301, 0.00000000e+000,\n",
       "        0.00000000e+000, 2.20570111e-059, 1.02540706e-059,\n",
       "        5.21263535e-060, 1.68164367e-059, 1.16888789e-058,\n",
       "        1.59376736e-059]])"
      ]
     },
     "execution_count": 29,
     "metadata": {},
     "output_type": "execute_result"
    }
   ],
   "source": [
    "beta"
   ]
  },
  {
   "cell_type": "code",
   "execution_count": 30,
   "metadata": {},
   "outputs": [
    {
     "data": {
      "text/plain": [
       "array([[[1.47170412e-006, 1.45912181e-293, 7.01819230e-275,\n",
       "         9.98209203e-001, 1.78932491e-003],\n",
       "        [1.49325135e-265, 4.96540397e-303, 2.64532574e-285,\n",
       "         3.84785019e-002, 9.61521498e-001],\n",
       "        [2.93135438e-266, 8.18246460e-302, 9.71844389e-286,\n",
       "         1.21561412e-001, 8.78438588e-001],\n",
       "        [1.47149933e-006, 6.60196154e-293, 3.45628768e-274,\n",
       "         9.95397358e-001, 4.60117074e-003],\n",
       "        [2.26474309e-266, 8.40846923e-303, 1.56849819e-285,\n",
       "         6.45777278e-003, 9.93542227e-001],\n",
       "        [4.76052947e-266, 5.18468284e-302, 3.57513200e-286,\n",
       "         7.43536295e-002, 9.25646370e-001],\n",
       "        [1.16711753e-248, 1.44225496e-010, 5.58214553e-007,\n",
       "         8.67112614e-001, 1.32886828e-001],\n",
       "        [2.26474309e-266, 8.40846923e-303, 1.56849819e-285,\n",
       "         6.45777278e-003, 9.93542227e-001],\n",
       "        [1.26895427e-248, 2.14264323e-007, 3.30975060e-007,\n",
       "         3.64662886e-001, 6.35336569e-001],\n",
       "        [8.54835028e-266, 4.29821689e-302, 1.93037745e-284,\n",
       "         1.66019817e-001, 8.33980183e-001]],\n",
       "\n",
       "       [[8.34521086e-272, 3.72584176e-001, 6.27415824e-001,\n",
       "         9.68817059e-280, 3.13497394e-300],\n",
       "        [5.96546631e-272, 5.76946780e-001, 4.23053220e-001,\n",
       "         4.73974216e-279, 1.94030571e-299],\n",
       "        [1.19883120e-271, 9.90760099e-001, 9.23990052e-003,\n",
       "         3.12332325e-279, 2.86586919e-300],\n",
       "        [4.07222739e-272, 2.74674869e-001, 7.25325131e-001,\n",
       "         3.70834224e-281, 2.24566588e-301],\n",
       "        [9.09358229e-272, 1.18723667e-001, 8.81276333e-001,\n",
       "         2.75133464e-280, 8.33702341e-301],\n",
       "        [7.74189037e-272, 6.83911184e-001, 3.16088816e-001,\n",
       "         2.59414724e-281, 6.05175703e-301],\n",
       "        [1.13385808e-248, 2.55765693e-004, 9.99743691e-001,\n",
       "         4.74206478e-007, 6.91601240e-008],\n",
       "        [1.72677726e-272, 4.49989899e-001, 5.50010101e-001,\n",
       "         1.26574871e-279, 2.85065671e-300],\n",
       "        [6.40043031e-272, 9.67204418e-001, 3.27955816e-002,\n",
       "         5.39870294e-280, 3.77128735e-300],\n",
       "        [1.26734496e-248, 3.90620360e-001, 6.09379095e-001,\n",
       "         2.05016261e-007, 3.39924483e-007]],\n",
       "\n",
       "       [[1.00000000e+000, 0.00000000e+000, 2.85140636e-305,\n",
       "         5.57504160e-290, 0.00000000e+000],\n",
       "        [1.00000000e+000, 0.00000000e+000, 1.49271077e-304,\n",
       "         3.52606246e-288, 0.00000000e+000],\n",
       "        [1.00000000e+000, 1.21516410e-013, 2.29969222e-012,\n",
       "         4.04550964e-010, 6.54208924e-017],\n",
       "        [9.99999996e-001, 2.20941141e-014, 5.64853910e-012,\n",
       "         3.72878371e-009, 1.52153085e-016],\n",
       "        [9.99999791e-001, 5.40930932e-294, 2.60153721e-275,\n",
       "         2.08228141e-007, 3.55205850e-010],\n",
       "        [9.99999972e-001, 1.44577157e-013, 6.46177641e-012,\n",
       "         2.76378604e-008, 2.14986485e-016],\n",
       "        [1.00000000e+000, 6.93862818e-016, 2.38870646e-014,\n",
       "         1.15293655e-010, 1.56882563e-017],\n",
       "        [1.00000000e+000, 5.20506566e-015, 1.19537866e-013,\n",
       "         3.13615556e-011, 9.62050354e-017],\n",
       "        [1.00000000e+000, 1.32782269e-014, 2.57481700e-013,\n",
       "         2.73249920e-010, 2.67586253e-017],\n",
       "        [9.99999791e-001, 2.44784376e-293, 1.28137161e-274,\n",
       "         2.07670483e-007, 9.13523425e-010]]])"
      ]
     },
     "execution_count": 30,
     "metadata": {},
     "output_type": "execute_result"
    }
   ],
   "source": [
    "phi "
   ]
  },
  {
   "cell_type": "code",
   "execution_count": 31,
   "metadata": {},
   "outputs": [],
   "source": [
    "from sklearn.decomposition import LatentDirichletAllocation\n",
    "from sklearn.datasets import make_multilabel_classification"
   ]
  },
  {
   "cell_type": "code",
   "execution_count": 52,
   "metadata": {},
   "outputs": [
    {
     "data": {
      "text/plain": [
       "array([[ 0,  1,  2,  3,  4,  5,  6,  4,  7,  8],\n",
       "       [ 9, 10, 11, 12, 13, 14,  6, 15, 16,  7],\n",
       "       [17, 18, 19, 20,  0, 21, 22, 23, 24,  3]])"
      ]
     },
     "execution_count": 52,
     "metadata": {},
     "output_type": "execute_result"
    }
   ],
   "source": [
    "docs"
   ]
  },
  {
   "cell_type": "code",
   "execution_count": 56,
   "metadata": {},
   "outputs": [
    {
     "data": {
      "text/html": [
       "<style>#sk-container-id-3 {color: black;background-color: white;}#sk-container-id-3 pre{padding: 0;}#sk-container-id-3 div.sk-toggleable {background-color: white;}#sk-container-id-3 label.sk-toggleable__label {cursor: pointer;display: block;width: 100%;margin-bottom: 0;padding: 0.3em;box-sizing: border-box;text-align: center;}#sk-container-id-3 label.sk-toggleable__label-arrow:before {content: \"▸\";float: left;margin-right: 0.25em;color: #696969;}#sk-container-id-3 label.sk-toggleable__label-arrow:hover:before {color: black;}#sk-container-id-3 div.sk-estimator:hover label.sk-toggleable__label-arrow:before {color: black;}#sk-container-id-3 div.sk-toggleable__content {max-height: 0;max-width: 0;overflow: hidden;text-align: left;background-color: #f0f8ff;}#sk-container-id-3 div.sk-toggleable__content pre {margin: 0.2em;color: black;border-radius: 0.25em;background-color: #f0f8ff;}#sk-container-id-3 input.sk-toggleable__control:checked~div.sk-toggleable__content {max-height: 200px;max-width: 100%;overflow: auto;}#sk-container-id-3 input.sk-toggleable__control:checked~label.sk-toggleable__label-arrow:before {content: \"▾\";}#sk-container-id-3 div.sk-estimator input.sk-toggleable__control:checked~label.sk-toggleable__label {background-color: #d4ebff;}#sk-container-id-3 div.sk-label input.sk-toggleable__control:checked~label.sk-toggleable__label {background-color: #d4ebff;}#sk-container-id-3 input.sk-hidden--visually {border: 0;clip: rect(1px 1px 1px 1px);clip: rect(1px, 1px, 1px, 1px);height: 1px;margin: -1px;overflow: hidden;padding: 0;position: absolute;width: 1px;}#sk-container-id-3 div.sk-estimator {font-family: monospace;background-color: #f0f8ff;border: 1px dotted black;border-radius: 0.25em;box-sizing: border-box;margin-bottom: 0.5em;}#sk-container-id-3 div.sk-estimator:hover {background-color: #d4ebff;}#sk-container-id-3 div.sk-parallel-item::after {content: \"\";width: 100%;border-bottom: 1px solid gray;flex-grow: 1;}#sk-container-id-3 div.sk-label:hover label.sk-toggleable__label {background-color: #d4ebff;}#sk-container-id-3 div.sk-serial::before {content: \"\";position: absolute;border-left: 1px solid gray;box-sizing: border-box;top: 0;bottom: 0;left: 50%;z-index: 0;}#sk-container-id-3 div.sk-serial {display: flex;flex-direction: column;align-items: center;background-color: white;padding-right: 0.2em;padding-left: 0.2em;position: relative;}#sk-container-id-3 div.sk-item {position: relative;z-index: 1;}#sk-container-id-3 div.sk-parallel {display: flex;align-items: stretch;justify-content: center;background-color: white;position: relative;}#sk-container-id-3 div.sk-item::before, #sk-container-id-3 div.sk-parallel-item::before {content: \"\";position: absolute;border-left: 1px solid gray;box-sizing: border-box;top: 0;bottom: 0;left: 50%;z-index: -1;}#sk-container-id-3 div.sk-parallel-item {display: flex;flex-direction: column;z-index: 1;position: relative;background-color: white;}#sk-container-id-3 div.sk-parallel-item:first-child::after {align-self: flex-end;width: 50%;}#sk-container-id-3 div.sk-parallel-item:last-child::after {align-self: flex-start;width: 50%;}#sk-container-id-3 div.sk-parallel-item:only-child::after {width: 0;}#sk-container-id-3 div.sk-dashed-wrapped {border: 1px dashed gray;margin: 0 0.4em 0.5em 0.4em;box-sizing: border-box;padding-bottom: 0.4em;background-color: white;}#sk-container-id-3 div.sk-label label {font-family: monospace;font-weight: bold;display: inline-block;line-height: 1.2em;}#sk-container-id-3 div.sk-label-container {text-align: center;}#sk-container-id-3 div.sk-container {/* jupyter's `normalize.less` sets `[hidden] { display: none; }` but bootstrap.min.css set `[hidden] { display: none !important; }` so we also need the `!important` here to be able to override the default hidden behavior on the sphinx rendered scikit-learn.org. See: https://github.com/scikit-learn/scikit-learn/issues/21755 */display: inline-block !important;position: relative;}#sk-container-id-3 div.sk-text-repr-fallback {display: none;}</style><div id=\"sk-container-id-3\" class=\"sk-top-container\"><div class=\"sk-text-repr-fallback\"><pre>LatentDirichletAllocation(doc_topic_prior=1, n_components=5, random_state=0,\n",
       "                          topic_word_prior=1)</pre><b>In a Jupyter environment, please rerun this cell to show the HTML representation or trust the notebook. <br />On GitHub, the HTML representation is unable to render, please try loading this page with nbviewer.org.</b></div><div class=\"sk-container\" hidden><div class=\"sk-item\"><div class=\"sk-estimator sk-toggleable\"><input class=\"sk-toggleable__control sk-hidden--visually\" id=\"sk-estimator-id-3\" type=\"checkbox\" checked><label for=\"sk-estimator-id-3\" class=\"sk-toggleable__label sk-toggleable__label-arrow\">LatentDirichletAllocation</label><div class=\"sk-toggleable__content\"><pre>LatentDirichletAllocation(doc_topic_prior=1, n_components=5, random_state=0,\n",
       "                          topic_word_prior=1)</pre></div></div></div></div></div>"
      ],
      "text/plain": [
       "LatentDirichletAllocation(doc_topic_prior=1, n_components=5, random_state=0,\n",
       "                          topic_word_prior=1)"
      ]
     },
     "execution_count": 56,
     "metadata": {},
     "output_type": "execute_result"
    }
   ],
   "source": [
    "lda = LatentDirichletAllocation(\n",
    "    n_components=5,\n",
    "    random_state=0,\n",
    "    doc_topic_prior= 1,\n",
    "    topic_word_prior= 1,\n",
    ")\n",
    "lda.fit(docs_np)"
   ]
  },
  {
   "cell_type": "code",
   "execution_count": 57,
   "metadata": {},
   "outputs": [
    {
     "data": {
      "text/plain": [
       "-848.1362078657901"
      ]
     },
     "execution_count": 57,
     "metadata": {},
     "output_type": "execute_result"
    }
   ],
   "source": [
    "lda._approx_bound(\n",
    "    docs, \n",
    "    doc_topic_distr=np.array(\n",
    "        [\n",
    "            [4.84708219, 4.78292693, 4.77347267, 4.77347428, 4.96278368],\n",
    "            [4.84708219, 4.78292693, 4.77347267, 4.77347428, 4.96278368],\n",
    "            [4.84708219, 4.78292693, 4.77347267, 4.77347428, 4.96278368],\n",
    "        ]\n",
    "    ), # this term is var inf parameter, gamma \n",
    "    sub_sampling=False\n",
    ")"
   ]
  },
  {
   "cell_type": "code",
   "execution_count": 55,
   "metadata": {},
   "outputs": [
    {
     "data": {
      "text/plain": [
       "-353568206.5163521"
      ]
     },
     "execution_count": 55,
     "metadata": {},
     "output_type": "execute_result"
    }
   ],
   "source": [
    "lda._approx_bound(\n",
    "    docs, \n",
    "    doc_topic_distr=np.array(\n",
    "    [\n",
    "        [4.84708219, 4.78292693, 4.77347267, 4.77347428, 4.96278368],\n",
    "        [4.84708219, 4.78292693, 4.77347267, 4.77347428, 4.96278368],\n",
    "        [4.84708219, 4.78292693, 4.77347267, 4.77347428, 4.96278368]\n",
    "    ]\n",
    "    ), \n",
    "    sub_sampling=True\n",
    ")"
   ]
  },
  {
   "cell_type": "code",
   "execution_count": null,
   "metadata": {},
   "outputs": [],
   "source": []
  }
 ],
 "metadata": {
  "kernelspec": {
   "display_name": ".venv",
   "language": "python",
   "name": "python3"
  },
  "language_info": {
   "codemirror_mode": {
    "name": "ipython",
    "version": 3
   },
   "file_extension": ".py",
   "mimetype": "text/x-python",
   "name": "python",
   "nbconvert_exporter": "python",
   "pygments_lexer": "ipython3",
   "version": "3.8.9"
  },
  "orig_nbformat": 4,
  "vscode": {
   "interpreter": {
    "hash": "e026e684521c612822fbb31521a7b705da4f7f2b939b93351f3c885564d078c6"
   }
  }
 },
 "nbformat": 4,
 "nbformat_minor": 2
}
