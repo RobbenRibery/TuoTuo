{
 "cells": [
  {
   "cell_type": "code",
   "execution_count": 1,
   "metadata": {},
   "outputs": [
    {
     "name": "stderr",
     "output_type": "stream",
     "text": [
      "/Users/ericliu/Desktop/Latent-Dirichilet-Allocation/.venv/lib/python3.8/site-packages/tqdm/auto.py:22: TqdmWarning: IProgress not found. Please update jupyter and ipywidgets. See https://ipywidgets.readthedocs.io/en/stable/user_install.html\n",
      "  from .autonotebook import tqdm as notebook_tqdm\n"
     ]
    }
   ],
   "source": [
    "%load_ext autoreload\n",
    "%autoreload 2\n",
    "import sys \n",
    "if '/Users/ericliu/Desktop/Latent-Dirichilet-Allocation' not in sys.path: \n",
    "    sys.path.append('/Users/ericliu/Desktop/Latent-Dirichilet-Allocation')\n",
    "import torch as tr \n",
    "import numpy as np \n",
    "import pandas as pd \n",
    "from collections import defaultdict\n",
    "from pprint import pprint\n",
    "from scipy.special import psi, polygamma, gammaln, loggamma\n",
    "import numpy as np\n",
    "import matplotlib.pyplot as plt\n",
    "import seaborn as sns \n",
    "from src.lda_model import LDASmoothed \n",
    "from src.generator import doc_generator \n",
    "from src.utils import (\n",
    "    get_vocab_from_docs, \n",
    "    get_np_wct, \n",
    "    data_loader,\n",
    "    text_pipeline, \n",
    "    process_documents,\n",
    ") \n",
    "from src.text_pre_processor import (\n",
    "    remove_accented_chars, \n",
    "    remove_special_characters, \n",
    "    remove_punctuation,\n",
    "    remove_extra_whitespace_tabs,\n",
    "    remove_stopwords,\n",
    ")\n",
    "from pprint import pprint \n",
    "import copy "
   ]
  },
  {
   "cell_type": "code",
   "execution_count": 36,
   "metadata": {},
   "outputs": [
    {
     "data": {
      "text/plain": [
       "607.6654075771932"
      ]
     },
     "execution_count": 36,
     "metadata": {},
     "output_type": "execute_result"
    }
   ],
   "source": [
    "5*gammaln(22*2) - 5 * 22 * gammaln(2)"
   ]
  },
  {
   "cell_type": "code",
   "execution_count": 38,
   "metadata": {},
   "outputs": [
    {
     "data": {
      "text/plain": [
       "0.0"
      ]
     },
     "execution_count": 38,
     "metadata": {},
     "output_type": "execute_result"
    }
   ],
   "source": [
    "5 * 22 * gammaln(2) "
   ]
  },
  {
   "cell_type": "code",
   "execution_count": 40,
   "metadata": {},
   "outputs": [
    {
     "data": {
      "text/plain": [
       "0.0"
      ]
     },
     "execution_count": 40,
     "metadata": {},
     "output_type": "execute_result"
    }
   ],
   "source": [
    "22 * gammaln(1) "
   ]
  },
  {
   "cell_type": "code",
   "execution_count": 37,
   "metadata": {},
   "outputs": [
    {
     "data": {
      "text/plain": [
       "607.6654075771932"
      ]
     },
     "execution_count": 37,
     "metadata": {},
     "output_type": "execute_result"
    }
   ],
   "source": [
    "5*gammaln(22*2) -  22 * gammaln(2)"
   ]
  },
  {
   "cell_type": "code",
   "execution_count": 2,
   "metadata": {},
   "outputs": [
    {
     "name": "stdout",
     "output_type": "stream",
     "text": [
      "Document: 0 | word: 0 -> topic: health -> word: injection\n",
      "Document: 0 | word: 1 -> topic: science -> word: astrophysics\n",
      "Document: 0 | word: 2 -> topic: health -> word: decongestant\n",
      "Document: 0 | word: 3 -> topic: art -> word: Craftsmanship\n",
      "Document: 0 | word: 4 -> topic: health -> word: exercise\n",
      "Document: 0 | word: 5 -> topic: law -> word: attorney\n",
      "Document: 0 | word: 6 -> topic: health -> word: decongestant\n",
      "Document: 0 | word: 7 -> topic: health -> word: fever\n",
      "Document: 0 | word: 8 -> topic: health -> word: Symmetrical\n",
      "Document: 0 | word: 9 -> topic: sport -> word: evidence\n",
      "Document 0: injection astrophysics decongestant Craftsmanship exercise attorney decongestant fever Symmetrical evidence\n",
      "\n",
      "Document: 1 | word: 0 -> topic: science -> word: immunology\n",
      "Document: 1 | word: 1 -> topic: sport -> word: electricity\n",
      "Document: 1 | word: 2 -> topic: art -> word: energy\n",
      "Document: 1 | word: 3 -> topic: sport -> word: physical\n",
      "Document: 1 | word: 4 -> topic: sport -> word: athletics\n",
      "Document: 1 | word: 5 -> topic: science -> word: allergy\n",
      "Document: 1 | word: 6 -> topic: sport -> word: bruise\n",
      "Document: 1 | word: 7 -> topic: science -> word: infection\n",
      "Document: 1 | word: 8 -> topic: science -> word: genetics\n",
      "Document: 1 | word: 9 -> topic: sport -> word: form\n",
      "Document 1: immunology electricity energy physical athletics allergy bruise infection genetics form\n",
      "\n",
      "Document: 2 | word: 0 -> topic: art -> word: form\n",
      "Document: 2 | word: 1 -> topic: science -> word: physical\n",
      "Document: 2 | word: 2 -> topic: art -> word: Symmetrical\n",
      "Document: 2 | word: 3 -> topic: art -> word: appetite\n",
      "Document: 2 | word: 4 -> topic: sport -> word: athletics\n",
      "Document: 2 | word: 5 -> topic: art -> word: asymmetrical\n",
      "Document: 2 | word: 6 -> topic: art -> word: Craftsmanship\n",
      "Document: 2 | word: 7 -> topic: art -> word: Symmetrical\n",
      "Document: 2 | word: 8 -> topic: health -> word: Technique\n",
      "Document: 2 | word: 9 -> topic: sport -> word: energy\n",
      "Document 2: form physical Symmetrical appetite athletics asymmetrical Craftsmanship Symmetrical Technique energy\n",
      "\n"
     ]
    }
   ],
   "source": [
    "gen = doc_generator(\n",
    "    M = 3,\n",
    "    L = 20, \n",
    "    topic_prior = tr.tensor([1,1,1,1,1], dtype=tr.double)\n",
    ")\n",
    "\n",
    "docs = gen.generate_doc()"
   ]
  },
  {
   "cell_type": "code",
   "execution_count": 3,
   "metadata": {},
   "outputs": [
    {
     "name": "stdout",
     "output_type": "stream",
     "text": [
      "There are 3 documents in the dataset after processing\n",
      "On average estimated document length is 10.0 words per document after processing\n",
      "There are 22 unique vocab in the corpus after processing\n"
     ]
    }
   ],
   "source": [
    "result = process_documents(docs, sample=True) "
   ]
  },
  {
   "cell_type": "code",
   "execution_count": 4,
   "metadata": {},
   "outputs": [],
   "source": [
    "import warnings\n",
    "def init_lda(docs, vocab, n_topic, gibbs=False, random_state=0):\n",
    "    if gibbs:\n",
    "        global V, k, N, M, alpha, eta, n_iw, n_di\n",
    "    else:\n",
    "        global V, k, N, M, alpha, beta, gamma, phi\n",
    "        \n",
    "    np.random.seed(random_state)\n",
    "\n",
    "    V = len(vocab)\n",
    "    k = n_topic  # number of topics\n",
    "    N = np.array([doc.shape[0] for doc in docs])\n",
    "    M = len(docs)\n",
    "\n",
    "    print(f\"V: {V}\\nk: {k}\\nN: {N[:10]}...\\nM: {M}\")\n",
    "\n",
    "    # initialize α, β\n",
    "    np.random.random(42)\n",
    "    if gibbs:\n",
    "        alpha = np.random.gamma(shape=100, scale=0.01, size=1)  # one for all k\n",
    "        eta = np.random.gamma(shape=100, scale=0.01, size=1)  # one for all V\n",
    "        print(f\"α: {alpha}\\nη: {eta}\")\n",
    "        \n",
    "        n_iw = np.zeros((k, V), dtype=int)\n",
    "        n_di = np.zeros((M, k), dtype=int)\n",
    "        print(f\"n_iw: dim {n_iw.shape}\\nn_di: dim {n_di.shape}\")\n",
    "    else:\n",
    "        alpha = np.random.gamma(shape=100, scale=0.01, size=k) #np.random.rand(k)\n",
    "        beta = np.random.dirichlet(np.ones(V), k)\n",
    "        print(f\"α: dim {alpha.shape}\\nβ: dim {beta.shape}\")\n",
    "\n",
    "        # initialize ϕ, γ\n",
    "        ## ϕ: (M x max(N) x k) arrays with zero paddings on the right\n",
    "        gamma = alpha + np.ones((M, k)) * N.reshape(-1, 1) / k\n",
    "\n",
    "        phi = np.ones((M, max(N), k)) / k\n",
    "        for m, N_d in enumerate(N):\n",
    "            phi[m, N_d:, :] = 0  # zero padding for vectorized operations\n",
    "\n",
    "        print(f\"γ: dim {gamma.shape}\\nϕ: dim ({len(phi)}, N_d, {phi[0].shape[1]})\")\n",
    "\n",
    "def E_step(docs, phi, gamma, alpha, beta):\n",
    "    \"\"\"\n",
    "    Minorize the joint likelihood function via variational inference.\n",
    "    This is the E-step of variational EM algorithm for LDA.\n",
    "    \"\"\"\n",
    "    # optimize phi\n",
    "    for m in range(M):\n",
    "        #print(N[m], docs[m])\n",
    "        phi[m, :N[m], :] = (beta[:, docs[m]] * np.exp(\n",
    "            psi(gamma[m, :]) - psi(gamma[m, :].sum())\n",
    "        ).reshape(-1, 1)).T\n",
    "\n",
    "        # Normalize phi\n",
    "        phi[m, :N[m]] /= phi[m, :N[m]].sum(axis=1).reshape(-1, 1)\n",
    "        if np.any(np.isnan(phi)):\n",
    "            raise ValueError(\"phi nan\")\n",
    "\n",
    "    # optimize gamma\n",
    "    gamma = alpha + phi.sum(axis=1)\n",
    "\n",
    "    return phi, gamma\n",
    "\n",
    "\n",
    "def M_step(docs, phi, gamma, alpha, beta, M):\n",
    "    \"\"\"\n",
    "    maximize the lower bound of the likelihood.\n",
    "    This is the M-step of variational EM algorithm for (smoothed) LDA.\n",
    "    \n",
    "    update of alpha follows from appendix A.2 of Blei et al., 2003.\n",
    "    \"\"\"\n",
    "    # update alpha\n",
    "    alpha = _update(alpha, gamma, M)\n",
    "    \n",
    "    # update beta\n",
    "    for j in range(V):\n",
    "        beta[:, j] = np.array([_phi_dot_w(docs, phi, m, j) for m in range(M)]).sum(axis=0)\n",
    "    beta /= beta.sum(axis=1).reshape(-1, 1)\n",
    "\n",
    "    return alpha, beta\n",
    "\n",
    "def _update(var, vi_var, const, max_iter=10000, tol=1e-6):\n",
    "    \"\"\"\n",
    "    From appendix A.2 of Blei et al., 2003.\n",
    "    For hessian with shape `H = diag(h) + 1z1'`\n",
    "    \n",
    "    To update alpha, input var=alpha and vi_var=gamma, const=M.\n",
    "    To update eta, input var=eta and vi_var=lambda, const=k.\n",
    "    \"\"\"\n",
    "    for _ in range(max_iter):\n",
    "        # store old value\n",
    "        var0 = var.copy()\n",
    "        \n",
    "        # g: gradient \n",
    "        psi_sum = psi(vi_var.sum(axis=1)).reshape(-1, 1)\n",
    "        g = const * (psi(var.sum()) - psi(var)) \\\n",
    "            + (psi(vi_var) - psi_sum).sum(axis=0)\n",
    "\n",
    "        # H = diag(h) + 1z1'\n",
    "        z = const * polygamma(1, var.sum())  # z: Hessian constant component\n",
    "        h = -const * polygamma(1, var)       # h: Hessian diagonal component\n",
    "        c = (g / h).sum() / (1./z + (1./h).sum())\n",
    "\n",
    "        # update var\n",
    "        var -= (g - c) / h\n",
    "        print(f\"{vi_var.sum()}|{var0} -> {var}\")\n",
    "        \n",
    "        # check convergence\n",
    "        err = np.sqrt(np.mean((var - var0) ** 2))\n",
    "        crit = err < tol\n",
    "        if crit:\n",
    "            break\n",
    "    else:\n",
    "        warnings.warn(f\"max_iter={max_iter} reached: values might not be optimal.\")\n",
    "    \n",
    "    #print(err)\n",
    "    return var\n",
    "\n",
    "def _phi_dot_w(docs, phi, d, j):\n",
    "    \"\"\"\n",
    "    \\sum_{n=1}^{N_d} ϕ_{dni} w_{dn}^j\n",
    "    \"\"\"\n",
    "    # doc = np.zeros(docs[m].shape[0] * V, dtype=int)\n",
    "    # doc[np.arange(0, docs[m].shape[0] * V, V) + docs[m]] = 1\n",
    "    # doc = doc.reshape(-1, V)\n",
    "    # lam += phi[m, :N[m], :].T @ doc\n",
    "    return (docs[d] == j) @ phi[d, :N[d], :]\n",
    "\n",
    "def dg(gamma, d, i):\n",
    "    \"\"\"\n",
    "    E[log θ_t] where θ_t ~ Dir(gamma)\n",
    "    \"\"\"\n",
    "    return psi(gamma[d, i]) - psi(np.sum(gamma[d, :]))\n",
    "\n",
    "\n",
    "def dl(lam, i, w_n):\n",
    "    \"\"\"\n",
    "    E[log β_t] where β_t ~ Dir(lam)\n",
    "    \"\"\"\n",
    "    return psi(lam[i, w_n]) - psi(np.sum(lam[i, :]))\n",
    "\n",
    "def vlb(docs, phi, gamma, alpha, beta, M, N, k):\n",
    "    \"\"\"\n",
    "    Average variational lower bound for joint log likelihood.\n",
    "    \"\"\"\n",
    "    lb = 0\n",
    "    for d in range(M):\n",
    "        lb += (\n",
    "            gammaln(np.sum(alpha))\n",
    "            - np.sum(gammaln(alpha))\n",
    "            + np.sum([(alpha[i] - 1) * dg(gamma, d, i) for i in range(k)])\n",
    "        )\n",
    "\n",
    "        lb -= (\n",
    "            gammaln(np.sum(gamma[d, :]))\n",
    "            - np.sum(gammaln(gamma[d, :]))\n",
    "            + np.sum([(gamma[d, i] - 1) * dg(gamma, d, i) for i in range(k)])\n",
    "        )\n",
    "\n",
    "        for n in range(N[d]):\n",
    "            w_n = int(docs[d][n])\n",
    "\n",
    "            lb += np.sum([phi[d][n, i] * dg(gamma, d, i) for i in range(k)])\n",
    "            lb += np.sum([phi[d][n, i] * np.log(beta[i, w_n]) for i in range(k)])\n",
    "            lb -= np.sum([phi[d][n, i] * np.log(phi[d][n, i]) for i in range(k)])\n",
    "\n",
    "    return lb / M"
   ]
  },
  {
   "cell_type": "code",
   "execution_count": 5,
   "metadata": {},
   "outputs": [
    {
     "data": {
      "text/plain": [
       "{'injection': 0,\n",
       " 'astrophysics': 1,\n",
       " 'decongestant': 2,\n",
       " 'Craftsmanship': 3,\n",
       " 'exercise': 4,\n",
       " 'attorney': 5,\n",
       " 'fever': 6,\n",
       " 'Symmetrical': 7,\n",
       " 'evidence': 8,\n",
       " 'immunology': 9,\n",
       " 'electricity': 10,\n",
       " 'energy': 11,\n",
       " 'physical': 12,\n",
       " 'athletics': 13,\n",
       " 'allergy': 14,\n",
       " 'bruise': 15,\n",
       " 'infection': 16,\n",
       " 'genetics': 17,\n",
       " 'form': 18,\n",
       " 'appetite': 19,\n",
       " 'asymmetrical': 20,\n",
       " 'Technique': 21}"
      ]
     },
     "execution_count": 5,
     "metadata": {},
     "output_type": "execute_result"
    }
   ],
   "source": [
    "result['vocab_to_idx']"
   ]
  },
  {
   "cell_type": "code",
   "execution_count": 6,
   "metadata": {},
   "outputs": [
    {
     "data": {
      "text/plain": [
       "{0: 'injection astrophysics decongestant Craftsmanship exercise attorney decongestant fever Symmetrical evidence',\n",
       " 1: 'immunology electricity energy physical athletics allergy bruise infection genetics form',\n",
       " 2: 'form physical Symmetrical appetite athletics asymmetrical Craftsmanship Symmetrical Technique energy'}"
      ]
     },
     "execution_count": 6,
     "metadata": {},
     "output_type": "execute_result"
    }
   ],
   "source": [
    "docs"
   ]
  },
  {
   "cell_type": "code",
   "execution_count": 7,
   "metadata": {},
   "outputs": [
    {
     "data": {
      "text/plain": [
       "[array([0, 1, 2, 3, 4, 5, 2, 6, 7, 8]),\n",
       " array([ 9, 10, 11, 12, 13, 14, 15, 16, 17, 18]),\n",
       " array([18, 12,  7, 19, 13, 20,  3,  7, 21, 11])]"
      ]
     },
     "execution_count": 7,
     "metadata": {},
     "output_type": "execute_result"
    }
   ],
   "source": [
    "docs_np = []\n",
    "for doc in result['documents']: \n",
    "\n",
    "    doc_idx = []\n",
    "    for n in range(len(doc)): \n",
    "\n",
    "        doc_idx.append(result['vocab_to_idx'][doc[n]])\n",
    "\n",
    "    \n",
    "    docs_np.append(np.array(doc_idx))\n",
    "docs_np"
   ]
  },
  {
   "cell_type": "code",
   "execution_count": 8,
   "metadata": {},
   "outputs": [],
   "source": [
    "docs = docs_np"
   ]
  },
  {
   "cell_type": "code",
   "execution_count": 9,
   "metadata": {},
   "outputs": [
    {
     "name": "stdout",
     "output_type": "stream",
     "text": [
      "V: 22\n",
      "k: 5\n",
      "N: [10 10 10]...\n",
      "M: 3\n",
      "α: dim (5,)\n",
      "β: dim (5, 22)\n",
      "γ: dim (3, 5)\n",
      "ϕ: dim (3, N_d, 5)\n"
     ]
    }
   ],
   "source": [
    "init_lda(docs, set(result['vocab_to_idx'].keys()), n_topic=5)"
   ]
  },
  {
   "cell_type": "code",
   "execution_count": 10,
   "metadata": {},
   "outputs": [
    {
     "data": {
      "text/plain": [
       "array([0.9623354 , 1.01235711, 0.95849651, 0.96679042, 0.8358445 ])"
      ]
     },
     "execution_count": 10,
     "metadata": {},
     "output_type": "execute_result"
    }
   ],
   "source": [
    "alpha"
   ]
  },
  {
   "cell_type": "code",
   "execution_count": 11,
   "metadata": {},
   "outputs": [
    {
     "data": {
      "text/plain": [
       "array([[2.9623354 , 3.01235711, 2.95849651, 2.96679042, 2.8358445 ],\n",
       "       [2.9623354 , 3.01235711, 2.95849651, 2.96679042, 2.8358445 ],\n",
       "       [2.9623354 , 3.01235711, 2.95849651, 2.96679042, 2.8358445 ]])"
      ]
     },
     "execution_count": 11,
     "metadata": {},
     "output_type": "execute_result"
    }
   ],
   "source": [
    "gamma"
   ]
  },
  {
   "cell_type": "code",
   "execution_count": 12,
   "metadata": {},
   "outputs": [
    {
     "data": {
      "text/plain": [
       "array([[[0.2, 0.2, 0.2, 0.2, 0.2],\n",
       "        [0.2, 0.2, 0.2, 0.2, 0.2],\n",
       "        [0.2, 0.2, 0.2, 0.2, 0.2],\n",
       "        [0.2, 0.2, 0.2, 0.2, 0.2],\n",
       "        [0.2, 0.2, 0.2, 0.2, 0.2],\n",
       "        [0.2, 0.2, 0.2, 0.2, 0.2],\n",
       "        [0.2, 0.2, 0.2, 0.2, 0.2],\n",
       "        [0.2, 0.2, 0.2, 0.2, 0.2],\n",
       "        [0.2, 0.2, 0.2, 0.2, 0.2],\n",
       "        [0.2, 0.2, 0.2, 0.2, 0.2]],\n",
       "\n",
       "       [[0.2, 0.2, 0.2, 0.2, 0.2],\n",
       "        [0.2, 0.2, 0.2, 0.2, 0.2],\n",
       "        [0.2, 0.2, 0.2, 0.2, 0.2],\n",
       "        [0.2, 0.2, 0.2, 0.2, 0.2],\n",
       "        [0.2, 0.2, 0.2, 0.2, 0.2],\n",
       "        [0.2, 0.2, 0.2, 0.2, 0.2],\n",
       "        [0.2, 0.2, 0.2, 0.2, 0.2],\n",
       "        [0.2, 0.2, 0.2, 0.2, 0.2],\n",
       "        [0.2, 0.2, 0.2, 0.2, 0.2],\n",
       "        [0.2, 0.2, 0.2, 0.2, 0.2]],\n",
       "\n",
       "       [[0.2, 0.2, 0.2, 0.2, 0.2],\n",
       "        [0.2, 0.2, 0.2, 0.2, 0.2],\n",
       "        [0.2, 0.2, 0.2, 0.2, 0.2],\n",
       "        [0.2, 0.2, 0.2, 0.2, 0.2],\n",
       "        [0.2, 0.2, 0.2, 0.2, 0.2],\n",
       "        [0.2, 0.2, 0.2, 0.2, 0.2],\n",
       "        [0.2, 0.2, 0.2, 0.2, 0.2],\n",
       "        [0.2, 0.2, 0.2, 0.2, 0.2],\n",
       "        [0.2, 0.2, 0.2, 0.2, 0.2],\n",
       "        [0.2, 0.2, 0.2, 0.2, 0.2]]])"
      ]
     },
     "execution_count": 12,
     "metadata": {},
     "output_type": "execute_result"
    }
   ],
   "source": [
    "phi"
   ]
  },
  {
   "cell_type": "code",
   "execution_count": 31,
   "metadata": {},
   "outputs": [
    {
     "name": "stdout",
     "output_type": "stream",
     "text": [
      "22\n"
     ]
    }
   ],
   "source": [
    "print(len(result['vocab_to_idx']))"
   ]
  },
  {
   "cell_type": "code",
   "execution_count": 34,
   "metadata": {},
   "outputs": [
    {
     "name": "stdout",
     "output_type": "stream",
     "text": [
      "[1.04708219 0.98292693 0.97347267 0.97347428 1.16278368]\n",
      "[[5.24708219 5.18292693 5.17347267 5.17347428 5.36278368]\n",
      " [5.24708219 5.18292693 5.17347267 5.17347428 5.36278368]\n",
      " [5.24708219 5.18292693 5.17347267 5.17347428 5.36278368]]\n"
     ]
    }
   ],
   "source": [
    "np.random.seed(42)\n",
    "\n",
    "_alpha_ = np.random.gamma(shape=100, scale=0.01, size=5)\n",
    "_gamma_ = _alpha_ + np.ones((M, k)) * 21 / k\n",
    "\n",
    "print(_alpha_)\n",
    "print(_gamma_)"
   ]
  },
  {
   "cell_type": "code",
   "execution_count": 35,
   "metadata": {},
   "outputs": [
    {
     "name": "stdout",
     "output_type": "stream",
     "text": [
      "78.4192192526763|[1.04708219 0.98292693 0.97347267 0.97347428 1.16278368] -> [1.79562569 1.71883122 1.70721122 1.70721321 1.92565069]\n",
      "78.4192192526763|[1.79562569 1.71883122 1.70721122 1.70721321 1.92565069] -> [2.89706016 2.81739023 2.80519713 2.80519922 3.0290319 ]\n",
      "78.4192192526763|[2.89706016 2.81739023 2.80519713 2.80519922 3.0290319 ] -> [4.15126141 4.07750791 4.06632234 4.06632425 4.27649846]\n",
      "78.4192192526763|[4.15126141 4.07750791 4.06632234 4.06632425 4.27649846] -> [5.00796502 4.94131996 4.93140917 4.93141086 5.12604242]\n",
      "78.4192192526763|[5.00796502 4.94131996 4.93140917 4.93141086 5.12604242] -> [5.23567369 5.17138297 5.16190351 5.16190513 5.35149999]\n",
      "78.4192192526763|[5.23567369 5.17138297 5.16190351 5.16190513 5.35149999] -> [5.24705619 5.18290058 5.17344626 5.17344787 5.36275799]\n",
      "78.4192192526763|[5.24705619 5.18290058 5.17344626 5.17344787 5.36275799] -> [5.24708219 5.18292693 5.17347267 5.17347428 5.36278368]\n",
      "78.4192192526763|[5.24708219 5.18292693 5.17347267 5.17347428 5.36278368] -> [5.24708219 5.18292693 5.17347267 5.17347428 5.36278368]\n"
     ]
    },
    {
     "data": {
      "text/plain": [
       "array([5.24708219, 5.18292693, 5.17347267, 5.17347428, 5.36278368])"
      ]
     },
     "execution_count": 35,
     "metadata": {},
     "output_type": "execute_result"
    }
   ],
   "source": [
    "_update(_alpha_, _gamma_, M)"
   ]
  },
  {
   "cell_type": "code",
   "execution_count": 25,
   "metadata": {},
   "outputs": [
    {
     "name": "stdout",
     "output_type": "stream",
     "text": [
      "5\n",
      "19\n"
     ]
    }
   ],
   "source": [
    "V = 19 \n",
    "print(k)\n",
    "print(V)"
   ]
  },
  {
   "cell_type": "code",
   "execution_count": 26,
   "metadata": {},
   "outputs": [
    {
     "name": "stdout",
     "output_type": "stream",
     "text": [
      "1\n",
      "[[1.04708219 0.98292693 0.97347267 0.97347428 1.16278368 1.07526208\n",
      "  0.95052839 1.05181933 1.02101821 0.81760009 0.89893338 1.0283693\n",
      "  1.15026429 0.97429619 0.94330106 1.00778149 0.9378975  0.96782864\n",
      "  0.9953198 ]\n",
      " [0.89475728 1.08105987 0.87968664 0.86986295 1.01644942 1.07222286\n",
      "  1.01387299 0.98516565 0.96690772 0.95138329 1.10597141 1.02937237\n",
      "  0.95871485 0.93060329 1.05898791 1.1031785  1.09256024 0.91521059\n",
      "  0.96611462]\n",
      " [0.94959045 0.9782464  1.08000428 1.13828828 1.03320764 0.93363961\n",
      "  0.99309432 1.16117251 1.00538214 0.96711283 0.97489658 1.03274514\n",
      "  0.91811143 0.94740917 1.09087585 1.02984852 1.00638968 1.09653088\n",
      "  0.92820856]\n",
      " [0.96431168 1.02652255 1.02295647 0.86193808 0.95525935 0.98065155\n",
      "  1.03755099 1.02260049 0.98925295 0.81711981 0.99402204 1.00269174\n",
      "  1.26335968 0.97758574 1.02707522 1.11516717 1.07363499 1.14337395\n",
      "  0.86316381]\n",
      " [0.90101275 0.9411936  0.84973584 1.00352721 0.90766658 1.15954736\n",
      "  0.92049911 0.96485874 1.0801087  0.87876646 0.84464572 1.01521312\n",
      "  1.02283738 1.07677376 1.04968711 1.02661057 0.93030741 1.02003357\n",
      "  1.02621227]]\n"
     ]
    }
   ],
   "source": [
    "_eta_ = 1\n",
    "np.random.seed(42)\n",
    "_lambda_ = np.random.gamma(shape=100, scale=0.01, size=(k, V))\n",
    "\n",
    "print(_eta_)\n",
    "print(_lambda_)"
   ]
  },
  {
   "cell_type": "code",
   "execution_count": 27,
   "metadata": {},
   "outputs": [
    {
     "data": {
      "text/plain": [
       "array([1.04708219, 0.98292693, 0.97347267, 0.97347428, 1.16278368,\n",
       "       1.07526208, 0.95052839, 1.05181933, 1.02101821, 0.81760009,\n",
       "       0.89893338, 1.0283693 , 1.15026429, 0.97429619, 0.94330106,\n",
       "       1.00778149, 0.9378975 , 0.96782864, 0.9953198 ])"
      ]
     },
     "execution_count": 27,
     "metadata": {},
     "output_type": "execute_result"
    }
   ],
   "source": [
    "_lambda_[0]"
   ]
  },
  {
   "cell_type": "code",
   "execution_count": 28,
   "metadata": {},
   "outputs": [],
   "source": [
    "def _update_eta(var, vi_var, const, max_iter=10000, tol=1e-9):\n",
    "    \"\"\"\n",
    "    From appendix A.2 of Blei et al., 2003.\n",
    "    For hessian with shape `H = diag(h) + 1z1'`\n",
    "    \n",
    "    To update alpha, input var=alpha and vi_var=gamma, const=M.\n",
    "    To update eta, input var=eta and vi_var=lambda, const=k.\n",
    "    \"\"\"\n",
    "    for _ in range(max_iter):\n",
    "        # store old value\n",
    "        var0 = var\n",
    "        \n",
    "        # g: gradient \n",
    "        psi_sum = psi(vi_var.sum(axis=1)).reshape(-1, 1)\n",
    "        g = const * (V*psi(V*var) - V*psi(var)) + np.sum(psi(vi_var)) - np.sum(V*(psi_sum))\n",
    "        #print(g)\n",
    "\n",
    "        # H = diag(h) + 1z1'\n",
    "        # z = const * polygamma(1, var.sum())  # z: Hessian constant component\n",
    "        # h = -const * polygamma(1, var)       # h: Hessian diagonal component\n",
    "        # c = (g / h).sum() / (1./z + (1./h).sum())\n",
    "\n",
    "        h = const * (V**2 * polygamma(1, V*var) - V * polygamma(1, var))\n",
    "\n",
    "        # # update var\n",
    "        var -= g/h\n",
    "        print(f\"{g}, {h}, {var0} -> {var}\")\n",
    "\n",
    "        if var == np.inf or var == -np.inf: \n",
    "            raise ValueError(f\"Grad -> {g}, Hessian -> {h}, overflow\")\n",
    "        \n",
    "        # check convergence\n",
    "        err = np.sqrt(np.mean((var - var0) ** 2))\n",
    "        crit = err < tol\n",
    "        if crit:\n",
    "            break\n",
    "    else:\n",
    "        warnings.warn(f\"max_iter={max_iter} reached: values might not be optimal.\")\n",
    "    \n",
    "    #print(err)\n",
    "    return var"
   ]
  },
  {
   "cell_type": "code",
   "execution_count": 29,
   "metadata": {},
   "outputs": [
    {
     "name": "stdout",
     "output_type": "stream",
     "text": [
      "-0.8517960407552891, -58.72490095253988, 1 -> 0.985495147255443\n",
      "0.013704776840540944, -60.62945883574141, 0.985495147255443 -> 0.9857211888052723\n",
      "3.433071356084838e-06, -60.599086980475064, 0.9857211888052723 -> 0.9857212454574683\n",
      "2.2737367544323206e-13, -60.59907937125736, 0.9857212454574683 -> 0.9857212454574721\n"
     ]
    },
    {
     "data": {
      "text/plain": [
       "0.9857212454574721"
      ]
     },
     "execution_count": 29,
     "metadata": {},
     "output_type": "execute_result"
    }
   ],
   "source": [
    "_update_eta(1, _lambda_, k)"
   ]
  },
  {
   "cell_type": "code",
   "execution_count": null,
   "metadata": {},
   "outputs": [],
   "source": [
    "_update()"
   ]
  },
  {
   "cell_type": "code",
   "execution_count": 47,
   "metadata": {},
   "outputs": [
    {
     "name": "stdout",
     "output_type": "stream",
     "text": [
      "45.912398470001705|[1.18335424 1.03715177 1.1949785  0.90225084 0.98639747] -> [1.73826588 1.72348485 1.81439381 1.34476821 1.6441462 ]\n",
      "45.912398470001705|[1.73826588 1.72348485 1.81439381 1.34476821 1.6441462 ] -> [2.3167313  2.49773291 2.46711123 1.80097078 2.39044765]\n",
      "45.912398470001705|[2.3167313  2.49773291 2.46711123 1.80097078 2.39044765] -> [2.67856843 3.00225603 2.87683695 2.0835062  2.87898895]\n",
      "45.912398470001705|[2.67856843 3.00225603 2.87683695 2.0835062  2.87898895] -> [2.76380019 3.12393204 2.97345962 2.14956357 2.99722601]\n",
      "45.912398470001705|[2.76380019 3.12393204 2.97345962 2.14956357 2.99722601] -> [2.76730548 3.12902289 2.97743433 2.1522629  3.00218893]\n",
      "45.912398470001705|[2.76730548 3.12902289 2.97743433 2.1522629  3.00218893] -> [2.76731107 3.12903114 2.97744067 2.15226717 3.00219699]\n",
      "45.912398470001705|[2.76731107 3.12903114 2.97744067 2.15226717 3.00219699] -> [2.76731107 3.12903114 2.97744067 2.15226717 3.00219699]\n",
      " 000:  variational_lb: -30.853,  error:  inf\n",
      "72.08474111266669|[2.76731107 3.12903114 2.97744067 2.15226717 3.00219699] -> [3.64072156 4.17340573 3.95984634 2.8125004  3.99321473]\n",
      "72.08474111266669|[3.64072156 4.17340573 3.95984634 2.8125004  3.99321473] -> [4.04311233 4.65714664 4.41441585 3.11576675 4.45176832]\n",
      "72.08474111266669|[4.04311233 4.65714664 4.41441585 3.11576675 4.45176832] -> [4.0963316  4.72134834 4.47470559 3.15579897 4.51258612]\n",
      "72.08474111266669|[4.0963316  4.72134834 4.47470559 3.15579897 4.51258612] -> [4.09708829 4.72226396 4.47556491 3.1563672  4.51345296]\n",
      "72.08474111266669|[4.09708829 4.72226396 4.47556491 3.1563672  4.51345296] -> [4.09708844 4.72226414 4.47556508 3.15636731 4.51345313]\n",
      " 001:  variational_lb: -30.226,  error:  0.627\n",
      "92.89421429385264|[4.09708844 4.72226414 4.47556508 3.15636731 4.51345313] -> [4.90310386 5.70219641 5.411853   3.79291939 5.42804878]\n",
      "92.89421429385264|[4.90310386 5.70219641 5.411853   3.79291939 5.42804878] -> [5.11075585 5.95541888 5.65401655 3.95724009 5.66402721]\n",
      "92.89421429385264|[5.11075585 5.95541888 5.65401655 3.95724009 5.66402721] -> [5.12058618 5.96743317 5.66551427 3.96503078 5.67521059]\n",
      "92.89421429385264|[5.12058618 5.96743317 5.66551427 3.96503078 5.67521059] -> [5.12060642 5.96745796 5.66553801 3.96504684 5.67523365]\n",
      "92.89421429385264|[5.12060642 5.96745796 5.66553801 3.96504684 5.67523365] -> [5.12060642 5.96745796 5.66553801 3.96504684 5.67523365]\n",
      " 002:  variational_lb: -29.952,  error:  0.273\n",
      "109.1816486380741|[5.12060642 5.96745796 5.66553801 3.96504684 5.67523365] -> [5.7486865  6.756422   6.42843122 4.4948943  6.39954196]\n",
      "109.1816486380741|[5.7486865  6.756422   6.42843122 4.4948943  6.39954196] -> [5.84541564 6.87818213 6.5463289  4.57685971 6.51116658]\n",
      "109.1816486380741|[5.84541564 6.87818213 6.5463289  4.57685971 6.51116658] -> [5.84723313 6.88047361 6.54855024 4.57840547 6.51326498]\n",
      "109.1816486380741|[5.84723313 6.88047361 6.54855024 4.57840547 6.51326498] -> [5.84723376 6.88047439 6.548551   4.578406   6.51326569]\n",
      " 003:  variational_lb: -29.785,  error:  0.168\n",
      "121.10379251758862|[5.84723376 6.88047439 6.548551   4.578406   6.51326569] -> [6.24939576 7.41751002 7.07761864 4.95762146 6.99438087]\n",
      "121.10379251758862|[6.24939576 7.41751002 7.07761864 4.95762146 6.99438087] -> [6.28507097 7.46500143 7.12447963 4.99134367 7.0369217 ]\n",
      "121.10379251758862|[6.28507097 7.46500143 7.12447963 4.99134367 7.0369217 ] -> [6.28531224 7.46532175 7.12479613 4.99157229 7.03720863]\n",
      "121.10379251758862|[6.28531224 7.46532175 7.12479613 4.99157229 7.03720863] -> [6.28531225 7.46532176 7.12479614 4.9915723  7.03720864]\n",
      " 004:  variational_lb: -29.663,  error:  0.122\n",
      "128.71263326587027|[6.28531225 7.46532176 7.12479614 4.9915723  7.03720864] -> [6.43938517 7.71926611 7.38934676 5.19540667 7.2500529 ]\n",
      "128.71263326587027|[6.43938517 7.71926611 7.38934676 5.19540667 7.2500529 ] -> [6.44666701 7.73027765 7.4007319  5.2041969  7.25947349]\n",
      "128.71263326587027|[6.44666701 7.73027765 7.4007319  5.2041969  7.25947349] -> [6.44667971 7.73029605 7.40075085 5.20421161 7.25948941]\n",
      "128.71263326587027|[6.44667971 7.73029605 7.40075085 5.20421161 7.25948941] -> [6.44667971 7.73029605 7.40075085 5.20421161 7.25948941]\n",
      " 005:  variational_lb: -29.561,  error:  0.102\n",
      "132.1242828842335|[6.44667971 7.73029605 7.40075085 5.20421161 7.25948941] -> [6.34760578 7.6897452  7.38902032 5.22172114 7.19770974]\n",
      "132.1242828842335|[6.34760578 7.6897452  7.38902032 5.22172114 7.19770974] -> [6.35049324 7.6924021  7.39146796 5.22342758 7.20036044]\n",
      "132.1242828842335|[6.35049324 7.6924021  7.39146796 5.22342758 7.20036044] -> [6.35049448 7.69240324 7.39146901 5.22342831 7.20036156]\n",
      "132.1242828842335|[6.35049448 7.69240324 7.39146901 5.22342831 7.20036156] -> [6.35049448 7.69240324 7.39146901 5.22342831 7.20036156]\n",
      " 006:  variational_lb: -29.467,  error:  0.094\n",
      " ========== TRAINING FINISHED ==========\n",
      "CPU times: user 15.9 ms, sys: 1.85 ms, total: 17.8 ms\n",
      "Wall time: 16.4 ms\n"
     ]
    }
   ],
   "source": [
    "%%time\n",
    "N_EPOCH = 1000\n",
    "TOL = 0.1\n",
    "\n",
    "verbose = True\n",
    "lb = -np.inf\n",
    "\n",
    "for epoch in range(N_EPOCH): \n",
    "    # store old value\n",
    "    lb_old = lb \n",
    "    \n",
    "    # Variational EM\n",
    "    phi, gamma = E_step(docs, phi, gamma, alpha, beta)\n",
    "    alpha, beta = M_step(docs, phi, gamma, alpha, beta, M)\n",
    "    \n",
    "    # check anomaly\n",
    "    if np.any(np.isnan(alpha)):\n",
    "        print(\"NaN detected: alpha\")\n",
    "        break\n",
    "    \n",
    "    # check convergence\n",
    "    lb = vlb(docs, phi, gamma, alpha, beta, M, N, k)\n",
    "    err = abs(lb - lb_old)\n",
    "    \n",
    "    # check anomaly\n",
    "    if np.isnan(lb):\n",
    "        print(\"NaN detected: lb\")\n",
    "        break\n",
    "        \n",
    "    if verbose:\n",
    "        print(f\"{epoch: 04}:  variational_lb: {lb: .3f},  error: {err: .3f}\")\n",
    "    \n",
    "    if err < TOL:\n",
    "        break\n",
    "else:\n",
    "    warnings.warn(f\"max_iter reached: values might not be optimal.\")\n",
    "\n",
    "print(\" ========== TRAINING FINISHED ==========\")"
   ]
  },
  {
   "cell_type": "code",
   "execution_count": null,
   "metadata": {},
   "outputs": [],
   "source": [
    "np.random.seed(42)\n",
    "\n",
    "_alpha_ = np.random.gamma(shape=100, scale=0.01, size=5)\n",
    "_gamma_ = _alpha_ + np.ones((M, 10)) * 10 / 5\n"
   ]
  },
  {
   "cell_type": "code",
   "execution_count": 14,
   "metadata": {},
   "outputs": [
    {
     "data": {
      "text/plain": [
       "array([6.35049448, 7.69240324, 7.39146901, 5.22342831, 7.20036156])"
      ]
     },
     "execution_count": 14,
     "metadata": {},
     "output_type": "execute_result"
    }
   ],
   "source": [
    "alpha "
   ]
  },
  {
   "cell_type": "code",
   "execution_count": 15,
   "metadata": {},
   "outputs": [
    {
     "data": {
      "text/plain": [
       "array([[0.07400785, 0.14550193, 0.18075127, 0.01376765, 0.02578853,\n",
       "        0.00450348, 0.06253672, 0.08156986, 0.10041701, 0.06151805,\n",
       "        0.03819088, 0.03338672, 0.038713  , 0.00971253, 0.02052171,\n",
       "        0.00168327, 0.06356642, 0.00347359, 0.02345899, 0.00141224,\n",
       "        0.01551829],\n",
       "       [0.05505653, 0.13390507, 0.0012131 , 0.17568639, 0.14754379,\n",
       "        0.14400777, 0.09256184, 0.05702787, 0.01292405, 0.00270679,\n",
       "        0.0083801 , 0.00098671, 0.00826088, 0.04601553, 0.00139751,\n",
       "        0.00044219, 0.00964543, 0.00246672, 0.04286658, 0.00307505,\n",
       "        0.0538301 ],\n",
       "       [0.00113359, 0.00435   , 0.00131078, 0.09023193, 0.01676564,\n",
       "        0.09682216, 0.00105029, 0.00100453, 0.0108035 , 0.00658834,\n",
       "        0.00136415, 0.00455233, 0.00452761, 0.20450217, 0.00079125,\n",
       "        0.00763315, 0.01627071, 0.12942339, 0.20310205, 0.12678065,\n",
       "        0.07099178],\n",
       "       [0.03791479, 0.00198767, 0.00663336, 0.00697271, 0.14571166,\n",
       "        0.02789297, 0.00384071, 0.00831163, 0.0056685 , 0.11448456,\n",
       "        0.12071435, 0.10096018, 0.11475278, 0.01599438, 0.10459739,\n",
       "        0.17489899, 0.0025035 , 0.00154028, 0.00183985, 0.00172096,\n",
       "        0.00105877],\n",
       "       [0.00640383, 0.04926881, 0.00045481, 0.18129675, 0.00072096,\n",
       "        0.19953743, 0.00354392, 0.02316744, 0.21447598, 0.00423292,\n",
       "        0.01889154, 0.04473923, 0.02005332, 0.0246596 , 0.05672707,\n",
       "        0.00596378, 0.0797439 , 0.01096988, 0.02996974, 0.01497296,\n",
       "        0.01020613]])"
      ]
     },
     "execution_count": 15,
     "metadata": {},
     "output_type": "execute_result"
    }
   ],
   "source": [
    "beta "
   ]
  },
  {
   "cell_type": "code",
   "execution_count": 16,
   "metadata": {},
   "outputs": [
    {
     "data": {
      "text/plain": [
       "array([[ 9.43061307, 11.83846511,  8.05761531,  5.86301808,  8.85171606],\n",
       "       [ 7.83473102,  8.80924744,  8.5312483 ,  9.56677131,  9.29942956],\n",
       "       [ 7.30802872,  9.29018623, 12.50237239,  5.3282612 ,  9.61257909]])"
      ]
     },
     "execution_count": 16,
     "metadata": {},
     "output_type": "execute_result"
    }
   ],
   "source": [
    "gamma"
   ]
  },
  {
   "cell_type": "code",
   "execution_count": 17,
   "metadata": {},
   "outputs": [
    {
     "data": {
      "text/plain": [
       "array([[[0.38730778, 0.37146697, 0.00780928, 0.19508738, 0.03832859],\n",
       "        [0.38073006, 0.45172946, 0.01498353, 0.0051137 , 0.14744324],\n",
       "        [0.94593173, 0.00818479, 0.00902995, 0.03413139, 0.00272214],\n",
       "        [0.02613875, 0.42801611, 0.17700026, 0.0125832 , 0.35626167],\n",
       "        [0.07383752, 0.57645515, 0.05663298, 0.29094579, 0.00212856],\n",
       "        [0.02613875, 0.42801611, 0.17700026, 0.0125832 , 0.35626167],\n",
       "        [0.00896085, 0.38328767, 0.185269  , 0.04071927, 0.38176321],\n",
       "        [0.32727554, 0.62451571, 0.00723545, 0.01976203, 0.02121127],\n",
       "        [0.38073006, 0.45172946, 0.01498353, 0.0051137 , 0.14744324],\n",
       "        [0.42688232, 0.38476762, 0.00692021, 0.0427668 , 0.13866306]],\n",
       "\n",
       "       [[0.27397908, 0.04225919, 0.03023781, 0.01891114, 0.63461278],\n",
       "        [0.32194448, 0.01826274, 0.04538696, 0.58907069, 0.02533514],\n",
       "        [0.1998656 , 0.0565406 , 0.00939758, 0.6211255 , 0.11307073],\n",
       "        [0.17472387, 0.00665735, 0.03136095, 0.51948208, 0.26777575],\n",
       "        [0.20259807, 0.05573623, 0.03119065, 0.59045079, 0.12002427],\n",
       "        [0.02967806, 0.17007285, 0.66005978, 0.05791651, 0.0822728 ],\n",
       "        [0.00793359, 0.29798556, 0.20596292, 0.06867666, 0.41944127],\n",
       "        [0.10739697, 0.00942902, 0.00545092, 0.53819704, 0.33952604],\n",
       "        [0.00880914, 0.00298346, 0.05258461, 0.89992801, 0.03569478],\n",
       "        [0.06112246, 0.41902439, 0.05886526, 0.4588013 , 0.00218658]],\n",
       "\n",
       "       [[0.01977321, 0.32932574, 0.26760573, 0.01071111, 0.37258422],\n",
       "        [0.33266427, 0.06507781, 0.11208865, 0.01288157, 0.47728769],\n",
       "        [0.02115082, 0.14039443, 0.74875229, 0.02438125, 0.06532121],\n",
       "        [0.01817847, 0.01664301, 0.89159561, 0.00792538, 0.06565754],\n",
       "        [0.06138436, 0.14461063, 0.69958334, 0.00473339, 0.08968828],\n",
       "        [0.06138436, 0.14461063, 0.69958334, 0.00473339, 0.08968828],\n",
       "        [0.00739071, 0.02074742, 0.87338982, 0.00885503, 0.08961701],\n",
       "        [0.08121242, 0.36319229, 0.48906117, 0.00544782, 0.06108631],\n",
       "        [0.25153662, 0.04493949, 0.04418729, 0.01025565, 0.64908094],\n",
       "        [0.00667377, 0.29034873, 0.2757743 , 0.034125  , 0.3930782 ]]])"
      ]
     },
     "execution_count": 17,
     "metadata": {},
     "output_type": "execute_result"
    }
   ],
   "source": [
    "phi"
   ]
  },
  {
   "cell_type": "code",
   "execution_count": null,
   "metadata": {},
   "outputs": [],
   "source": [
    "e"
   ]
  }
 ],
 "metadata": {
  "kernelspec": {
   "display_name": ".venv",
   "language": "python",
   "name": "python3"
  },
  "language_info": {
   "codemirror_mode": {
    "name": "ipython",
    "version": 3
   },
   "file_extension": ".py",
   "mimetype": "text/x-python",
   "name": "python",
   "nbconvert_exporter": "python",
   "pygments_lexer": "ipython3",
   "version": "3.8.9"
  },
  "orig_nbformat": 4
 },
 "nbformat": 4,
 "nbformat_minor": 2
}
